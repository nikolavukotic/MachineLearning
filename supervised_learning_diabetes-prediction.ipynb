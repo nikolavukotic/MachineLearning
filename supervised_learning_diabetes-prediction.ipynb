{
 "cells": [
  {
   "cell_type": "markdown",
   "id": "b43ca5e0",
   "metadata": {},
   "source": [
    "# Mašinsko učenje\n",
    "## Projekat 1 - Nadgledano učenje\n",
    "### Nikola Vukotić 1401,  Željko Balanović 1533\n",
    "### Prognoza rizika od dijabetesa\n",
    "#### Dataset: https://archive.ics.uci.edu/ml/datasets/Early+stage+diabetes+risk+prediction+dataset.\n",
    "#### Klasifikacija\n",
    "#### Google Search : diabetes site:archive.ics.uci.edu/ml site:ics.uci.edu"
   ]
  },
  {
   "cell_type": "code",
   "execution_count": 1,
   "id": "ca33d482",
   "metadata": {},
   "outputs": [],
   "source": [
    "import pandas as pd\n",
    "import numpy as np\n",
    "import random\n",
    "import matplotlib.pyplot as plt\n",
    "import seaborn as sn\n",
    "import math\n",
    "import statistics\n",
    "import scipy.stats\n",
    "\n",
    "from sklearn.tree import DecisionTreeClassifier\n",
    "from sklearn import tree\n",
    "from sklearn.ensemble import GradientBoostingClassifier, RandomForestClassifier\n",
    "from sklearn.dummy import DummyClassifier\n",
    "from sklearn.feature_selection import RFE\n",
    "from sklearn.decomposition import PCA\n",
    "from statistics import mean\n",
    "from scipy.stats import uniform\n"
   ]
  },
  {
   "cell_type": "code",
   "execution_count": 136,
   "id": "876b4f7d",
   "metadata": {},
   "outputs": [
    {
     "name": "stdout",
     "output_type": "stream",
     "text": [
      "Collecting hyperopt\n",
      "  Downloading hyperopt-0.2.7-py2.py3-none-any.whl (1.6 MB)\n",
      "     ---------------------------------------- 1.6/1.6 MB 3.5 MB/s eta 0:00:00\n",
      "Requirement already satisfied: six in c:\\users\\nikol\\appdata\\roaming\\python\\python38\\site-packages (from hyperopt) (1.15.0)\n",
      "Collecting cloudpickle\n",
      "  Downloading cloudpickle-2.2.0-py3-none-any.whl (25 kB)\n",
      "Collecting py4j\n",
      "  Downloading py4j-0.10.9.7-py2.py3-none-any.whl (200 kB)\n",
      "     -------------------------------------- 200.5/200.5 kB 4.1 MB/s eta 0:00:00\n",
      "Collecting networkx>=2.2\n",
      "  Downloading networkx-3.0-py3-none-any.whl (2.0 MB)\n",
      "     ---------------------------------------- 2.0/2.0 MB 3.3 MB/s eta 0:00:00\n",
      "Requirement already satisfied: scipy in c:\\users\\nikol\\appdata\\local\\programs\\python\\python38\\lib\\site-packages (from hyperopt) (1.5.2)\n",
      "Collecting future\n",
      "  Downloading future-0.18.2.tar.gz (829 kB)\n",
      "     -------------------------------------- 829.2/829.2 kB 3.5 MB/s eta 0:00:00\n",
      "  Preparing metadata (setup.py): started\n",
      "  Preparing metadata (setup.py): finished with status 'done'\n",
      "Requirement already satisfied: numpy in c:\\users\\nikol\\appdata\\local\\programs\\python\\python38\\lib\\site-packages (from hyperopt) (1.19.2)\n",
      "Requirement already satisfied: tqdm in c:\\users\\nikol\\appdata\\local\\programs\\python\\python38\\lib\\site-packages (from hyperopt) (4.56.0)\n",
      "Using legacy 'setup.py install' for future, since package 'wheel' is not installed.\n",
      "Installing collected packages: py4j, networkx, future, cloudpickle, hyperopt\n",
      "  Running setup.py install for future: started\n",
      "  Running setup.py install for future: finished with status 'done'\n",
      "Successfully installed cloudpickle-2.2.0 future-0.18.2 hyperopt-0.2.7 networkx-3.0 py4j-0.10.9.7\n",
      "\n",
      "[notice] A new release of pip available: 22.1.2 -> 22.3.1\n",
      "[notice] To update, run: c:\\users\\nikol\\appdata\\local\\programs\\python\\python38\\python.exe -m pip install --upgrade pip\n",
      "Note: you may need to restart the kernel to use updated packages.\n"
     ]
    }
   ],
   "source": [
    "pip install hyperopt "
   ]
  },
  {
   "cell_type": "code",
   "execution_count": 2,
   "id": "8cf62cda",
   "metadata": {},
   "outputs": [],
   "source": [
    "data_df = pd.read_csv('diabetes_data.csv')"
   ]
  },
  {
   "cell_type": "code",
   "execution_count": 3,
   "id": "b8914694",
   "metadata": {},
   "outputs": [
    {
     "data": {
      "text/html": [
       "<div>\n",
       "<style scoped>\n",
       "    .dataframe tbody tr th:only-of-type {\n",
       "        vertical-align: middle;\n",
       "    }\n",
       "\n",
       "    .dataframe tbody tr th {\n",
       "        vertical-align: top;\n",
       "    }\n",
       "\n",
       "    .dataframe thead th {\n",
       "        text-align: right;\n",
       "    }\n",
       "</style>\n",
       "<table border=\"1\" class=\"dataframe\">\n",
       "  <thead>\n",
       "    <tr style=\"text-align: right;\">\n",
       "      <th></th>\n",
       "      <th>Age</th>\n",
       "      <th>Gender</th>\n",
       "      <th>Polyuria</th>\n",
       "      <th>Polydipsia</th>\n",
       "      <th>sudden weight loss</th>\n",
       "      <th>weakness</th>\n",
       "      <th>Polyphagia</th>\n",
       "      <th>Genital thrush</th>\n",
       "      <th>visual blurring</th>\n",
       "      <th>Itching</th>\n",
       "      <th>Irritability</th>\n",
       "      <th>delayed healing</th>\n",
       "      <th>partial paresis</th>\n",
       "      <th>muscle stiffness</th>\n",
       "      <th>Alopecia</th>\n",
       "      <th>Obesity</th>\n",
       "      <th>class</th>\n",
       "    </tr>\n",
       "  </thead>\n",
       "  <tbody>\n",
       "    <tr>\n",
       "      <th>0</th>\n",
       "      <td>40</td>\n",
       "      <td>Male</td>\n",
       "      <td>No</td>\n",
       "      <td>Yes</td>\n",
       "      <td>No</td>\n",
       "      <td>Yes</td>\n",
       "      <td>No</td>\n",
       "      <td>No</td>\n",
       "      <td>No</td>\n",
       "      <td>Yes</td>\n",
       "      <td>No</td>\n",
       "      <td>Yes</td>\n",
       "      <td>No</td>\n",
       "      <td>Yes</td>\n",
       "      <td>Yes</td>\n",
       "      <td>Yes</td>\n",
       "      <td>Positive</td>\n",
       "    </tr>\n",
       "    <tr>\n",
       "      <th>1</th>\n",
       "      <td>58</td>\n",
       "      <td>Male</td>\n",
       "      <td>No</td>\n",
       "      <td>No</td>\n",
       "      <td>No</td>\n",
       "      <td>Yes</td>\n",
       "      <td>No</td>\n",
       "      <td>No</td>\n",
       "      <td>Yes</td>\n",
       "      <td>No</td>\n",
       "      <td>No</td>\n",
       "      <td>No</td>\n",
       "      <td>Yes</td>\n",
       "      <td>No</td>\n",
       "      <td>Yes</td>\n",
       "      <td>No</td>\n",
       "      <td>Positive</td>\n",
       "    </tr>\n",
       "    <tr>\n",
       "      <th>2</th>\n",
       "      <td>41</td>\n",
       "      <td>Male</td>\n",
       "      <td>Yes</td>\n",
       "      <td>No</td>\n",
       "      <td>No</td>\n",
       "      <td>Yes</td>\n",
       "      <td>Yes</td>\n",
       "      <td>No</td>\n",
       "      <td>No</td>\n",
       "      <td>Yes</td>\n",
       "      <td>No</td>\n",
       "      <td>Yes</td>\n",
       "      <td>No</td>\n",
       "      <td>Yes</td>\n",
       "      <td>Yes</td>\n",
       "      <td>No</td>\n",
       "      <td>Positive</td>\n",
       "    </tr>\n",
       "    <tr>\n",
       "      <th>3</th>\n",
       "      <td>45</td>\n",
       "      <td>Male</td>\n",
       "      <td>No</td>\n",
       "      <td>No</td>\n",
       "      <td>Yes</td>\n",
       "      <td>Yes</td>\n",
       "      <td>Yes</td>\n",
       "      <td>Yes</td>\n",
       "      <td>No</td>\n",
       "      <td>Yes</td>\n",
       "      <td>No</td>\n",
       "      <td>Yes</td>\n",
       "      <td>No</td>\n",
       "      <td>No</td>\n",
       "      <td>No</td>\n",
       "      <td>No</td>\n",
       "      <td>Positive</td>\n",
       "    </tr>\n",
       "    <tr>\n",
       "      <th>4</th>\n",
       "      <td>60</td>\n",
       "      <td>Male</td>\n",
       "      <td>Yes</td>\n",
       "      <td>Yes</td>\n",
       "      <td>Yes</td>\n",
       "      <td>Yes</td>\n",
       "      <td>Yes</td>\n",
       "      <td>No</td>\n",
       "      <td>Yes</td>\n",
       "      <td>Yes</td>\n",
       "      <td>Yes</td>\n",
       "      <td>Yes</td>\n",
       "      <td>Yes</td>\n",
       "      <td>Yes</td>\n",
       "      <td>Yes</td>\n",
       "      <td>Yes</td>\n",
       "      <td>Positive</td>\n",
       "    </tr>\n",
       "  </tbody>\n",
       "</table>\n",
       "</div>"
      ],
      "text/plain": [
       "   Age Gender Polyuria Polydipsia sudden weight loss weakness Polyphagia  \\\n",
       "0   40   Male       No        Yes                 No      Yes         No   \n",
       "1   58   Male       No         No                 No      Yes         No   \n",
       "2   41   Male      Yes         No                 No      Yes        Yes   \n",
       "3   45   Male       No         No                Yes      Yes        Yes   \n",
       "4   60   Male      Yes        Yes                Yes      Yes        Yes   \n",
       "\n",
       "  Genital thrush visual blurring Itching Irritability delayed healing  \\\n",
       "0             No              No     Yes           No             Yes   \n",
       "1             No             Yes      No           No              No   \n",
       "2             No              No     Yes           No             Yes   \n",
       "3            Yes              No     Yes           No             Yes   \n",
       "4             No             Yes     Yes          Yes             Yes   \n",
       "\n",
       "  partial paresis muscle stiffness Alopecia Obesity     class  \n",
       "0              No              Yes      Yes     Yes  Positive  \n",
       "1             Yes               No      Yes      No  Positive  \n",
       "2              No              Yes      Yes      No  Positive  \n",
       "3              No               No       No      No  Positive  \n",
       "4             Yes              Yes      Yes     Yes  Positive  "
      ]
     },
     "execution_count": 3,
     "metadata": {},
     "output_type": "execute_result"
    }
   ],
   "source": [
    "data_df.head()"
   ]
  },
  {
   "cell_type": "code",
   "execution_count": 4,
   "id": "83aa4bdd",
   "metadata": {},
   "outputs": [
    {
     "data": {
      "text/html": [
       "<div>\n",
       "<style scoped>\n",
       "    .dataframe tbody tr th:only-of-type {\n",
       "        vertical-align: middle;\n",
       "    }\n",
       "\n",
       "    .dataframe tbody tr th {\n",
       "        vertical-align: top;\n",
       "    }\n",
       "\n",
       "    .dataframe thead th {\n",
       "        text-align: right;\n",
       "    }\n",
       "</style>\n",
       "<table border=\"1\" class=\"dataframe\">\n",
       "  <thead>\n",
       "    <tr style=\"text-align: right;\">\n",
       "      <th></th>\n",
       "      <th>Age</th>\n",
       "      <th>Gender</th>\n",
       "      <th>Polyuria</th>\n",
       "      <th>Polydipsia</th>\n",
       "      <th>sudden weight loss</th>\n",
       "      <th>weakness</th>\n",
       "      <th>Polyphagia</th>\n",
       "      <th>Genital thrush</th>\n",
       "      <th>visual blurring</th>\n",
       "      <th>Itching</th>\n",
       "      <th>Irritability</th>\n",
       "      <th>delayed healing</th>\n",
       "      <th>partial paresis</th>\n",
       "      <th>muscle stiffness</th>\n",
       "      <th>Alopecia</th>\n",
       "      <th>Obesity</th>\n",
       "      <th>class</th>\n",
       "    </tr>\n",
       "  </thead>\n",
       "  <tbody>\n",
       "    <tr>\n",
       "      <th>0</th>\n",
       "      <td>40</td>\n",
       "      <td>Male</td>\n",
       "      <td>No</td>\n",
       "      <td>Yes</td>\n",
       "      <td>No</td>\n",
       "      <td>Yes</td>\n",
       "      <td>No</td>\n",
       "      <td>No</td>\n",
       "      <td>No</td>\n",
       "      <td>Yes</td>\n",
       "      <td>No</td>\n",
       "      <td>Yes</td>\n",
       "      <td>No</td>\n",
       "      <td>Yes</td>\n",
       "      <td>Yes</td>\n",
       "      <td>Yes</td>\n",
       "      <td>Positive</td>\n",
       "    </tr>\n",
       "    <tr>\n",
       "      <th>1</th>\n",
       "      <td>58</td>\n",
       "      <td>Male</td>\n",
       "      <td>No</td>\n",
       "      <td>No</td>\n",
       "      <td>No</td>\n",
       "      <td>Yes</td>\n",
       "      <td>No</td>\n",
       "      <td>No</td>\n",
       "      <td>Yes</td>\n",
       "      <td>No</td>\n",
       "      <td>No</td>\n",
       "      <td>No</td>\n",
       "      <td>Yes</td>\n",
       "      <td>No</td>\n",
       "      <td>Yes</td>\n",
       "      <td>No</td>\n",
       "      <td>Positive</td>\n",
       "    </tr>\n",
       "    <tr>\n",
       "      <th>2</th>\n",
       "      <td>41</td>\n",
       "      <td>Male</td>\n",
       "      <td>Yes</td>\n",
       "      <td>No</td>\n",
       "      <td>No</td>\n",
       "      <td>Yes</td>\n",
       "      <td>Yes</td>\n",
       "      <td>No</td>\n",
       "      <td>No</td>\n",
       "      <td>Yes</td>\n",
       "      <td>No</td>\n",
       "      <td>Yes</td>\n",
       "      <td>No</td>\n",
       "      <td>Yes</td>\n",
       "      <td>Yes</td>\n",
       "      <td>No</td>\n",
       "      <td>Positive</td>\n",
       "    </tr>\n",
       "    <tr>\n",
       "      <th>3</th>\n",
       "      <td>45</td>\n",
       "      <td>Male</td>\n",
       "      <td>No</td>\n",
       "      <td>No</td>\n",
       "      <td>Yes</td>\n",
       "      <td>Yes</td>\n",
       "      <td>Yes</td>\n",
       "      <td>Yes</td>\n",
       "      <td>No</td>\n",
       "      <td>Yes</td>\n",
       "      <td>No</td>\n",
       "      <td>Yes</td>\n",
       "      <td>No</td>\n",
       "      <td>No</td>\n",
       "      <td>No</td>\n",
       "      <td>No</td>\n",
       "      <td>Positive</td>\n",
       "    </tr>\n",
       "    <tr>\n",
       "      <th>4</th>\n",
       "      <td>60</td>\n",
       "      <td>Male</td>\n",
       "      <td>Yes</td>\n",
       "      <td>Yes</td>\n",
       "      <td>Yes</td>\n",
       "      <td>Yes</td>\n",
       "      <td>Yes</td>\n",
       "      <td>No</td>\n",
       "      <td>Yes</td>\n",
       "      <td>Yes</td>\n",
       "      <td>Yes</td>\n",
       "      <td>Yes</td>\n",
       "      <td>Yes</td>\n",
       "      <td>Yes</td>\n",
       "      <td>Yes</td>\n",
       "      <td>Yes</td>\n",
       "      <td>Positive</td>\n",
       "    </tr>\n",
       "    <tr>\n",
       "      <th>...</th>\n",
       "      <td>...</td>\n",
       "      <td>...</td>\n",
       "      <td>...</td>\n",
       "      <td>...</td>\n",
       "      <td>...</td>\n",
       "      <td>...</td>\n",
       "      <td>...</td>\n",
       "      <td>...</td>\n",
       "      <td>...</td>\n",
       "      <td>...</td>\n",
       "      <td>...</td>\n",
       "      <td>...</td>\n",
       "      <td>...</td>\n",
       "      <td>...</td>\n",
       "      <td>...</td>\n",
       "      <td>...</td>\n",
       "      <td>...</td>\n",
       "    </tr>\n",
       "    <tr>\n",
       "      <th>515</th>\n",
       "      <td>39</td>\n",
       "      <td>Female</td>\n",
       "      <td>Yes</td>\n",
       "      <td>Yes</td>\n",
       "      <td>Yes</td>\n",
       "      <td>No</td>\n",
       "      <td>Yes</td>\n",
       "      <td>No</td>\n",
       "      <td>No</td>\n",
       "      <td>Yes</td>\n",
       "      <td>No</td>\n",
       "      <td>Yes</td>\n",
       "      <td>Yes</td>\n",
       "      <td>No</td>\n",
       "      <td>No</td>\n",
       "      <td>No</td>\n",
       "      <td>Positive</td>\n",
       "    </tr>\n",
       "    <tr>\n",
       "      <th>516</th>\n",
       "      <td>48</td>\n",
       "      <td>Female</td>\n",
       "      <td>Yes</td>\n",
       "      <td>Yes</td>\n",
       "      <td>Yes</td>\n",
       "      <td>Yes</td>\n",
       "      <td>Yes</td>\n",
       "      <td>No</td>\n",
       "      <td>No</td>\n",
       "      <td>Yes</td>\n",
       "      <td>Yes</td>\n",
       "      <td>Yes</td>\n",
       "      <td>Yes</td>\n",
       "      <td>No</td>\n",
       "      <td>No</td>\n",
       "      <td>No</td>\n",
       "      <td>Positive</td>\n",
       "    </tr>\n",
       "    <tr>\n",
       "      <th>517</th>\n",
       "      <td>58</td>\n",
       "      <td>Female</td>\n",
       "      <td>Yes</td>\n",
       "      <td>Yes</td>\n",
       "      <td>Yes</td>\n",
       "      <td>Yes</td>\n",
       "      <td>Yes</td>\n",
       "      <td>No</td>\n",
       "      <td>Yes</td>\n",
       "      <td>No</td>\n",
       "      <td>No</td>\n",
       "      <td>No</td>\n",
       "      <td>Yes</td>\n",
       "      <td>Yes</td>\n",
       "      <td>No</td>\n",
       "      <td>Yes</td>\n",
       "      <td>Positive</td>\n",
       "    </tr>\n",
       "    <tr>\n",
       "      <th>518</th>\n",
       "      <td>32</td>\n",
       "      <td>Female</td>\n",
       "      <td>No</td>\n",
       "      <td>No</td>\n",
       "      <td>No</td>\n",
       "      <td>Yes</td>\n",
       "      <td>No</td>\n",
       "      <td>No</td>\n",
       "      <td>Yes</td>\n",
       "      <td>Yes</td>\n",
       "      <td>No</td>\n",
       "      <td>Yes</td>\n",
       "      <td>No</td>\n",
       "      <td>No</td>\n",
       "      <td>Yes</td>\n",
       "      <td>No</td>\n",
       "      <td>Negative</td>\n",
       "    </tr>\n",
       "    <tr>\n",
       "      <th>519</th>\n",
       "      <td>42</td>\n",
       "      <td>Male</td>\n",
       "      <td>No</td>\n",
       "      <td>No</td>\n",
       "      <td>No</td>\n",
       "      <td>No</td>\n",
       "      <td>No</td>\n",
       "      <td>No</td>\n",
       "      <td>No</td>\n",
       "      <td>No</td>\n",
       "      <td>No</td>\n",
       "      <td>No</td>\n",
       "      <td>No</td>\n",
       "      <td>No</td>\n",
       "      <td>No</td>\n",
       "      <td>No</td>\n",
       "      <td>Negative</td>\n",
       "    </tr>\n",
       "  </tbody>\n",
       "</table>\n",
       "<p>520 rows × 17 columns</p>\n",
       "</div>"
      ],
      "text/plain": [
       "     Age  Gender Polyuria Polydipsia sudden weight loss weakness Polyphagia  \\\n",
       "0     40    Male       No        Yes                 No      Yes         No   \n",
       "1     58    Male       No         No                 No      Yes         No   \n",
       "2     41    Male      Yes         No                 No      Yes        Yes   \n",
       "3     45    Male       No         No                Yes      Yes        Yes   \n",
       "4     60    Male      Yes        Yes                Yes      Yes        Yes   \n",
       "..   ...     ...      ...        ...                ...      ...        ...   \n",
       "515   39  Female      Yes        Yes                Yes       No        Yes   \n",
       "516   48  Female      Yes        Yes                Yes      Yes        Yes   \n",
       "517   58  Female      Yes        Yes                Yes      Yes        Yes   \n",
       "518   32  Female       No         No                 No      Yes         No   \n",
       "519   42    Male       No         No                 No       No         No   \n",
       "\n",
       "    Genital thrush visual blurring Itching Irritability delayed healing  \\\n",
       "0               No              No     Yes           No             Yes   \n",
       "1               No             Yes      No           No              No   \n",
       "2               No              No     Yes           No             Yes   \n",
       "3              Yes              No     Yes           No             Yes   \n",
       "4               No             Yes     Yes          Yes             Yes   \n",
       "..             ...             ...     ...          ...             ...   \n",
       "515             No              No     Yes           No             Yes   \n",
       "516             No              No     Yes          Yes             Yes   \n",
       "517             No             Yes      No           No              No   \n",
       "518             No             Yes     Yes           No             Yes   \n",
       "519             No              No      No           No              No   \n",
       "\n",
       "    partial paresis muscle stiffness Alopecia Obesity     class  \n",
       "0                No              Yes      Yes     Yes  Positive  \n",
       "1               Yes               No      Yes      No  Positive  \n",
       "2                No              Yes      Yes      No  Positive  \n",
       "3                No               No       No      No  Positive  \n",
       "4               Yes              Yes      Yes     Yes  Positive  \n",
       "..              ...              ...      ...     ...       ...  \n",
       "515             Yes               No       No      No  Positive  \n",
       "516             Yes               No       No      No  Positive  \n",
       "517             Yes              Yes       No     Yes  Positive  \n",
       "518              No               No      Yes      No  Negative  \n",
       "519              No               No       No      No  Negative  \n",
       "\n",
       "[520 rows x 17 columns]"
      ]
     },
     "execution_count": 4,
     "metadata": {},
     "output_type": "execute_result"
    }
   ],
   "source": [
    "data_df"
   ]
  },
  {
   "cell_type": "code",
   "execution_count": 5,
   "id": "008d175b",
   "metadata": {},
   "outputs": [
    {
     "data": {
      "text/plain": [
       "(520, 17)"
      ]
     },
     "execution_count": 5,
     "metadata": {},
     "output_type": "execute_result"
    }
   ],
   "source": [
    "data_df.shape"
   ]
  },
  {
   "cell_type": "code",
   "execution_count": 6,
   "id": "75a1c5ed",
   "metadata": {},
   "outputs": [
    {
     "data": {
      "text/plain": [
       "DescribeResult(nobs=520, minmax=(16, 90), mean=48.02884615384615, variance=147.65812583370388, skewness=0.3293593578272701, kurtosis=-0.19170941407070163)"
      ]
     },
     "execution_count": 6,
     "metadata": {},
     "output_type": "execute_result"
    }
   ],
   "source": [
    "result = scipy.stats.describe(data_df[\"Age\"], ddof=1, bias=False)\n",
    "result"
   ]
  },
  {
   "cell_type": "code",
   "execution_count": 7,
   "id": "83bdc9bd",
   "metadata": {},
   "outputs": [
    {
     "data": {
      "text/html": [
       "<div>\n",
       "<style scoped>\n",
       "    .dataframe tbody tr th:only-of-type {\n",
       "        vertical-align: middle;\n",
       "    }\n",
       "\n",
       "    .dataframe tbody tr th {\n",
       "        vertical-align: top;\n",
       "    }\n",
       "\n",
       "    .dataframe thead th {\n",
       "        text-align: right;\n",
       "    }\n",
       "</style>\n",
       "<table border=\"1\" class=\"dataframe\">\n",
       "  <thead>\n",
       "    <tr style=\"text-align: right;\">\n",
       "      <th></th>\n",
       "      <th>Age</th>\n",
       "    </tr>\n",
       "  </thead>\n",
       "  <tbody>\n",
       "    <tr>\n",
       "      <th>count</th>\n",
       "      <td>520.000000</td>\n",
       "    </tr>\n",
       "    <tr>\n",
       "      <th>mean</th>\n",
       "      <td>48.028846</td>\n",
       "    </tr>\n",
       "    <tr>\n",
       "      <th>std</th>\n",
       "      <td>12.151466</td>\n",
       "    </tr>\n",
       "    <tr>\n",
       "      <th>min</th>\n",
       "      <td>16.000000</td>\n",
       "    </tr>\n",
       "    <tr>\n",
       "      <th>25%</th>\n",
       "      <td>39.000000</td>\n",
       "    </tr>\n",
       "    <tr>\n",
       "      <th>50%</th>\n",
       "      <td>47.500000</td>\n",
       "    </tr>\n",
       "    <tr>\n",
       "      <th>75%</th>\n",
       "      <td>57.000000</td>\n",
       "    </tr>\n",
       "    <tr>\n",
       "      <th>max</th>\n",
       "      <td>90.000000</td>\n",
       "    </tr>\n",
       "  </tbody>\n",
       "</table>\n",
       "</div>"
      ],
      "text/plain": [
       "              Age\n",
       "count  520.000000\n",
       "mean    48.028846\n",
       "std     12.151466\n",
       "min     16.000000\n",
       "25%     39.000000\n",
       "50%     47.500000\n",
       "75%     57.000000\n",
       "max     90.000000"
      ]
     },
     "execution_count": 7,
     "metadata": {},
     "output_type": "execute_result"
    }
   ],
   "source": [
    "data_df.describe()"
   ]
  },
  {
   "cell_type": "code",
   "execution_count": 8,
   "id": "184ab9c2",
   "metadata": {},
   "outputs": [
    {
     "data": {
      "text/plain": [
       "Age                   520\n",
       "Gender                520\n",
       "Polyuria              520\n",
       "Polydipsia            520\n",
       "sudden weight loss    520\n",
       "weakness              520\n",
       "Polyphagia            520\n",
       "Genital thrush        520\n",
       "visual blurring       520\n",
       "Itching               520\n",
       "Irritability          520\n",
       "delayed healing       520\n",
       "partial paresis       520\n",
       "muscle stiffness      520\n",
       "Alopecia              520\n",
       "Obesity               520\n",
       "class                 520\n",
       "dtype: int64"
      ]
     },
     "execution_count": 8,
     "metadata": {},
     "output_type": "execute_result"
    }
   ],
   "source": [
    "data_df.count()"
   ]
  },
  {
   "cell_type": "code",
   "execution_count": 9,
   "id": "426d8347",
   "metadata": {},
   "outputs": [
    {
     "name": "stdout",
     "output_type": "stream",
     "text": [
      "Maximum of column Age:  90\n",
      "Minimum of column Age:  16\n",
      "Mean of column Age:  48.02884615384615\n",
      "Count of column Age:  520\n"
     ]
    }
   ],
   "source": [
    "print('Maximum of column Age: ', data_df['Age'].max())\n",
    "print('Minimum of column Age: ', data_df['Age'].min())\n",
    "print('Mean of column Age: ', data_df['Age'].mean())\n",
    "print('Count of column Age: ', data_df['Age'].count())"
   ]
  },
  {
   "cell_type": "code",
   "execution_count": 10,
   "id": "c9ca5b13",
   "metadata": {},
   "outputs": [
    {
     "data": {
      "text/plain": [
       "array([[<AxesSubplot:title={'center':'Age'}>]], dtype=object)"
      ]
     },
     "execution_count": 10,
     "metadata": {},
     "output_type": "execute_result"
    },
    {
     "data": {
      "image/png": "[encoded data removed]",
      "text/plain": [
       "<Figure size 360x360 with 1 Axes>"
      ]
     },
     "metadata": {
      "needs_background": "light"
     },
     "output_type": "display_data"
    }
   ],
   "source": [
    "data_df.hist(figsize = (5,5))"
   ]
  },
  {
   "cell_type": "markdown",
   "id": "7994c864",
   "metadata": {},
   "source": [
    "## Konsultacije: 30.11.2022.\n",
    "### balansiranje podataka obavezno proveriti\n",
    "### OUTLIERI - pronaci i videti kako ih se resiti\n",
    "### problem: mala kolicina podataka, za kasnije faze moze biti problem, da se shvati\n",
    "### koji algoritam daje najbolje resenje, takodje moze biti problematicno kod redukcije feature-a\n",
    "### -------------------------------------------------------------------------------------------------------------------------------------------"
   ]
  },
  {
   "cell_type": "markdown",
   "id": "dbbe8d2d",
   "metadata": {},
   "source": [
    "### Obrada kategorickih podataka"
   ]
  },
  {
   "cell_type": "code",
   "execution_count": 11,
   "id": "300a5434",
   "metadata": {},
   "outputs": [
    {
     "data": {
      "text/html": [
       "<div>\n",
       "<style scoped>\n",
       "    .dataframe tbody tr th:only-of-type {\n",
       "        vertical-align: middle;\n",
       "    }\n",
       "\n",
       "    .dataframe tbody tr th {\n",
       "        vertical-align: top;\n",
       "    }\n",
       "\n",
       "    .dataframe thead th {\n",
       "        text-align: right;\n",
       "    }\n",
       "</style>\n",
       "<table border=\"1\" class=\"dataframe\">\n",
       "  <thead>\n",
       "    <tr style=\"text-align: right;\">\n",
       "      <th></th>\n",
       "      <th>Age</th>\n",
       "      <th>Gender</th>\n",
       "      <th>Polyuria</th>\n",
       "      <th>Polydipsia</th>\n",
       "      <th>sudden weight loss</th>\n",
       "      <th>weakness</th>\n",
       "      <th>Polyphagia</th>\n",
       "      <th>Genital thrush</th>\n",
       "      <th>visual blurring</th>\n",
       "      <th>Itching</th>\n",
       "      <th>Irritability</th>\n",
       "      <th>delayed healing</th>\n",
       "      <th>partial paresis</th>\n",
       "      <th>muscle stiffness</th>\n",
       "      <th>Alopecia</th>\n",
       "      <th>Obesity</th>\n",
       "      <th>class</th>\n",
       "    </tr>\n",
       "  </thead>\n",
       "  <tbody>\n",
       "    <tr>\n",
       "      <th>0</th>\n",
       "      <td>40</td>\n",
       "      <td>1</td>\n",
       "      <td>0</td>\n",
       "      <td>1</td>\n",
       "      <td>0</td>\n",
       "      <td>1</td>\n",
       "      <td>0</td>\n",
       "      <td>0</td>\n",
       "      <td>0</td>\n",
       "      <td>1</td>\n",
       "      <td>0</td>\n",
       "      <td>1</td>\n",
       "      <td>0</td>\n",
       "      <td>1</td>\n",
       "      <td>1</td>\n",
       "      <td>1</td>\n",
       "      <td>1</td>\n",
       "    </tr>\n",
       "    <tr>\n",
       "      <th>1</th>\n",
       "      <td>58</td>\n",
       "      <td>1</td>\n",
       "      <td>0</td>\n",
       "      <td>0</td>\n",
       "      <td>0</td>\n",
       "      <td>1</td>\n",
       "      <td>0</td>\n",
       "      <td>0</td>\n",
       "      <td>1</td>\n",
       "      <td>0</td>\n",
       "      <td>0</td>\n",
       "      <td>0</td>\n",
       "      <td>1</td>\n",
       "      <td>0</td>\n",
       "      <td>1</td>\n",
       "      <td>0</td>\n",
       "      <td>1</td>\n",
       "    </tr>\n",
       "    <tr>\n",
       "      <th>2</th>\n",
       "      <td>41</td>\n",
       "      <td>1</td>\n",
       "      <td>1</td>\n",
       "      <td>0</td>\n",
       "      <td>0</td>\n",
       "      <td>1</td>\n",
       "      <td>1</td>\n",
       "      <td>0</td>\n",
       "      <td>0</td>\n",
       "      <td>1</td>\n",
       "      <td>0</td>\n",
       "      <td>1</td>\n",
       "      <td>0</td>\n",
       "      <td>1</td>\n",
       "      <td>1</td>\n",
       "      <td>0</td>\n",
       "      <td>1</td>\n",
       "    </tr>\n",
       "    <tr>\n",
       "      <th>3</th>\n",
       "      <td>45</td>\n",
       "      <td>1</td>\n",
       "      <td>0</td>\n",
       "      <td>0</td>\n",
       "      <td>1</td>\n",
       "      <td>1</td>\n",
       "      <td>1</td>\n",
       "      <td>1</td>\n",
       "      <td>0</td>\n",
       "      <td>1</td>\n",
       "      <td>0</td>\n",
       "      <td>1</td>\n",
       "      <td>0</td>\n",
       "      <td>0</td>\n",
       "      <td>0</td>\n",
       "      <td>0</td>\n",
       "      <td>1</td>\n",
       "    </tr>\n",
       "    <tr>\n",
       "      <th>4</th>\n",
       "      <td>60</td>\n",
       "      <td>1</td>\n",
       "      <td>1</td>\n",
       "      <td>1</td>\n",
       "      <td>1</td>\n",
       "      <td>1</td>\n",
       "      <td>1</td>\n",
       "      <td>0</td>\n",
       "      <td>1</td>\n",
       "      <td>1</td>\n",
       "      <td>1</td>\n",
       "      <td>1</td>\n",
       "      <td>1</td>\n",
       "      <td>1</td>\n",
       "      <td>1</td>\n",
       "      <td>1</td>\n",
       "      <td>1</td>\n",
       "    </tr>\n",
       "  </tbody>\n",
       "</table>\n",
       "</div>"
      ],
      "text/plain": [
       "   Age  Gender  Polyuria  Polydipsia  sudden weight loss  weakness  \\\n",
       "0   40       1         0           1                   0         1   \n",
       "1   58       1         0           0                   0         1   \n",
       "2   41       1         1           0                   0         1   \n",
       "3   45       1         0           0                   1         1   \n",
       "4   60       1         1           1                   1         1   \n",
       "\n",
       "   Polyphagia  Genital thrush  visual blurring  Itching  Irritability  \\\n",
       "0           0               0                0        1             0   \n",
       "1           0               0                1        0             0   \n",
       "2           1               0                0        1             0   \n",
       "3           1               1                0        1             0   \n",
       "4           1               0                1        1             1   \n",
       "\n",
       "   delayed healing  partial paresis  muscle stiffness  Alopecia  Obesity  \\\n",
       "0                1                0                 1         1        1   \n",
       "1                0                1                 0         1        0   \n",
       "2                1                0                 1         1        0   \n",
       "3                1                0                 0         0        0   \n",
       "4                1                1                 1         1        1   \n",
       "\n",
       "   class  \n",
       "0      1  \n",
       "1      1  \n",
       "2      1  \n",
       "3      1  \n",
       "4      1  "
      ]
     },
     "execution_count": 11,
     "metadata": {},
     "output_type": "execute_result"
    }
   ],
   "source": [
    "data_df['Gender'] = [1 if gender=='Male' else 0 for gender in data_df.Gender]\n",
    "data_df['class'] = [1 if class_att=='Positive' else 0 for class_att in data_df.get('class')]\n",
    "\n",
    "columns_name = list(data_df)\n",
    "columns_name = columns_name[2:16]\n",
    "\n",
    "for col in columns_name:\n",
    "    data_df[col] = [1 if b=='Yes' else 0 for b in data_df.get(col)]\n",
    "\n",
    "data_df.head()"
   ]
  },
  {
   "cell_type": "markdown",
   "id": "612631d3",
   "metadata": {},
   "source": [
    "### Obrada nedostajucih podataka - Zakljucak: nema takvih:"
   ]
  },
  {
   "cell_type": "code",
   "execution_count": 12,
   "id": "798ca3b3",
   "metadata": {},
   "outputs": [
    {
     "data": {
      "text/html": [
       "<div>\n",
       "<style scoped>\n",
       "    .dataframe tbody tr th:only-of-type {\n",
       "        vertical-align: middle;\n",
       "    }\n",
       "\n",
       "    .dataframe tbody tr th {\n",
       "        vertical-align: top;\n",
       "    }\n",
       "\n",
       "    .dataframe thead th {\n",
       "        text-align: right;\n",
       "    }\n",
       "</style>\n",
       "<table border=\"1\" class=\"dataframe\">\n",
       "  <thead>\n",
       "    <tr style=\"text-align: right;\">\n",
       "      <th></th>\n",
       "      <th>Age</th>\n",
       "      <th>Gender</th>\n",
       "      <th>Polyuria</th>\n",
       "      <th>Polydipsia</th>\n",
       "      <th>sudden weight loss</th>\n",
       "      <th>weakness</th>\n",
       "      <th>Polyphagia</th>\n",
       "      <th>Genital thrush</th>\n",
       "      <th>visual blurring</th>\n",
       "      <th>Itching</th>\n",
       "      <th>Irritability</th>\n",
       "      <th>delayed healing</th>\n",
       "      <th>partial paresis</th>\n",
       "      <th>muscle stiffness</th>\n",
       "      <th>Alopecia</th>\n",
       "      <th>Obesity</th>\n",
       "      <th>class</th>\n",
       "    </tr>\n",
       "  </thead>\n",
       "  <tbody>\n",
       "    <tr>\n",
       "      <th>0</th>\n",
       "      <td>False</td>\n",
       "      <td>False</td>\n",
       "      <td>False</td>\n",
       "      <td>False</td>\n",
       "      <td>False</td>\n",
       "      <td>False</td>\n",
       "      <td>False</td>\n",
       "      <td>False</td>\n",
       "      <td>False</td>\n",
       "      <td>False</td>\n",
       "      <td>False</td>\n",
       "      <td>False</td>\n",
       "      <td>False</td>\n",
       "      <td>False</td>\n",
       "      <td>False</td>\n",
       "      <td>False</td>\n",
       "      <td>False</td>\n",
       "    </tr>\n",
       "    <tr>\n",
       "      <th>1</th>\n",
       "      <td>False</td>\n",
       "      <td>False</td>\n",
       "      <td>False</td>\n",
       "      <td>False</td>\n",
       "      <td>False</td>\n",
       "      <td>False</td>\n",
       "      <td>False</td>\n",
       "      <td>False</td>\n",
       "      <td>False</td>\n",
       "      <td>False</td>\n",
       "      <td>False</td>\n",
       "      <td>False</td>\n",
       "      <td>False</td>\n",
       "      <td>False</td>\n",
       "      <td>False</td>\n",
       "      <td>False</td>\n",
       "      <td>False</td>\n",
       "    </tr>\n",
       "    <tr>\n",
       "      <th>2</th>\n",
       "      <td>False</td>\n",
       "      <td>False</td>\n",
       "      <td>False</td>\n",
       "      <td>False</td>\n",
       "      <td>False</td>\n",
       "      <td>False</td>\n",
       "      <td>False</td>\n",
       "      <td>False</td>\n",
       "      <td>False</td>\n",
       "      <td>False</td>\n",
       "      <td>False</td>\n",
       "      <td>False</td>\n",
       "      <td>False</td>\n",
       "      <td>False</td>\n",
       "      <td>False</td>\n",
       "      <td>False</td>\n",
       "      <td>False</td>\n",
       "    </tr>\n",
       "    <tr>\n",
       "      <th>3</th>\n",
       "      <td>False</td>\n",
       "      <td>False</td>\n",
       "      <td>False</td>\n",
       "      <td>False</td>\n",
       "      <td>False</td>\n",
       "      <td>False</td>\n",
       "      <td>False</td>\n",
       "      <td>False</td>\n",
       "      <td>False</td>\n",
       "      <td>False</td>\n",
       "      <td>False</td>\n",
       "      <td>False</td>\n",
       "      <td>False</td>\n",
       "      <td>False</td>\n",
       "      <td>False</td>\n",
       "      <td>False</td>\n",
       "      <td>False</td>\n",
       "    </tr>\n",
       "    <tr>\n",
       "      <th>4</th>\n",
       "      <td>False</td>\n",
       "      <td>False</td>\n",
       "      <td>False</td>\n",
       "      <td>False</td>\n",
       "      <td>False</td>\n",
       "      <td>False</td>\n",
       "      <td>False</td>\n",
       "      <td>False</td>\n",
       "      <td>False</td>\n",
       "      <td>False</td>\n",
       "      <td>False</td>\n",
       "      <td>False</td>\n",
       "      <td>False</td>\n",
       "      <td>False</td>\n",
       "      <td>False</td>\n",
       "      <td>False</td>\n",
       "      <td>False</td>\n",
       "    </tr>\n",
       "    <tr>\n",
       "      <th>...</th>\n",
       "      <td>...</td>\n",
       "      <td>...</td>\n",
       "      <td>...</td>\n",
       "      <td>...</td>\n",
       "      <td>...</td>\n",
       "      <td>...</td>\n",
       "      <td>...</td>\n",
       "      <td>...</td>\n",
       "      <td>...</td>\n",
       "      <td>...</td>\n",
       "      <td>...</td>\n",
       "      <td>...</td>\n",
       "      <td>...</td>\n",
       "      <td>...</td>\n",
       "      <td>...</td>\n",
       "      <td>...</td>\n",
       "      <td>...</td>\n",
       "    </tr>\n",
       "    <tr>\n",
       "      <th>515</th>\n",
       "      <td>False</td>\n",
       "      <td>False</td>\n",
       "      <td>False</td>\n",
       "      <td>False</td>\n",
       "      <td>False</td>\n",
       "      <td>False</td>\n",
       "      <td>False</td>\n",
       "      <td>False</td>\n",
       "      <td>False</td>\n",
       "      <td>False</td>\n",
       "      <td>False</td>\n",
       "      <td>False</td>\n",
       "      <td>False</td>\n",
       "      <td>False</td>\n",
       "      <td>False</td>\n",
       "      <td>False</td>\n",
       "      <td>False</td>\n",
       "    </tr>\n",
       "    <tr>\n",
       "      <th>516</th>\n",
       "      <td>False</td>\n",
       "      <td>False</td>\n",
       "      <td>False</td>\n",
       "      <td>False</td>\n",
       "      <td>False</td>\n",
       "      <td>False</td>\n",
       "      <td>False</td>\n",
       "      <td>False</td>\n",
       "      <td>False</td>\n",
       "      <td>False</td>\n",
       "      <td>False</td>\n",
       "      <td>False</td>\n",
       "      <td>False</td>\n",
       "      <td>False</td>\n",
       "      <td>False</td>\n",
       "      <td>False</td>\n",
       "      <td>False</td>\n",
       "    </tr>\n",
       "    <tr>\n",
       "      <th>517</th>\n",
       "      <td>False</td>\n",
       "      <td>False</td>\n",
       "      <td>False</td>\n",
       "      <td>False</td>\n",
       "      <td>False</td>\n",
       "      <td>False</td>\n",
       "      <td>False</td>\n",
       "      <td>False</td>\n",
       "      <td>False</td>\n",
       "      <td>False</td>\n",
       "      <td>False</td>\n",
       "      <td>False</td>\n",
       "      <td>False</td>\n",
       "      <td>False</td>\n",
       "      <td>False</td>\n",
       "      <td>False</td>\n",
       "      <td>False</td>\n",
       "    </tr>\n",
       "    <tr>\n",
       "      <th>518</th>\n",
       "      <td>False</td>\n",
       "      <td>False</td>\n",
       "      <td>False</td>\n",
       "      <td>False</td>\n",
       "      <td>False</td>\n",
       "      <td>False</td>\n",
       "      <td>False</td>\n",
       "      <td>False</td>\n",
       "      <td>False</td>\n",
       "      <td>False</td>\n",
       "      <td>False</td>\n",
       "      <td>False</td>\n",
       "      <td>False</td>\n",
       "      <td>False</td>\n",
       "      <td>False</td>\n",
       "      <td>False</td>\n",
       "      <td>False</td>\n",
       "    </tr>\n",
       "    <tr>\n",
       "      <th>519</th>\n",
       "      <td>False</td>\n",
       "      <td>False</td>\n",
       "      <td>False</td>\n",
       "      <td>False</td>\n",
       "      <td>False</td>\n",
       "      <td>False</td>\n",
       "      <td>False</td>\n",
       "      <td>False</td>\n",
       "      <td>False</td>\n",
       "      <td>False</td>\n",
       "      <td>False</td>\n",
       "      <td>False</td>\n",
       "      <td>False</td>\n",
       "      <td>False</td>\n",
       "      <td>False</td>\n",
       "      <td>False</td>\n",
       "      <td>False</td>\n",
       "    </tr>\n",
       "  </tbody>\n",
       "</table>\n",
       "<p>520 rows × 17 columns</p>\n",
       "</div>"
      ],
      "text/plain": [
       "       Age  Gender  Polyuria  Polydipsia  sudden weight loss  weakness  \\\n",
       "0    False   False     False       False               False     False   \n",
       "1    False   False     False       False               False     False   \n",
       "2    False   False     False       False               False     False   \n",
       "3    False   False     False       False               False     False   \n",
       "4    False   False     False       False               False     False   \n",
       "..     ...     ...       ...         ...                 ...       ...   \n",
       "515  False   False     False       False               False     False   \n",
       "516  False   False     False       False               False     False   \n",
       "517  False   False     False       False               False     False   \n",
       "518  False   False     False       False               False     False   \n",
       "519  False   False     False       False               False     False   \n",
       "\n",
       "     Polyphagia  Genital thrush  visual blurring  Itching  Irritability  \\\n",
       "0         False           False            False    False         False   \n",
       "1         False           False            False    False         False   \n",
       "2         False           False            False    False         False   \n",
       "3         False           False            False    False         False   \n",
       "4         False           False            False    False         False   \n",
       "..          ...             ...              ...      ...           ...   \n",
       "515       False           False            False    False         False   \n",
       "516       False           False            False    False         False   \n",
       "517       False           False            False    False         False   \n",
       "518       False           False            False    False         False   \n",
       "519       False           False            False    False         False   \n",
       "\n",
       "     delayed healing  partial paresis  muscle stiffness  Alopecia  Obesity  \\\n",
       "0              False            False             False     False    False   \n",
       "1              False            False             False     False    False   \n",
       "2              False            False             False     False    False   \n",
       "3              False            False             False     False    False   \n",
       "4              False            False             False     False    False   \n",
       "..               ...              ...               ...       ...      ...   \n",
       "515            False            False             False     False    False   \n",
       "516            False            False             False     False    False   \n",
       "517            False            False             False     False    False   \n",
       "518            False            False             False     False    False   \n",
       "519            False            False             False     False    False   \n",
       "\n",
       "     class  \n",
       "0    False  \n",
       "1    False  \n",
       "2    False  \n",
       "3    False  \n",
       "4    False  \n",
       "..     ...  \n",
       "515  False  \n",
       "516  False  \n",
       "517  False  \n",
       "518  False  \n",
       "519  False  \n",
       "\n",
       "[520 rows x 17 columns]"
      ]
     },
     "execution_count": 12,
     "metadata": {},
     "output_type": "execute_result"
    }
   ],
   "source": [
    "missing = data_df.isna()\n",
    "missing"
   ]
  },
  {
   "cell_type": "code",
   "execution_count": 13,
   "id": "c279018c",
   "metadata": {},
   "outputs": [
    {
     "data": {
      "text/plain": [
       "Age                   0\n",
       "Gender                0\n",
       "Polyuria              0\n",
       "Polydipsia            0\n",
       "sudden weight loss    0\n",
       "weakness              0\n",
       "Polyphagia            0\n",
       "Genital thrush        0\n",
       "visual blurring       0\n",
       "Itching               0\n",
       "Irritability          0\n",
       "delayed healing       0\n",
       "partial paresis       0\n",
       "muscle stiffness      0\n",
       "Alopecia              0\n",
       "Obesity               0\n",
       "class                 0\n",
       "dtype: int64"
      ]
     },
     "execution_count": 13,
     "metadata": {},
     "output_type": "execute_result"
    }
   ],
   "source": [
    "missing.sum()"
   ]
  },
  {
   "cell_type": "code",
   "execution_count": 14,
   "id": "8bf60109",
   "metadata": {},
   "outputs": [
    {
     "data": {
      "text/plain": [
       "0      False\n",
       "1      False\n",
       "2      False\n",
       "3      False\n",
       "4      False\n",
       "       ...  \n",
       "515    False\n",
       "516    False\n",
       "517    False\n",
       "518    False\n",
       "519    False\n",
       "Length: 520, dtype: bool"
      ]
     },
     "execution_count": 14,
     "metadata": {},
     "output_type": "execute_result"
    }
   ],
   "source": [
    "anymissing = missing.any(axis=1)\n",
    "anymissing"
   ]
  },
  {
   "cell_type": "code",
   "execution_count": 15,
   "id": "79c49b77",
   "metadata": {},
   "outputs": [
    {
     "data": {
      "text/html": [
       "<div>\n",
       "<style scoped>\n",
       "    .dataframe tbody tr th:only-of-type {\n",
       "        vertical-align: middle;\n",
       "    }\n",
       "\n",
       "    .dataframe tbody tr th {\n",
       "        vertical-align: top;\n",
       "    }\n",
       "\n",
       "    .dataframe thead th {\n",
       "        text-align: right;\n",
       "    }\n",
       "</style>\n",
       "<table border=\"1\" class=\"dataframe\">\n",
       "  <thead>\n",
       "    <tr style=\"text-align: right;\">\n",
       "      <th></th>\n",
       "      <th>Age</th>\n",
       "      <th>Gender</th>\n",
       "      <th>Polyuria</th>\n",
       "      <th>Polydipsia</th>\n",
       "      <th>sudden weight loss</th>\n",
       "      <th>weakness</th>\n",
       "      <th>Polyphagia</th>\n",
       "      <th>Genital thrush</th>\n",
       "      <th>visual blurring</th>\n",
       "      <th>Itching</th>\n",
       "      <th>Irritability</th>\n",
       "      <th>delayed healing</th>\n",
       "      <th>partial paresis</th>\n",
       "      <th>muscle stiffness</th>\n",
       "      <th>Alopecia</th>\n",
       "      <th>Obesity</th>\n",
       "      <th>class</th>\n",
       "    </tr>\n",
       "  </thead>\n",
       "  <tbody>\n",
       "  </tbody>\n",
       "</table>\n",
       "</div>"
      ],
      "text/plain": [
       "Empty DataFrame\n",
       "Columns: [Age, Gender, Polyuria, Polydipsia, sudden weight loss, weakness, Polyphagia, Genital thrush, visual blurring, Itching, Irritability, delayed healing, partial paresis, muscle stiffness, Alopecia, Obesity, class]\n",
       "Index: []"
      ]
     },
     "execution_count": 15,
     "metadata": {},
     "output_type": "execute_result"
    }
   ],
   "source": [
    "data_df[anymissing]"
   ]
  },
  {
   "cell_type": "code",
   "execution_count": 16,
   "id": "407ad68d",
   "metadata": {},
   "outputs": [
    {
     "data": {
      "text/plain": [
       "<AxesSubplot:>"
      ]
     },
     "execution_count": 16,
     "metadata": {},
     "output_type": "execute_result"
    },
    {
     "data": {
      "image/png": "[encoded data removed]",
      "text/plain": [
       "<Figure size 360x360 with 1 Axes>"
      ]
     },
     "metadata": {
      "needs_background": "light"
     },
     "output_type": "display_data"
    }
   ],
   "source": [
    "data_df['class'].hist(figsize = (5,5))"
   ]
  },
  {
   "cell_type": "markdown",
   "id": "ebbc6c1a",
   "metadata": {},
   "source": [
    "### Deskriptivna analiza"
   ]
  },
  {
   "cell_type": "code",
   "execution_count": 17,
   "id": "f430d4c9",
   "metadata": {},
   "outputs": [
    {
     "name": "stdout",
     "output_type": "stream",
     "text": [
      "<class 'pandas.core.frame.DataFrame'>\n",
      "RangeIndex: 520 entries, 0 to 519\n",
      "Data columns (total 17 columns):\n",
      " #   Column              Non-Null Count  Dtype\n",
      "---  ------              --------------  -----\n",
      " 0   Age                 520 non-null    int64\n",
      " 1   Gender              520 non-null    int64\n",
      " 2   Polyuria            520 non-null    int64\n",
      " 3   Polydipsia          520 non-null    int64\n",
      " 4   sudden weight loss  520 non-null    int64\n",
      " 5   weakness            520 non-null    int64\n",
      " 6   Polyphagia          520 non-null    int64\n",
      " 7   Genital thrush      520 non-null    int64\n",
      " 8   visual blurring     520 non-null    int64\n",
      " 9   Itching             520 non-null    int64\n",
      " 10  Irritability        520 non-null    int64\n",
      " 11  delayed healing     520 non-null    int64\n",
      " 12  partial paresis     520 non-null    int64\n",
      " 13  muscle stiffness    520 non-null    int64\n",
      " 14  Alopecia            520 non-null    int64\n",
      " 15  Obesity             520 non-null    int64\n",
      " 16  class               520 non-null    int64\n",
      "dtypes: int64(17)\n",
      "memory usage: 69.2 KB\n"
     ]
    }
   ],
   "source": [
    "data_df.info()"
   ]
  },
  {
   "cell_type": "markdown",
   "id": "57f70d46",
   "metadata": {},
   "source": [
    "### Measure of Center: Mean and Median"
   ]
  },
  {
   "cell_type": "code",
   "execution_count": 18,
   "id": "adf5e893",
   "metadata": {},
   "outputs": [
    {
     "name": "stdout",
     "output_type": "stream",
     "text": [
      "Age                   48.028846\n",
      "Gender                 0.630769\n",
      "Polyuria               0.496154\n",
      "Polydipsia             0.448077\n",
      "sudden weight loss     0.417308\n",
      "weakness               0.586538\n",
      "Polyphagia             0.455769\n",
      "Genital thrush         0.223077\n",
      "visual blurring        0.448077\n",
      "Itching                0.486538\n",
      "Irritability           0.242308\n",
      "delayed healing        0.459615\n",
      "partial paresis        0.430769\n",
      "muscle stiffness       0.375000\n",
      "Alopecia               0.344231\n",
      "Obesity                0.169231\n",
      "class                  0.615385\n",
      "dtype: float64\n"
     ]
    }
   ],
   "source": [
    "mean = data_df.mean()\n",
    "print(mean)"
   ]
  },
  {
   "cell_type": "code",
   "execution_count": 19,
   "id": "e22c5457",
   "metadata": {},
   "outputs": [
    {
     "name": "stdout",
     "output_type": "stream",
     "text": [
      "Age                   47.5\n",
      "Gender                 1.0\n",
      "Polyuria               0.0\n",
      "Polydipsia             0.0\n",
      "sudden weight loss     0.0\n",
      "weakness               1.0\n",
      "Polyphagia             0.0\n",
      "Genital thrush         0.0\n",
      "visual blurring        0.0\n",
      "Itching                0.0\n",
      "Irritability           0.0\n",
      "delayed healing        0.0\n",
      "partial paresis        0.0\n",
      "muscle stiffness       0.0\n",
      "Alopecia               0.0\n",
      "Obesity                0.0\n",
      "class                  1.0\n",
      "dtype: float64\n"
     ]
    }
   ],
   "source": [
    "median = data_df.median()\n",
    "print(median)"
   ]
  },
  {
   "cell_type": "markdown",
   "id": "683f8794",
   "metadata": {},
   "source": [
    "### Measures of Variabillity"
   ]
  },
  {
   "cell_type": "markdown",
   "id": "a481b0b8",
   "metadata": {},
   "source": [
    "#### Standard Deviation"
   ]
  },
  {
   "cell_type": "code",
   "execution_count": 20,
   "id": "2b15a568",
   "metadata": {},
   "outputs": [
    {
     "name": "stdout",
     "output_type": "stream",
     "text": [
      "Age                   12.151466\n",
      "Gender                 0.483061\n",
      "Polyuria               0.500467\n",
      "Polydipsia             0.497776\n",
      "sudden weight loss     0.493589\n",
      "weakness               0.492928\n",
      "Polyphagia             0.498519\n",
      "Genital thrush         0.416710\n",
      "visual blurring        0.497776\n",
      "Itching                0.500300\n",
      "Irritability           0.428892\n",
      "delayed healing        0.498846\n",
      "partial paresis        0.495661\n",
      "muscle stiffness       0.484589\n",
      "Alopecia               0.475574\n",
      "Obesity                0.375317\n",
      "class                  0.486973\n",
      "dtype: float64\n"
     ]
    }
   ],
   "source": [
    "std_deviation = data_df.std()\n",
    "print(std_deviation)"
   ]
  },
  {
   "cell_type": "markdown",
   "id": "aee6755d",
   "metadata": {},
   "source": [
    "#### Variance"
   ]
  },
  {
   "cell_type": "code",
   "execution_count": 21,
   "id": "e75338de",
   "metadata": {},
   "outputs": [
    {
     "name": "stdout",
     "output_type": "stream",
     "text": [
      "Age                   147.658126\n",
      "Gender                  0.233348\n",
      "Polyuria                0.250467\n",
      "Polydipsia              0.247780\n",
      "sudden weight loss      0.243631\n",
      "weakness                0.242978\n",
      "Polyphagia              0.248522\n",
      "Genital thrush          0.173648\n",
      "visual blurring         0.247780\n",
      "Itching                 0.250300\n",
      "Irritability            0.183948\n",
      "delayed healing         0.248848\n",
      "partial paresis         0.245680\n",
      "muscle stiffness        0.234827\n",
      "Alopecia                0.226171\n",
      "Obesity                 0.140863\n",
      "class                   0.237142\n",
      "dtype: float64\n"
     ]
    }
   ],
   "source": [
    "variance = data_df.var()\n",
    "print(variance)"
   ]
  },
  {
   "cell_type": "markdown",
   "id": "234563d1",
   "metadata": {},
   "source": [
    "#### Skewness \n",
    "##### Na koju stranu je iskrivljenje, 0 je normalna distribucija"
   ]
  },
  {
   "cell_type": "code",
   "execution_count": 22,
   "id": "a28f4e88",
   "metadata": {},
   "outputs": [
    {
     "name": "stdout",
     "output_type": "stream",
     "text": [
      "Age                   0.329359\n",
      "Gender               -0.543509\n",
      "Polyuria              0.015430\n",
      "Polydipsia            0.209426\n",
      "sudden weight loss    0.336359\n",
      "weakness             -0.352476\n",
      "Polyphagia            0.178134\n",
      "Genital thrush        1.334223\n",
      "visual blurring       0.209426\n",
      "Itching               0.054022\n",
      "Irritability          1.206305\n",
      "delayed healing       0.162537\n",
      "partial paresis       0.280426\n",
      "muscle stiffness      0.517893\n",
      "Alopecia              0.657608\n",
      "Obesity               1.769420\n",
      "class                -0.475715\n",
      "dtype: float64\n"
     ]
    }
   ],
   "source": [
    "skewness = data_df.skew()\n",
    "print(skewness)"
   ]
  },
  {
   "cell_type": "markdown",
   "id": "14b99c4b",
   "metadata": {},
   "source": [
    "#### Summary"
   ]
  },
  {
   "cell_type": "code",
   "execution_count": 23,
   "id": "fc50fa7a",
   "metadata": {},
   "outputs": [
    {
     "data": {
      "text/html": [
       "<div>\n",
       "<style scoped>\n",
       "    .dataframe tbody tr th:only-of-type {\n",
       "        vertical-align: middle;\n",
       "    }\n",
       "\n",
       "    .dataframe tbody tr th {\n",
       "        vertical-align: top;\n",
       "    }\n",
       "\n",
       "    .dataframe thead th {\n",
       "        text-align: right;\n",
       "    }\n",
       "</style>\n",
       "<table border=\"1\" class=\"dataframe\">\n",
       "  <thead>\n",
       "    <tr style=\"text-align: right;\">\n",
       "      <th></th>\n",
       "      <th>Age</th>\n",
       "      <th>Gender</th>\n",
       "      <th>Polyuria</th>\n",
       "      <th>Polydipsia</th>\n",
       "      <th>sudden weight loss</th>\n",
       "      <th>weakness</th>\n",
       "      <th>Polyphagia</th>\n",
       "      <th>Genital thrush</th>\n",
       "      <th>visual blurring</th>\n",
       "      <th>Itching</th>\n",
       "      <th>Irritability</th>\n",
       "      <th>delayed healing</th>\n",
       "      <th>partial paresis</th>\n",
       "      <th>muscle stiffness</th>\n",
       "      <th>Alopecia</th>\n",
       "      <th>Obesity</th>\n",
       "      <th>class</th>\n",
       "    </tr>\n",
       "  </thead>\n",
       "  <tbody>\n",
       "    <tr>\n",
       "      <th>count</th>\n",
       "      <td>520.000000</td>\n",
       "      <td>520.000000</td>\n",
       "      <td>520.000000</td>\n",
       "      <td>520.000000</td>\n",
       "      <td>520.000000</td>\n",
       "      <td>520.000000</td>\n",
       "      <td>520.000000</td>\n",
       "      <td>520.000000</td>\n",
       "      <td>520.000000</td>\n",
       "      <td>520.000000</td>\n",
       "      <td>520.000000</td>\n",
       "      <td>520.000000</td>\n",
       "      <td>520.000000</td>\n",
       "      <td>520.000000</td>\n",
       "      <td>520.000000</td>\n",
       "      <td>520.000000</td>\n",
       "      <td>520.000000</td>\n",
       "    </tr>\n",
       "    <tr>\n",
       "      <th>mean</th>\n",
       "      <td>48.028846</td>\n",
       "      <td>0.630769</td>\n",
       "      <td>0.496154</td>\n",
       "      <td>0.448077</td>\n",
       "      <td>0.417308</td>\n",
       "      <td>0.586538</td>\n",
       "      <td>0.455769</td>\n",
       "      <td>0.223077</td>\n",
       "      <td>0.448077</td>\n",
       "      <td>0.486538</td>\n",
       "      <td>0.242308</td>\n",
       "      <td>0.459615</td>\n",
       "      <td>0.430769</td>\n",
       "      <td>0.375000</td>\n",
       "      <td>0.344231</td>\n",
       "      <td>0.169231</td>\n",
       "      <td>0.615385</td>\n",
       "    </tr>\n",
       "    <tr>\n",
       "      <th>std</th>\n",
       "      <td>12.151466</td>\n",
       "      <td>0.483061</td>\n",
       "      <td>0.500467</td>\n",
       "      <td>0.497776</td>\n",
       "      <td>0.493589</td>\n",
       "      <td>0.492928</td>\n",
       "      <td>0.498519</td>\n",
       "      <td>0.416710</td>\n",
       "      <td>0.497776</td>\n",
       "      <td>0.500300</td>\n",
       "      <td>0.428892</td>\n",
       "      <td>0.498846</td>\n",
       "      <td>0.495661</td>\n",
       "      <td>0.484589</td>\n",
       "      <td>0.475574</td>\n",
       "      <td>0.375317</td>\n",
       "      <td>0.486973</td>\n",
       "    </tr>\n",
       "    <tr>\n",
       "      <th>min</th>\n",
       "      <td>16.000000</td>\n",
       "      <td>0.000000</td>\n",
       "      <td>0.000000</td>\n",
       "      <td>0.000000</td>\n",
       "      <td>0.000000</td>\n",
       "      <td>0.000000</td>\n",
       "      <td>0.000000</td>\n",
       "      <td>0.000000</td>\n",
       "      <td>0.000000</td>\n",
       "      <td>0.000000</td>\n",
       "      <td>0.000000</td>\n",
       "      <td>0.000000</td>\n",
       "      <td>0.000000</td>\n",
       "      <td>0.000000</td>\n",
       "      <td>0.000000</td>\n",
       "      <td>0.000000</td>\n",
       "      <td>0.000000</td>\n",
       "    </tr>\n",
       "    <tr>\n",
       "      <th>25%</th>\n",
       "      <td>39.000000</td>\n",
       "      <td>0.000000</td>\n",
       "      <td>0.000000</td>\n",
       "      <td>0.000000</td>\n",
       "      <td>0.000000</td>\n",
       "      <td>0.000000</td>\n",
       "      <td>0.000000</td>\n",
       "      <td>0.000000</td>\n",
       "      <td>0.000000</td>\n",
       "      <td>0.000000</td>\n",
       "      <td>0.000000</td>\n",
       "      <td>0.000000</td>\n",
       "      <td>0.000000</td>\n",
       "      <td>0.000000</td>\n",
       "      <td>0.000000</td>\n",
       "      <td>0.000000</td>\n",
       "      <td>0.000000</td>\n",
       "    </tr>\n",
       "    <tr>\n",
       "      <th>50%</th>\n",
       "      <td>47.500000</td>\n",
       "      <td>1.000000</td>\n",
       "      <td>0.000000</td>\n",
       "      <td>0.000000</td>\n",
       "      <td>0.000000</td>\n",
       "      <td>1.000000</td>\n",
       "      <td>0.000000</td>\n",
       "      <td>0.000000</td>\n",
       "      <td>0.000000</td>\n",
       "      <td>0.000000</td>\n",
       "      <td>0.000000</td>\n",
       "      <td>0.000000</td>\n",
       "      <td>0.000000</td>\n",
       "      <td>0.000000</td>\n",
       "      <td>0.000000</td>\n",
       "      <td>0.000000</td>\n",
       "      <td>1.000000</td>\n",
       "    </tr>\n",
       "    <tr>\n",
       "      <th>75%</th>\n",
       "      <td>57.000000</td>\n",
       "      <td>1.000000</td>\n",
       "      <td>1.000000</td>\n",
       "      <td>1.000000</td>\n",
       "      <td>1.000000</td>\n",
       "      <td>1.000000</td>\n",
       "      <td>1.000000</td>\n",
       "      <td>0.000000</td>\n",
       "      <td>1.000000</td>\n",
       "      <td>1.000000</td>\n",
       "      <td>0.000000</td>\n",
       "      <td>1.000000</td>\n",
       "      <td>1.000000</td>\n",
       "      <td>1.000000</td>\n",
       "      <td>1.000000</td>\n",
       "      <td>0.000000</td>\n",
       "      <td>1.000000</td>\n",
       "    </tr>\n",
       "    <tr>\n",
       "      <th>max</th>\n",
       "      <td>90.000000</td>\n",
       "      <td>1.000000</td>\n",
       "      <td>1.000000</td>\n",
       "      <td>1.000000</td>\n",
       "      <td>1.000000</td>\n",
       "      <td>1.000000</td>\n",
       "      <td>1.000000</td>\n",
       "      <td>1.000000</td>\n",
       "      <td>1.000000</td>\n",
       "      <td>1.000000</td>\n",
       "      <td>1.000000</td>\n",
       "      <td>1.000000</td>\n",
       "      <td>1.000000</td>\n",
       "      <td>1.000000</td>\n",
       "      <td>1.000000</td>\n",
       "      <td>1.000000</td>\n",
       "      <td>1.000000</td>\n",
       "    </tr>\n",
       "  </tbody>\n",
       "</table>\n",
       "</div>"
      ],
      "text/plain": [
       "              Age      Gender    Polyuria  Polydipsia  sudden weight loss  \\\n",
       "count  520.000000  520.000000  520.000000  520.000000          520.000000   \n",
       "mean    48.028846    0.630769    0.496154    0.448077            0.417308   \n",
       "std     12.151466    0.483061    0.500467    0.497776            0.493589   \n",
       "min     16.000000    0.000000    0.000000    0.000000            0.000000   \n",
       "25%     39.000000    0.000000    0.000000    0.000000            0.000000   \n",
       "50%     47.500000    1.000000    0.000000    0.000000            0.000000   \n",
       "75%     57.000000    1.000000    1.000000    1.000000            1.000000   \n",
       "max     90.000000    1.000000    1.000000    1.000000            1.000000   \n",
       "\n",
       "         weakness  Polyphagia  Genital thrush  visual blurring     Itching  \\\n",
       "count  520.000000  520.000000      520.000000       520.000000  520.000000   \n",
       "mean     0.586538    0.455769        0.223077         0.448077    0.486538   \n",
       "std      0.492928    0.498519        0.416710         0.497776    0.500300   \n",
       "min      0.000000    0.000000        0.000000         0.000000    0.000000   \n",
       "25%      0.000000    0.000000        0.000000         0.000000    0.000000   \n",
       "50%      1.000000    0.000000        0.000000         0.000000    0.000000   \n",
       "75%      1.000000    1.000000        0.000000         1.000000    1.000000   \n",
       "max      1.000000    1.000000        1.000000         1.000000    1.000000   \n",
       "\n",
       "       Irritability  delayed healing  partial paresis  muscle stiffness  \\\n",
       "count    520.000000       520.000000       520.000000        520.000000   \n",
       "mean       0.242308         0.459615         0.430769          0.375000   \n",
       "std        0.428892         0.498846         0.495661          0.484589   \n",
       "min        0.000000         0.000000         0.000000          0.000000   \n",
       "25%        0.000000         0.000000         0.000000          0.000000   \n",
       "50%        0.000000         0.000000         0.000000          0.000000   \n",
       "75%        0.000000         1.000000         1.000000          1.000000   \n",
       "max        1.000000         1.000000         1.000000          1.000000   \n",
       "\n",
       "         Alopecia     Obesity       class  \n",
       "count  520.000000  520.000000  520.000000  \n",
       "mean     0.344231    0.169231    0.615385  \n",
       "std      0.475574    0.375317    0.486973  \n",
       "min      0.000000    0.000000    0.000000  \n",
       "25%      0.000000    0.000000    0.000000  \n",
       "50%      0.000000    0.000000    1.000000  \n",
       "75%      1.000000    0.000000    1.000000  \n",
       "max      1.000000    1.000000    1.000000  "
      ]
     },
     "execution_count": 23,
     "metadata": {},
     "output_type": "execute_result"
    }
   ],
   "source": [
    "data_df.describe(include='all')"
   ]
  },
  {
   "cell_type": "markdown",
   "id": "20d9ef05",
   "metadata": {},
   "source": [
    "## Distribucija podataka - Graficki prikaz"
   ]
  },
  {
   "cell_type": "code",
   "execution_count": 24,
   "id": "73497b63",
   "metadata": {},
   "outputs": [
    {
     "name": "stderr",
     "output_type": "stream",
     "text": [
      "c:\\users\\nikol\\appdata\\local\\programs\\python\\python38\\lib\\site-packages\\seaborn\\_core.py:1326: UserWarning: Vertical orientation ignored with only `x` specified.\n",
      "  warnings.warn(single_var_warning.format(\"Vertical\", \"x\"))\n"
     ]
    },
    {
     "data": {
      "image/png": "[encoded data removed]",
      "text/plain": [
       "<Figure size 720x576 with 1 Axes>"
      ]
     },
     "metadata": {},
     "output_type": "display_data"
    }
   ],
   "source": [
    "%matplotlib inline\n",
    "\n",
    "sn.set(style=\"whitegrid\")\n",
    "plt.figure(figsize=(10,8))\n",
    "ax = sn.boxplot(x='Age', data=data_df, orient=\"v\")"
   ]
  },
  {
   "cell_type": "code",
   "execution_count": 25,
   "id": "47a73718",
   "metadata": {},
   "outputs": [
    {
     "name": "stderr",
     "output_type": "stream",
     "text": [
      "c:\\users\\nikol\\appdata\\local\\programs\\python\\python38\\lib\\site-packages\\seaborn\\distributions.py:2619: FutureWarning: `distplot` is a deprecated function and will be removed in a future version. Please adapt your code to use either `displot` (a figure-level function with similar flexibility) or `histplot` (an axes-level function for histograms).\n",
      "  warnings.warn(msg, FutureWarning)\n"
     ]
    },
    {
     "data": {
      "text/plain": [
       "<AxesSubplot:xlabel='Age'>"
      ]
     },
     "execution_count": 25,
     "metadata": {},
     "output_type": "execute_result"
    },
    {
     "data": {
      "image/png": "[encoded data removed]",
      "text/plain": [
       "<Figure size 1008x576 with 1 Axes>"
      ]
     },
     "metadata": {},
     "output_type": "display_data"
    }
   ],
   "source": [
    "filter_data = data_df.dropna(subset=['Age'])\n",
    "plt.figure(figsize=(14,8))\n",
    "sn.distplot(filter_data['Age'], kde=False)"
   ]
  },
  {
   "cell_type": "markdown",
   "id": "345b7c25",
   "metadata": {},
   "source": [
    "### Outlejeri - detekcija"
   ]
  },
  {
   "cell_type": "code",
   "execution_count": 26,
   "id": "56370501",
   "metadata": {},
   "outputs": [
    {
     "data": {
      "text/html": [
       "<div>\n",
       "<style scoped>\n",
       "    .dataframe tbody tr th:only-of-type {\n",
       "        vertical-align: middle;\n",
       "    }\n",
       "\n",
       "    .dataframe tbody tr th {\n",
       "        vertical-align: top;\n",
       "    }\n",
       "\n",
       "    .dataframe thead th {\n",
       "        text-align: right;\n",
       "    }\n",
       "</style>\n",
       "<table border=\"1\" class=\"dataframe\">\n",
       "  <thead>\n",
       "    <tr style=\"text-align: right;\">\n",
       "      <th></th>\n",
       "      <th>Age</th>\n",
       "      <th>Gender</th>\n",
       "      <th>Polyuria</th>\n",
       "      <th>Polydipsia</th>\n",
       "      <th>sudden weight loss</th>\n",
       "      <th>weakness</th>\n",
       "      <th>Polyphagia</th>\n",
       "      <th>Genital thrush</th>\n",
       "      <th>visual blurring</th>\n",
       "      <th>Itching</th>\n",
       "      <th>Irritability</th>\n",
       "      <th>delayed healing</th>\n",
       "      <th>partial paresis</th>\n",
       "      <th>muscle stiffness</th>\n",
       "      <th>Alopecia</th>\n",
       "      <th>Obesity</th>\n",
       "      <th>class</th>\n",
       "    </tr>\n",
       "  </thead>\n",
       "  <tbody>\n",
       "    <tr>\n",
       "      <th>101</th>\n",
       "      <td>85</td>\n",
       "      <td>1</td>\n",
       "      <td>1</td>\n",
       "      <td>1</td>\n",
       "      <td>1</td>\n",
       "      <td>1</td>\n",
       "      <td>1</td>\n",
       "      <td>1</td>\n",
       "      <td>1</td>\n",
       "      <td>1</td>\n",
       "      <td>0</td>\n",
       "      <td>1</td>\n",
       "      <td>1</td>\n",
       "      <td>1</td>\n",
       "      <td>0</td>\n",
       "      <td>0</td>\n",
       "      <td>1</td>\n",
       "    </tr>\n",
       "    <tr>\n",
       "      <th>102</th>\n",
       "      <td>90</td>\n",
       "      <td>0</td>\n",
       "      <td>0</td>\n",
       "      <td>1</td>\n",
       "      <td>1</td>\n",
       "      <td>0</td>\n",
       "      <td>0</td>\n",
       "      <td>1</td>\n",
       "      <td>1</td>\n",
       "      <td>1</td>\n",
       "      <td>0</td>\n",
       "      <td>0</td>\n",
       "      <td>0</td>\n",
       "      <td>1</td>\n",
       "      <td>1</td>\n",
       "      <td>0</td>\n",
       "      <td>1</td>\n",
       "    </tr>\n",
       "    <tr>\n",
       "      <th>185</th>\n",
       "      <td>85</td>\n",
       "      <td>1</td>\n",
       "      <td>1</td>\n",
       "      <td>1</td>\n",
       "      <td>1</td>\n",
       "      <td>1</td>\n",
       "      <td>1</td>\n",
       "      <td>1</td>\n",
       "      <td>1</td>\n",
       "      <td>1</td>\n",
       "      <td>0</td>\n",
       "      <td>1</td>\n",
       "      <td>1</td>\n",
       "      <td>1</td>\n",
       "      <td>0</td>\n",
       "      <td>0</td>\n",
       "      <td>1</td>\n",
       "    </tr>\n",
       "    <tr>\n",
       "      <th>186</th>\n",
       "      <td>90</td>\n",
       "      <td>0</td>\n",
       "      <td>0</td>\n",
       "      <td>1</td>\n",
       "      <td>1</td>\n",
       "      <td>0</td>\n",
       "      <td>0</td>\n",
       "      <td>1</td>\n",
       "      <td>1</td>\n",
       "      <td>1</td>\n",
       "      <td>0</td>\n",
       "      <td>0</td>\n",
       "      <td>0</td>\n",
       "      <td>1</td>\n",
       "      <td>1</td>\n",
       "      <td>0</td>\n",
       "      <td>1</td>\n",
       "    </tr>\n",
       "  </tbody>\n",
       "</table>\n",
       "</div>"
      ],
      "text/plain": [
       "     Age  Gender  Polyuria  Polydipsia  sudden weight loss  weakness  \\\n",
       "101   85       1         1           1                   1         1   \n",
       "102   90       0         0           1                   1         0   \n",
       "185   85       1         1           1                   1         1   \n",
       "186   90       0         0           1                   1         0   \n",
       "\n",
       "     Polyphagia  Genital thrush  visual blurring  Itching  Irritability  \\\n",
       "101           1               1                1        1             0   \n",
       "102           0               1                1        1             0   \n",
       "185           1               1                1        1             0   \n",
       "186           0               1                1        1             0   \n",
       "\n",
       "     delayed healing  partial paresis  muscle stiffness  Alopecia  Obesity  \\\n",
       "101                1                1                 1         0        0   \n",
       "102                0                0                 1         1        0   \n",
       "185                1                1                 1         0        0   \n",
       "186                0                0                 1         1        0   \n",
       "\n",
       "     class  \n",
       "101      1  \n",
       "102      1  \n",
       "185      1  \n",
       "186      1  "
      ]
     },
     "execution_count": 26,
     "metadata": {},
     "output_type": "execute_result"
    }
   ],
   "source": [
    "feature = data_df[\"Age\"]\n",
    "\n",
    "q1, q3 = np.percentile(feature, [25, 75])\n",
    "iqr = q3 - q1\n",
    "lower_bound = q1 - (iqr * 1.5)\n",
    "upper_bound = q3 + (iqr * 1.5)\n",
    "outliers = np.where((feature > upper_bound) | (feature < lower_bound))\n",
    "\n",
    "data_df.iloc[outliers[0]]"
   ]
  },
  {
   "cell_type": "markdown",
   "id": "b4480866",
   "metadata": {},
   "source": [
    "## Balansiranost i resavanje problema:"
   ]
  },
  {
   "cell_type": "code",
   "execution_count": 27,
   "id": "5807f7c9",
   "metadata": {},
   "outputs": [
    {
     "data": {
      "text/plain": [
       "<AxesSubplot:ylabel='class'>"
      ]
     },
     "execution_count": 27,
     "metadata": {},
     "output_type": "execute_result"
    },
    {
     "data": {
      "image/png": "[encoded data removed]",
      "text/plain": [
       "<Figure size 720x720 with 1 Axes>"
      ]
     },
     "metadata": {},
     "output_type": "display_data"
    }
   ],
   "source": [
    "type_counts = data_df['class'].value_counts()\n",
    "df2 = pd.DataFrame({'class': type_counts})\n",
    "df2.plot.pie(y='class', figsize=(10,10), autopct='%1.1f%%')"
   ]
  },
  {
   "cell_type": "code",
   "execution_count": 28,
   "id": "75cf2fbf",
   "metadata": {},
   "outputs": [
    {
     "name": "stderr",
     "output_type": "stream",
     "text": [
      "c:\\users\\nikol\\appdata\\local\\programs\\python\\python38\\lib\\site-packages\\seaborn\\distributions.py:2619: FutureWarning: `distplot` is a deprecated function and will be removed in a future version. Please adapt your code to use either `displot` (a figure-level function with similar flexibility) or `histplot` (an axes-level function for histograms).\n",
      "  warnings.warn(msg, FutureWarning)\n"
     ]
    },
    {
     "data": {
      "text/plain": [
       "<AxesSubplot:xlabel='class'>"
      ]
     },
     "execution_count": 28,
     "metadata": {},
     "output_type": "execute_result"
    },
    {
     "data": {
      "image/png": "[encoded data removed]",
      "text/plain": [
       "<Figure size 1008x576 with 1 Axes>"
      ]
     },
     "metadata": {},
     "output_type": "display_data"
    }
   ],
   "source": [
    "filter_data = data_df.dropna(subset=['class'])\n",
    "plt.figure(figsize=(14,8))\n",
    "sn.distplot(filter_data['class'], kde=False)"
   ]
  },
  {
   "cell_type": "code",
   "execution_count": 29,
   "id": "047a7d8c",
   "metadata": {},
   "outputs": [
    {
     "name": "stdout",
     "output_type": "stream",
     "text": [
      "Negative:  200\n",
      "Positive:  320\n"
     ]
    },
    {
     "data": {
      "image/png": "[encoded data removed]",
      "text/plain": [
       "<Figure size 432x288 with 1 Axes>"
      ]
     },
     "metadata": {},
     "output_type": "display_data"
    }
   ],
   "source": [
    "positive_count, negative_count = data_df['class'].value_counts()\n",
    "plt.barh([\"negative\",\"positive\"], [negative_count, positive_count])\n",
    "print(\"Negative:  \"+ str(negative_count))\n",
    "print(\"Positive:  \"+ str(positive_count))"
   ]
  },
  {
   "cell_type": "markdown",
   "id": "d59aebb1",
   "metadata": {},
   "source": [
    "## Underseampling"
   ]
  },
  {
   "cell_type": "code",
   "execution_count": 30,
   "id": "edd41350",
   "metadata": {},
   "outputs": [
    {
     "name": "stdout",
     "output_type": "stream",
     "text": [
      "Negative:  200\n",
      "Positive:  200\n"
     ]
    },
    {
     "data": {
      "image/png": "[encoded data removed]",
      "text/plain": [
       "<Figure size 432x288 with 1 Axes>"
      ]
     },
     "metadata": {},
     "output_type": "display_data"
    }
   ],
   "source": [
    "from sklearn.utils import resample\n",
    "\n",
    "df_majority_US = data_df[data_df['class'] == 1]\n",
    "df_minority_US = data_df[data_df['class'] == 0]\n",
    "\n",
    "df_majority_undersampled = resample(df_majority_US, replace = False, n_samples = negative_count, random_state = 0)\n",
    "df_undersampled = pd.concat([df_majority_undersampled, df_minority_US])\n",
    "undersampled_positive_count, undersampled_negative_count = df_undersampled['class'].value_counts()\n",
    "\n",
    "plt.barh([\"negative\",\"positive\"], [undersampled_negative_count, undersampled_positive_count])\n",
    "print(\"Negative:  \"+ str(undersampled_negative_count))\n",
    "print(\"Positive:  \"+ str(undersampled_positive_count))"
   ]
  },
  {
   "cell_type": "markdown",
   "id": "0f007ea6",
   "metadata": {},
   "source": [
    "## Upseampling"
   ]
  },
  {
   "cell_type": "code",
   "execution_count": 31,
   "id": "af1123ca",
   "metadata": {},
   "outputs": [
    {
     "name": "stdout",
     "output_type": "stream",
     "text": [
      "NEGATIVE:  320\n",
      "POSITIVE:  320\n"
     ]
    },
    {
     "data": {
      "image/png": "[encoded data removed]",
      "text/plain": [
       "<Figure size 432x288 with 1 Axes>"
      ]
     },
     "metadata": {},
     "output_type": "display_data"
    }
   ],
   "source": [
    "df_majority_OS = data_df[data_df['class'] == 1]\n",
    "df_minority_OS = data_df[data_df['class'] == 0]\n",
    "\n",
    "df_minority_upsampled = resample(df_minority_OS, replace=True, n_samples=positive_count, random_state=0)\n",
    "df_upsampled = pd.concat([df_majority_OS, df_minority_upsampled])\n",
    "oversampled_positive_count, oversampled_negative_count = df_upsampled['class'].value_counts()\n",
    "\n",
    "plt.barh([\"negative\",\"positive\"], [oversampled_negative_count, oversampled_positive_count])\n",
    "print(\"NEGATIVE:  \"+ str(oversampled_negative_count))\n",
    "print(\"POSITIVE:  \"+ str(oversampled_positive_count))"
   ]
  },
  {
   "cell_type": "markdown",
   "id": "83fcd50e",
   "metadata": {},
   "source": [
    "## Pitanja za 7.12.2022\n",
    "\n",
    "### 1. Sta je bolje upseampling ili underseampling? \n",
    "     Mozda upseampling jer ima vise podataka obzirom da je dataset svakako mali?\n",
    "### 2. Ideja: Dalja testiranja i projekat raditi sa nebalansiranim, balansiranim up i balansiranim under, pa da vidimo sta se dogadja?\n",
    "### 3. Outlejeri, da li je u redu? Ako jeste, posto ih je relativno malo da li je u redu da ostanu u podacima?"
   ]
  },
  {
   "cell_type": "markdown",
   "id": "f92e488b",
   "metadata": {},
   "source": [
    "#### Dalju analizu probati i sa nebalansiranim i balansiranim (up i down), takodje isprobati i sa i bez outlier-a.\n",
    "#### --------------------------------------------------------------------------------------------------------------------------------------------------------"
   ]
  },
  {
   "cell_type": "markdown",
   "id": "6a1dc6ee",
   "metadata": {},
   "source": [
    "### Test and Train data 80%:20%"
   ]
  },
  {
   "cell_type": "code",
   "execution_count": 32,
   "id": "8f55f699",
   "metadata": {},
   "outputs": [],
   "source": [
    "from sklearn.model_selection import cross_val_score, train_test_split, learning_curve, validation_curve"
   ]
  },
  {
   "cell_type": "markdown",
   "id": "4b9d6342",
   "metadata": {},
   "source": [
    "#### Nebalansirani podaci"
   ]
  },
  {
   "cell_type": "code",
   "execution_count": 33,
   "id": "f610f5ff",
   "metadata": {},
   "outputs": [],
   "source": [
    "X_imbalanced = data_df.drop(\"class\", axis=1).values\n",
    "y_imbalanced = data_df[\"class\"].values\n",
    "\n",
    "X_train_imbalanced ,X_test_imbalanced, y_train_imbalanced, y_test_imbalanced = train_test_split(X_imbalanced,y_imbalanced,test_size = 0.2, random_state = 1)"
   ]
  },
  {
   "cell_type": "markdown",
   "id": "6a2d8a9c",
   "metadata": {},
   "source": [
    "#### Balansirani - Underseampling"
   ]
  },
  {
   "cell_type": "code",
   "execution_count": 34,
   "id": "b6329111",
   "metadata": {},
   "outputs": [],
   "source": [
    "X_undersampled = df_undersampled.drop(\"class\",axis = 1).values\n",
    "y_undersampled = df_undersampled[\"class\"].values\n",
    "\n",
    "X_train_undersampled,X_test_undersampled, y_train_undersampled, y_test_undersampled = train_test_split(X_undersampled,y_undersampled,test_size = 0.2, random_state = 1)"
   ]
  },
  {
   "cell_type": "markdown",
   "id": "7820a7e2",
   "metadata": {},
   "source": [
    "#### Balansirani - Upseampling"
   ]
  },
  {
   "cell_type": "code",
   "execution_count": 35,
   "id": "da1630a3",
   "metadata": {},
   "outputs": [],
   "source": [
    "X_upsampled = df_upsampled.drop(\"class\",axis = 1).values\n",
    "y_upsampled = df_upsampled[\"class\"].values\n",
    "\n",
    "X_train_upsampled,X_test_upsampled, y_train_upsampled, y_test_upsampled = train_test_split(X_upsampled,y_upsampled,test_size = 0.2, random_state = 1)"
   ]
  },
  {
   "cell_type": "markdown",
   "id": "2df59e90",
   "metadata": {},
   "source": [
    "#### Scikit-learn map - Choosing right Classificator\n",
    "https://scikit-learn.org/stable/tutorial/machine_learning_map/"
   ]
  },
  {
   "cell_type": "markdown",
   "id": "f1d2d46d",
   "metadata": {},
   "source": [
    "### Pomocne metode za evaluaciju"
   ]
  },
  {
   "cell_type": "code",
   "execution_count": 36,
   "id": "8af18685",
   "metadata": {},
   "outputs": [],
   "source": [
    "def evaluate_model(y_true_, y_pred_):\n",
    "    accuracy = accuracy_score(y_true_, y_pred_)\n",
    "    f1 = f1_score(y_true_, y_pred_)\n",
    "    precision = precision_score(y_true_, y_pred_)\n",
    "    recall = recall_score(y_true_, y_pred_)\n",
    "    conf_matrix = confusion_matrix(y_true=y_true_, y_pred=y_pred_)\n",
    "    TN, FP, FN, TP = conf_matrix.ravel()\n",
    "    sensitivity = TP / (TP + FN)\n",
    "    specificity = TN / (TN + FP)\n",
    "\n",
    "    print(\"Accuracy : \", accuracy)\n",
    "    print(\"F1 Score: \", f1)\n",
    "    print(\"Precision: \", precision)\n",
    "    print(\"Recall: \", recall)\n",
    "    print(\"Confuse matrix:\")\n",
    "    print(conf_matrix)\n",
    "    print(\"True positive: \", TP)\n",
    "    print(\"False positive: \", FP)\n",
    "    print(\"True negative: \", TN)\n",
    "    print(\"False negative: \", FN)\n",
    "    print(\"Sensitivity: \", sensitivity)\n",
    "    print(\"Specificity: \", specificity)\n",
    "\n",
    "# Matrice konfuzije\n",
    "def plot_conf_matrix(matrix):\n",
    "    class_names=['N','P']\n",
    "\n",
    "    # Create pandas dataframe\n",
    "    dataframe = pd.DataFrame(matrix, index=class_names, columns=class_names)\n",
    "\n",
    "    # Create heatmap\n",
    "    sn.heatmap(dataframe, annot=True, cbar=None, cmap=\"Blues\")\n",
    "    plt.title(\"Confusion Matrix\"), plt.tight_layout()\n",
    "    plt.ylabel(\"True Class\"), plt.xlabel(\"Predicted Class\")\n",
    "    plt.show()    \n",
    "\n",
    "# Plot AUC-ROC Curve\n",
    "def auc_roc_plot(test, prediction):\n",
    "    fpr, tpr, threshold = roc_curve(test, prediction)\n",
    "    roc_auc = auc(fpr, tpr)\n",
    "\n",
    "    plt.title('AUC-ROC curve')\n",
    "    plt.plot(fpr, tpr, 'b', label = 'AUC = %0.2f' % roc_auc)\n",
    "    plt.legend(loc = 'lower right')\n",
    "    plt.plot([0, 1], [0, 1],'r--')\n",
    "    plt.xlim([0, 1])\n",
    "    plt.ylim([0, 1])\n",
    "    plt.ylabel('True Positive Rate')\n",
    "    plt.xlabel('False Positive Rate')\n",
    "    plt.show()"
   ]
  },
  {
   "cell_type": "markdown",
   "id": "8232a4e2",
   "metadata": {},
   "source": [
    "## LinearSVC"
   ]
  },
  {
   "cell_type": "code",
   "execution_count": 37,
   "id": "970b425d",
   "metadata": {},
   "outputs": [],
   "source": [
    "from sklearn.svm import LinearSVC\n",
    "from sklearn.preprocessing import StandardScaler\n",
    "from sklearn.pipeline import make_pipeline\n",
    "from sklearn.model_selection import StratifiedKFold, RandomizedSearchCV, GridSearchCV\n",
    "\n",
    "from sklearn.metrics import accuracy_score"
   ]
  },
  {
   "cell_type": "markdown",
   "id": "96f78267",
   "metadata": {},
   "source": [
    "### Nebalansirani"
   ]
  },
  {
   "cell_type": "code",
   "execution_count": 38,
   "id": "1e63b55b",
   "metadata": {},
   "outputs": [
    {
     "name": "stdout",
     "output_type": "stream",
     "text": [
      "LinearSVC accuracy :  0.8461538461538461\n"
     ]
    },
    {
     "name": "stderr",
     "output_type": "stream",
     "text": [
      "c:\\users\\nikol\\appdata\\local\\programs\\python\\python38\\lib\\site-packages\\sklearn\\svm\\_base.py:1206: ConvergenceWarning: Liblinear failed to converge, increase the number of iterations.\n",
      "  warnings.warn(\n"
     ]
    }
   ],
   "source": [
    "#[https://www.dataquest.io/blog/sci-kit-learn-tutorial/]\n",
    "svc_model = LinearSVC(random_state=0)\n",
    "#train the algorithm on training data and predict using the testing data\n",
    "pred = svc_model.fit(X_train_imbalanced, y_train_imbalanced).predict(X_test_imbalanced)\n",
    "#print the accuracy score of the model\n",
    "print(\"LinearSVC accuracy : \",accuracy_score(y_test_imbalanced, pred, normalize = True))"
   ]
  },
  {
   "cell_type": "code",
   "execution_count": 39,
   "id": "c3ef44d1",
   "metadata": {},
   "outputs": [
    {
     "data": {
      "image/png": "[encoded data removed]",
      "text/plain": [
       "<Figure size 576x396 with 2 Axes>"
      ]
     },
     "metadata": {},
     "output_type": "display_data"
    }
   ],
   "source": [
    "from yellowbrick.classifier import ClassificationReport\n",
    "# Instantiate the classification model and visualizer\n",
    "visualizer = ClassificationReport(svc_model, classes=['Won','Loss'])\n",
    "visualizer.fit(X_train_imbalanced, y_train_imbalanced) # Fit the training data to the visualizer\n",
    "visualizer.score(X_test_imbalanced, y_test_imbalanced) # Evaluate the model on the test data\n",
    "g = visualizer.poof() # Draw/show/poof the data"
   ]
  },
  {
   "cell_type": "code",
   "execution_count": 40,
   "id": "d36511a2",
   "metadata": {},
   "outputs": [
    {
     "name": "stdout",
     "output_type": "stream",
     "text": [
      "[0.86538462 0.92307692 0.90384615 0.86538462 0.96153846 0.88461538\n",
      " 0.98076923 0.92307692 0.94230769 0.98076923]\n",
      "Mean:  0.923076923076923\n"
     ]
    }
   ],
   "source": [
    "#Kros validacija\n",
    "\n",
    "scaler = StandardScaler()\n",
    "svc_model = LinearSVC()\n",
    "\n",
    "# create a pipeline that standardizes, that runs LinearSVC\n",
    "pipeline = make_pipeline(scaler, svc_model)\n",
    "kf = StratifiedKFold(n_splits=10, shuffle=True, random_state=1)\n",
    "svc_cv_results_imbalanced = cross_val_score(pipeline, X_imbalanced, y_imbalanced, cv=kf, scoring=\"accuracy\", n_jobs=-1)\n",
    "\n",
    "print(svc_cv_results_imbalanced)\n",
    "print(\"Mean: \", svc_cv_results_imbalanced.mean())"
   ]
  },
  {
   "cell_type": "markdown",
   "id": "12ef74ad",
   "metadata": {},
   "source": [
    "### Balansirani (underseampling)"
   ]
  },
  {
   "cell_type": "code",
   "execution_count": 41,
   "id": "af108b99",
   "metadata": {},
   "outputs": [
    {
     "name": "stdout",
     "output_type": "stream",
     "text": [
      "LinearSVC accuracy :  0.9125\n"
     ]
    },
    {
     "name": "stderr",
     "output_type": "stream",
     "text": [
      "c:\\users\\nikol\\appdata\\local\\programs\\python\\python38\\lib\\site-packages\\sklearn\\svm\\_base.py:1206: ConvergenceWarning: Liblinear failed to converge, increase the number of iterations.\n",
      "  warnings.warn(\n"
     ]
    }
   ],
   "source": [
    "#[https://www.dataquest.io/blog/sci-kit-learn-tutorial/]\n",
    "svc_model_undersampling = LinearSVC(random_state=0)\n",
    "#train the algorithm on training data and predict using the testing data\n",
    "pred = svc_model_undersampling.fit(X_train_undersampled, y_train_undersampled).predict(X_test_undersampled)\n",
    "#print the accuracy score of the model\n",
    "print(\"LinearSVC accuracy : \",accuracy_score(y_test_undersampled, pred, normalize = True))"
   ]
  },
  {
   "cell_type": "code",
   "execution_count": 42,
   "id": "a915aeb6",
   "metadata": {},
   "outputs": [
    {
     "data": {
      "image/png": "[encoded data removed]",
      "text/plain": [
       "<Figure size 576x396 with 2 Axes>"
      ]
     },
     "metadata": {},
     "output_type": "display_data"
    }
   ],
   "source": [
    "# Instantiate the classification model and visualizer\n",
    "visualizer_undersampled = ClassificationReport(svc_model_undersampling, classes=['Won','Loss'])\n",
    "visualizer_undersampled.fit(X_train_undersampled, y_train_undersampled) # Fit the training data to the visualizer\n",
    "visualizer_undersampled.score(X_test_undersampled, y_test_undersampled) # Evaluate the model on the test data\n",
    "g = visualizer_undersampled.poof() # Draw/show/poof the data"
   ]
  },
  {
   "cell_type": "code",
   "execution_count": 43,
   "id": "ef67c85c",
   "metadata": {},
   "outputs": [
    {
     "name": "stdout",
     "output_type": "stream",
     "text": [
      "[0.875 0.975 0.95  0.925 0.925 0.85  0.95  0.925 0.875 0.975]\n",
      "Mean:  0.9225\n"
     ]
    }
   ],
   "source": [
    "# Kros validacija\n",
    "scaler = StandardScaler()\n",
    "svc_model = LinearSVC()\n",
    "\n",
    "# create a pipeline that standardizes, than runs LinearSVC\n",
    "pipeline = make_pipeline(scaler, svc_model)\n",
    "kf = StratifiedKFold(n_splits=10, shuffle=True, random_state=1)\n",
    "svc_cv_results_undersampled = cross_val_score(pipeline, X_undersampled, y_undersampled, cv=kf, scoring=\"accuracy\", n_jobs=-1)\n",
    "\n",
    "print(svc_cv_results_undersampled)\n",
    "print(\"Mean: \", svc_cv_results_undersampled.mean())"
   ]
  },
  {
   "cell_type": "markdown",
   "id": "6f873c7c",
   "metadata": {},
   "source": [
    "### Balansirani (upseampling)"
   ]
  },
  {
   "cell_type": "code",
   "execution_count": 44,
   "id": "0cc94a79",
   "metadata": {},
   "outputs": [
    {
     "name": "stdout",
     "output_type": "stream",
     "text": [
      "LinearSVC accuracy :  0.890625\n"
     ]
    },
    {
     "name": "stderr",
     "output_type": "stream",
     "text": [
      "c:\\users\\nikol\\appdata\\local\\programs\\python\\python38\\lib\\site-packages\\sklearn\\svm\\_base.py:1206: ConvergenceWarning: Liblinear failed to converge, increase the number of iterations.\n",
      "  warnings.warn(\n"
     ]
    }
   ],
   "source": [
    "#[https://www.dataquest.io/blog/sci-kit-learn-tutorial/]\n",
    "svc_model_upseampling = LinearSVC(random_state=0)\n",
    "#train the algorithm on training data and predict using the testing data\n",
    "pred = svc_model_upseampling.fit(X_train_upsampled, y_train_upsampled).predict(X_test_upsampled)\n",
    "#print the accuracy score of the model\n",
    "print(\"LinearSVC accuracy : \",accuracy_score(y_test_upsampled, pred, normalize = True))"
   ]
  },
  {
   "cell_type": "code",
   "execution_count": 45,
   "id": "60fb7a0b",
   "metadata": {
    "scrolled": false
   },
   "outputs": [
    {
     "data": {
      "image/png": "[encoded data removed]",
      "text/plain": [
       "<Figure size 576x396 with 2 Axes>"
      ]
     },
     "metadata": {},
     "output_type": "display_data"
    }
   ],
   "source": [
    "# Instantiate the classification model and visualizer\n",
    "visualizer_upsampled = ClassificationReport(svc_model_upseampling, classes=['Won','Loss'])\n",
    "visualizer_upsampled.fit(X_train_upsampled, y_train_upsampled) # Fit the training data to the visualizer\n",
    "visualizer_upsampled.score(X_test_upsampled, y_test_upsampled) # Evaluate the model on the test data\n",
    "g = visualizer_undersampled.poof() # Draw/show/poof the data"
   ]
  },
  {
   "cell_type": "code",
   "execution_count": 46,
   "id": "1173994d",
   "metadata": {},
   "outputs": [
    {
     "name": "stdout",
     "output_type": "stream",
     "text": [
      "[0.890625 0.90625  0.953125 0.890625 0.953125 0.9375   0.9375   0.953125\n",
      " 0.84375  0.953125]\n",
      "Mean:  0.921875\n"
     ]
    }
   ],
   "source": [
    "# Kros validacija\n",
    "scaler = StandardScaler()\n",
    "svc_model = LinearSVC()\n",
    "\n",
    "# create a pipeline that standardizes, than runs LinearSVC\n",
    "pipeline = make_pipeline(scaler, svc_model)\n",
    "kf = StratifiedKFold(n_splits=10, shuffle=True, random_state=1)\n",
    "svc_cv_results_upsampled = cross_val_score(pipeline, X_upsampled, y_upsampled, cv=kf, scoring=\"accuracy\", n_jobs=-1)\n",
    "\n",
    "print(svc_cv_results_upsampled)\n",
    "print(\"Mean: \", svc_cv_results_upsampled.mean())"
   ]
  },
  {
   "cell_type": "code",
   "execution_count": 47,
   "id": "fa2712bf",
   "metadata": {},
   "outputs": [
    {
     "data": {
      "image/png": "[encoded data removed]",
      "text/plain": [
       "<Figure size 360x216 with 1 Axes>"
      ]
     },
     "metadata": {},
     "output_type": "display_data"
    }
   ],
   "source": [
    "### Kros validacija, poredjenje \n",
    "\n",
    "plt.figure(figsize=(5, 3))\n",
    "plt.ylim(0.8, 1.00)\n",
    "plt.bar(['mean_acc_im', 'mean_acc_under', 'mean_acc_up'], [svc_cv_results_imbalanced.mean(), svc_cv_results_undersampled.mean(), svc_cv_results_upsampled.mean()])\n",
    "plt.suptitle('LinearSVC comparison between imbalanced, undersampling and upsampling')\n",
    "plt.show()"
   ]
  },
  {
   "cell_type": "markdown",
   "id": "c9a80429",
   "metadata": {},
   "source": [
    "## KNearest Neighboars"
   ]
  },
  {
   "cell_type": "markdown",
   "id": "a91e533a",
   "metadata": {},
   "source": [
    "### Nebalansirani"
   ]
  },
  {
   "cell_type": "code",
   "execution_count": 48,
   "id": "514562bb",
   "metadata": {},
   "outputs": [
    {
     "name": "stdout",
     "output_type": "stream",
     "text": [
      "KNeighbors accuracy score :  0.875\n"
     ]
    }
   ],
   "source": [
    "#import necessary modules\n",
    "from sklearn.neighbors import KNeighborsClassifier\n",
    "from sklearn.metrics import accuracy_score\n",
    "#create object of the lassifier\n",
    "neigh = KNeighborsClassifier(n_neighbors=2)\n",
    "#Train the algorithm\n",
    "neigh.fit(X_train_imbalanced, y_train_imbalanced)\n",
    "# predict the response\n",
    "pred = neigh.predict(X_test_imbalanced)\n",
    "# evaluate accuracy\n",
    "print (\"KNeighbors accuracy score : \",accuracy_score(y_test_imbalanced, pred))"
   ]
  },
  {
   "cell_type": "code",
   "execution_count": 49,
   "id": "dead029a",
   "metadata": {},
   "outputs": [
    {
     "data": {
      "image/png": "[encoded data removed]",
      "text/plain": [
       "<Figure size 576x396 with 2 Axes>"
      ]
     },
     "metadata": {},
     "output_type": "display_data"
    }
   ],
   "source": [
    "from yellowbrick.classifier import ClassificationReport\n",
    "# Instantiate the classification model and visualizer\n",
    "visualizer = ClassificationReport(neigh, classes=['Won','Loss'])\n",
    "visualizer.fit(X_train_imbalanced, y_train_imbalanced) # Fit the training data to the visualizer\n",
    "visualizer.score(X_test_imbalanced, y_test_imbalanced) # Evaluate the model on the test data\n",
    "g = visualizer.poof() # Draw/show/poof the data"
   ]
  },
  {
   "cell_type": "code",
   "execution_count": 50,
   "id": "fb1f7092",
   "metadata": {},
   "outputs": [
    {
     "name": "stdout",
     "output_type": "stream",
     "text": [
      "[0.84615385 0.98076923 0.94230769 0.90384615 0.94230769 0.92307692\n",
      " 0.92307692 0.94230769 0.98076923 0.90384615]\n",
      "Mean:  0.9288461538461539\n"
     ]
    }
   ],
   "source": [
    "#Kros validacija\n",
    "\n",
    "scaler = StandardScaler()\n",
    "knn_classifier = KNeighborsClassifier(n_neighbors=5)\n",
    "\n",
    "pipeline = make_pipeline(scaler, knn_classifier)\n",
    "kf = StratifiedKFold(n_splits=10, shuffle=True, random_state=1)\n",
    "knn_cv_results_imbalanced = cross_val_score(pipeline, X_imbalanced, y_imbalanced, cv=kf, scoring=\"accuracy\", n_jobs=-1)\n",
    "\n",
    "print(knn_cv_results_imbalanced)\n",
    "print(\"Mean: \", knn_cv_results_imbalanced.mean())"
   ]
  },
  {
   "cell_type": "markdown",
   "id": "fe2c6c6a",
   "metadata": {},
   "source": [
    "### Balansirani (underseampling)"
   ]
  },
  {
   "cell_type": "code",
   "execution_count": 51,
   "id": "865686ff",
   "metadata": {},
   "outputs": [
    {
     "name": "stdout",
     "output_type": "stream",
     "text": [
      "KNeighbors accuracy score :  0.8375\n"
     ]
    }
   ],
   "source": [
    "#create object of the lassifier\n",
    "neigh_undersampled = KNeighborsClassifier(n_neighbors=2)\n",
    "#Train the algorithm\n",
    "neigh_undersampled.fit(X_train_undersampled, y_train_undersampled)\n",
    "# predict the response\n",
    "pred = neigh_undersampled.predict(X_test_undersampled)\n",
    "# evaluate accuracy\n",
    "print (\"KNeighbors accuracy score : \",accuracy_score(y_test_undersampled, pred))"
   ]
  },
  {
   "cell_type": "code",
   "execution_count": 52,
   "id": "337851cd",
   "metadata": {},
   "outputs": [
    {
     "data": {
      "image/png": "[encoded data removed]",
      "text/plain": [
       "<Figure size 576x396 with 2 Axes>"
      ]
     },
     "metadata": {},
     "output_type": "display_data"
    }
   ],
   "source": [
    "# Instantiate the classification model and visualizer\n",
    "visualizer_undersampled = ClassificationReport(neigh_undersampled, classes=['Won','Loss'])\n",
    "visualizer_undersampled.fit(X_train_undersampled, y_train_undersampled) # Fit the training data to the visualizer\n",
    "visualizer_undersampled.score(X_test_undersampled, y_test_undersampled) # Evaluate the model on the test data\n",
    "g = visualizer.poof() # Draw/show/poof the data"
   ]
  },
  {
   "cell_type": "code",
   "execution_count": 53,
   "id": "5b2cef95",
   "metadata": {},
   "outputs": [
    {
     "name": "stdout",
     "output_type": "stream",
     "text": [
      "[0.95  0.95  0.95  0.85  0.975 0.875 0.925 0.95  0.875 0.975]\n",
      "Mean:  0.9275\n"
     ]
    }
   ],
   "source": [
    "scaler = StandardScaler()\n",
    "knn_classifier = KNeighborsClassifier(n_neighbors=5)\n",
    "\n",
    "pipeline = make_pipeline(scaler, knn_classifier)\n",
    "kf = StratifiedKFold(n_splits=10, shuffle=True, random_state=1)\n",
    "knn_cv_results_undersampled = cross_val_score(pipeline, X_undersampled, y_undersampled, cv=kf, scoring=\"accuracy\", n_jobs=-1)\n",
    "\n",
    "print(knn_cv_results_undersampled)\n",
    "print(\"Mean: \", knn_cv_results_undersampled.mean())"
   ]
  },
  {
   "cell_type": "markdown",
   "id": "d990f472",
   "metadata": {},
   "source": [
    "### Balansirani (upsampling)"
   ]
  },
  {
   "cell_type": "code",
   "execution_count": 54,
   "id": "9b4aa278",
   "metadata": {},
   "outputs": [
    {
     "name": "stdout",
     "output_type": "stream",
     "text": [
      "KNeighbors accuracy score :  0.9296875\n"
     ]
    }
   ],
   "source": [
    "#create object of the lassifier\n",
    "neigh_upsampled = KNeighborsClassifier(n_neighbors=2)\n",
    "#Train the algorithm\n",
    "neigh_upsampled.fit(X_train_upsampled, y_train_upsampled)\n",
    "# predict the response\n",
    "pred = neigh_upsampled.predict(X_test_upsampled)\n",
    "# evaluate accuracy\n",
    "print (\"KNeighbors accuracy score : \",accuracy_score(y_test_upsampled, pred))"
   ]
  },
  {
   "cell_type": "code",
   "execution_count": 55,
   "id": "8333acfa",
   "metadata": {},
   "outputs": [
    {
     "data": {
      "image/png": "[encoded data removed]",
      "text/plain": [
       "<Figure size 576x396 with 2 Axes>"
      ]
     },
     "metadata": {},
     "output_type": "display_data"
    }
   ],
   "source": [
    "# Instantiate the classification model and visualizer\n",
    "visualizer_upsampled = ClassificationReport(neigh_upsampled, classes=['Won','Loss'])\n",
    "visualizer_upsampled.fit(X_train_upsampled, y_train_upsampled) # Fit the training data to the visualizer\n",
    "visualizer_upsampled.score(X_test_upsampled, y_test_upsampled) # Evaluate the model on the test data\n",
    "g = visualizer.poof() # Draw/show/poof the data"
   ]
  },
  {
   "cell_type": "code",
   "execution_count": 56,
   "id": "2952f03c",
   "metadata": {},
   "outputs": [
    {
     "name": "stdout",
     "output_type": "stream",
     "text": [
      "[0.90625  0.984375 0.953125 0.96875  0.96875  0.953125 0.9375   0.96875\n",
      " 0.90625  0.921875]\n",
      "Mean:  0.946875\n"
     ]
    }
   ],
   "source": [
    "# Kros validacija\n",
    "scaler = StandardScaler()\n",
    "knn_classifier = KNeighborsClassifier(n_neighbors=5) # 3\n",
    "\n",
    "pipeline = make_pipeline(scaler, knn_classifier)\n",
    "kf = StratifiedKFold(n_splits=10, shuffle=True, random_state=1)\n",
    "knn_cv_results_upsampled = cross_val_score(pipeline, X_upsampled, y_upsampled, cv=kf, scoring=\"accuracy\", n_jobs=-1)\n",
    "\n",
    "print(knn_cv_results_upsampled)\n",
    "print(\"Mean: \", knn_cv_results_upsampled.mean())"
   ]
  },
  {
   "cell_type": "code",
   "execution_count": 57,
   "id": "8a420853",
   "metadata": {},
   "outputs": [
    {
     "data": {
      "image/png": "[encoded data removed]",
      "text/plain": [
       "<Figure size 360x216 with 1 Axes>"
      ]
     },
     "metadata": {},
     "output_type": "display_data"
    }
   ],
   "source": [
    "### Kros validacija, poredjenje \n",
    "plt.figure(figsize=(5, 3))\n",
    "plt.ylim(0.8, 1.00)\n",
    "plt.bar(['mean_acc_im', 'mean_acc_under', 'mean_acc_up'], [knn_cv_results_imbalanced.mean(), knn_cv_results_undersampled.mean(), knn_cv_results_upsampled.mean()])\n",
    "plt.suptitle('K-Nearest Neighbors comparison between imbalanced, undersampling and upsampling')\n",
    "plt.show()"
   ]
  },
  {
   "cell_type": "markdown",
   "id": "3a0132ff",
   "metadata": {},
   "source": [
    "## Naive Bayes"
   ]
  },
  {
   "cell_type": "markdown",
   "id": "9ab1161b",
   "metadata": {},
   "source": [
    "### Nebalansirani"
   ]
  },
  {
   "cell_type": "code",
   "execution_count": 58,
   "id": "7996b26d",
   "metadata": {},
   "outputs": [
    {
     "name": "stdout",
     "output_type": "stream",
     "text": [
      "Naive-Bayes accuracy :  0.8942307692307693\n"
     ]
    }
   ],
   "source": [
    "# import the necessary module\n",
    "from sklearn.naive_bayes import GaussianNB\n",
    "from sklearn.metrics import accuracy_score\n",
    "#create an object of the type GaussianNB\n",
    "gnb = GaussianNB()\n",
    "#train the algorithm on training data and predict using the testing data\n",
    "pred = gnb.fit(X_train_imbalanced, y_train_imbalanced).predict(X_test_imbalanced)\n",
    "#print(pred.tolist())\n",
    "#print the accuracy score of the model\n",
    "print(\"Naive-Bayes accuracy : \",accuracy_score(y_test_imbalanced, pred, normalize = True))"
   ]
  },
  {
   "cell_type": "code",
   "execution_count": 59,
   "id": "426c3ad9",
   "metadata": {},
   "outputs": [
    {
     "data": {
      "image/png": "[encoded data removed]",
      "text/plain": [
       "<Figure size 576x396 with 2 Axes>"
      ]
     },
     "metadata": {},
     "output_type": "display_data"
    }
   ],
   "source": [
    "from yellowbrick.classifier import ClassificationReport\n",
    "# Instantiate the classification model and visualizer\n",
    "visualizer = ClassificationReport(gnb, classes=['Won','Loss'])\n",
    "visualizer.fit(X_train_imbalanced, y_train_imbalanced) # Fit the training data to the visualizer\n",
    "visualizer.score(X_test_imbalanced, y_test_imbalanced) # Evaluate the model on the test data\n",
    "g = visualizer.poof() # Draw/show/poof the data"
   ]
  },
  {
   "cell_type": "code",
   "execution_count": 60,
   "id": "7695f8b8",
   "metadata": {},
   "outputs": [
    {
     "name": "stdout",
     "output_type": "stream",
     "text": [
      "[0.84615385 0.90384615 0.86538462 0.86538462 0.88461538 0.90384615\n",
      " 0.90384615 0.88461538 0.90384615 0.96153846]\n",
      "Mean:  0.8923076923076924\n"
     ]
    }
   ],
   "source": [
    "#Kros validacija\n",
    "scaler = StandardScaler()\n",
    "nb_model = GaussianNB()\n",
    "\n",
    "# create a pipeline that standardizes, that runs Naive bayes\n",
    "pipeline = make_pipeline(scaler, nb_model)\n",
    "kf = StratifiedKFold(n_splits=10, shuffle=True, random_state=1)\n",
    "nb_cv_results_imbalanced = cross_val_score(pipeline, X_imbalanced, y_imbalanced, cv=kf, scoring=\"accuracy\", n_jobs=-1)\n",
    "\n",
    "print(nb_cv_results_imbalanced)\n",
    "print(\"Mean: \", nb_cv_results_imbalanced.mean())"
   ]
  },
  {
   "cell_type": "markdown",
   "id": "f339f4ab",
   "metadata": {},
   "source": [
    "### Balansirani (underseampling)"
   ]
  },
  {
   "cell_type": "code",
   "execution_count": 61,
   "id": "ef0d3da2",
   "metadata": {},
   "outputs": [
    {
     "name": "stdout",
     "output_type": "stream",
     "text": [
      "Naive-Bayes accuracy :  0.9125\n"
     ]
    }
   ],
   "source": [
    "#create an object of the type GaussianNB\n",
    "gnb_underseampling = GaussianNB()\n",
    "#train the algorithm on training data and predict using the testing data\n",
    "pred = gnb_underseampling.fit(X_train_undersampled, y_train_undersampled).predict(X_test_undersampled)\n",
    "#print(pred.tolist())\n",
    "#print the accuracy score of the model\n",
    "print(\"Naive-Bayes accuracy : \",accuracy_score(y_test_undersampled, pred, normalize = True))"
   ]
  },
  {
   "cell_type": "code",
   "execution_count": 62,
   "id": "aa439c87",
   "metadata": {},
   "outputs": [
    {
     "data": {
      "image/png": "[encoded data removed]",
      "text/plain": [
       "<Figure size 576x396 with 2 Axes>"
      ]
     },
     "metadata": {},
     "output_type": "display_data"
    }
   ],
   "source": [
    "from yellowbrick.classifier import ClassificationReport\n",
    "# Instantiate the classification model and visualizer\n",
    "visualizer_undesampled = ClassificationReport(gnb_underseampling, classes=['Won','Loss'])\n",
    "visualizer_undesampled.fit(X_train_undersampled, y_train_undersampled) # Fit the training data to the visualizer\n",
    "visualizer_undesampled.score(X_test_undersampled, y_test_undersampled) # Evaluate the model on the test data\n",
    "g = visualizer.poof() # Draw/show/poof the data"
   ]
  },
  {
   "cell_type": "code",
   "execution_count": 63,
   "id": "1b117eaf",
   "metadata": {},
   "outputs": [
    {
     "name": "stdout",
     "output_type": "stream",
     "text": [
      "[0.95  0.95  0.9   0.775 0.85  0.925 0.95  0.95  0.825 0.8  ]\n",
      "Mean:  0.8875\n"
     ]
    }
   ],
   "source": [
    "scaler = StandardScaler()\n",
    "nb_model = GaussianNB()\n",
    "\n",
    "# create a pipeline that standardizes, that runs Naive bayes\n",
    "pipeline = make_pipeline(scaler, nb_model)\n",
    "kf = StratifiedKFold(n_splits=10, shuffle=True, random_state=1)\n",
    "nb_cv_results_undersampled = cross_val_score(pipeline, X_undersampled, y_undersampled, cv=kf, scoring=\"accuracy\", n_jobs=-1)\n",
    "\n",
    "print(nb_cv_results_undersampled)\n",
    "print(\"Mean: \", nb_cv_results_undersampled.mean())"
   ]
  },
  {
   "cell_type": "markdown",
   "id": "ad901434",
   "metadata": {},
   "source": [
    "### Balansirani (upseampling)"
   ]
  },
  {
   "cell_type": "code",
   "execution_count": 64,
   "id": "fd9c8566",
   "metadata": {},
   "outputs": [
    {
     "name": "stdout",
     "output_type": "stream",
     "text": [
      "Naive-Bayes accuracy :  0.8671875\n"
     ]
    }
   ],
   "source": [
    "#create an object of the type GaussianNB\n",
    "gnb_upsampling = GaussianNB()\n",
    "#train the algorithm on training data and predict using the testing data\n",
    "pred = gnb_upsampling.fit(X_train_upsampled, y_train_upsampled).predict(X_test_upsampled)\n",
    "#print(pred.tolist())\n",
    "#print the accuracy score of the model\n",
    "print(\"Naive-Bayes accuracy : \",accuracy_score(y_test_upsampled, pred, normalize = True))"
   ]
  },
  {
   "cell_type": "code",
   "execution_count": 65,
   "id": "59390942",
   "metadata": {},
   "outputs": [
    {
     "data": {
      "image/png": "[encoded data removed]",
      "text/plain": [
       "<Figure size 576x396 with 2 Axes>"
      ]
     },
     "metadata": {},
     "output_type": "display_data"
    }
   ],
   "source": [
    "from yellowbrick.classifier import ClassificationReport\n",
    "# Instantiate the classification model and visualizer\n",
    "visualizer_upsampled = ClassificationReport(gnb_upsampling, classes=['Won','Loss'])\n",
    "visualizer_upsampled.fit(X_train_upsampled, y_train_upsampled) # Fit the training data to the visualizer\n",
    "visualizer_upsampled.score(X_test_upsampled, y_test_upsampled) # Evaluate the model on the test data\n",
    "g = visualizer.poof() # Draw/show/poof the data"
   ]
  },
  {
   "cell_type": "code",
   "execution_count": 66,
   "id": "437d9208",
   "metadata": {},
   "outputs": [
    {
     "name": "stdout",
     "output_type": "stream",
     "text": [
      "[0.8125   0.875    0.9375   0.828125 0.875    0.859375 0.921875 0.921875\n",
      " 0.875    0.90625 ]\n",
      "Mean:  0.88125\n"
     ]
    }
   ],
   "source": [
    "scaler = StandardScaler()\n",
    "nb_model = GaussianNB()\n",
    "\n",
    "# create a pipeline that standardizes, that runs Naive bayes\n",
    "pipeline = make_pipeline(scaler, nb_model)\n",
    "kf = StratifiedKFold(n_splits=10, shuffle=True, random_state=1)\n",
    "nb_cv_results_upsampled = cross_val_score(pipeline, X_upsampled, y_upsampled, cv=kf, scoring=\"accuracy\", n_jobs=-1)\n",
    "\n",
    "print(nb_cv_results_upsampled)\n",
    "print(\"Mean: \", nb_cv_results_upsampled.mean())"
   ]
  },
  {
   "cell_type": "code",
   "execution_count": 67,
   "id": "78583da0",
   "metadata": {},
   "outputs": [
    {
     "data": {
      "image/png": "[encoded data removed]",
      "text/plain": [
       "<Figure size 360x216 with 1 Axes>"
      ]
     },
     "metadata": {},
     "output_type": "display_data"
    }
   ],
   "source": [
    "### Kros validacija, poredjenje \n",
    "plt.figure(figsize=(5, 3))\n",
    "plt.ylim(0.8, 1.00)\n",
    "plt.bar(['mean_acc_im', 'mean_acc_under', 'mean_acc_up'], [nb_cv_results_imbalanced.mean(), nb_cv_results_undersampled.mean(), nb_cv_results_upsampled.mean()])\n",
    "plt.suptitle('Naive Bayes comparison between imbalanced, undersampling and upsampling')\n",
    "plt.show()"
   ]
  },
  {
   "cell_type": "markdown",
   "id": "307f464f",
   "metadata": {},
   "source": [
    "## PITANJA 14.12.2022"
   ]
  },
  {
   "cell_type": "markdown",
   "id": "0b901cbe",
   "metadata": {},
   "source": [
    "Da odradimo kros validaciju za jos algoritama, pa da na osnovu najboljih odaberemo 2,3 koja daju najbolje vrednosti i sa njima radimo dublju analizu?"
   ]
  },
  {
   "cell_type": "code",
   "execution_count": 68,
   "id": "726b0236",
   "metadata": {},
   "outputs": [],
   "source": [
    "# Ukljuciti analizu f1 mere!!"
   ]
  },
  {
   "cell_type": "markdown",
   "id": "9a773bfe",
   "metadata": {},
   "source": [
    "### Logistic regression\n"
   ]
  },
  {
   "cell_type": "code",
   "execution_count": 69,
   "id": "dcd2147b",
   "metadata": {},
   "outputs": [],
   "source": [
    "from sklearn.linear_model import LogisticRegression"
   ]
  },
  {
   "cell_type": "code",
   "execution_count": 70,
   "id": "7965c048",
   "metadata": {},
   "outputs": [
    {
     "name": "stdout",
     "output_type": "stream",
     "text": [
      "[0.86538462 0.92307692 0.90384615 0.84615385 0.96153846 0.88461538\n",
      " 0.98076923 0.92307692 0.96153846 0.98076923]\n",
      "Mean:  0.923076923076923\n"
     ]
    }
   ],
   "source": [
    "#nebalansirano\n",
    "\n",
    "scaler = StandardScaler()\n",
    "lr_classifier = LogisticRegression()\n",
    "\n",
    "pipeline = make_pipeline(scaler, lr_classifier)\n",
    "kf = StratifiedKFold(n_splits=10, shuffle=True, random_state=1)\n",
    "lr_cv_results_imbalanced = cross_val_score(pipeline, X_imbalanced, y_imbalanced, cv=kf, scoring=\"accuracy\", n_jobs=-1)\n",
    "\n",
    "print(lr_cv_results_imbalanced)\n",
    "print(\"Mean: \", lr_cv_results_imbalanced.mean())"
   ]
  },
  {
   "cell_type": "code",
   "execution_count": 71,
   "id": "b861fa2a",
   "metadata": {},
   "outputs": [
    {
     "name": "stdout",
     "output_type": "stream",
     "text": [
      "[0.925 0.975 0.95  0.925 0.925 0.85  0.975 0.925 0.875 0.975]\n",
      "Mean:  0.9299999999999999\n"
     ]
    }
   ],
   "source": [
    "#underseampling\n",
    "\n",
    "scaler = StandardScaler()\n",
    "lr_classifier = LogisticRegression()\n",
    "\n",
    "pipeline = make_pipeline(scaler, lr_classifier)\n",
    "kf = StratifiedKFold(n_splits=10, shuffle=True, random_state=1)\n",
    "lr_cv_results_undersampled = cross_val_score(pipeline, X_undersampled, y_undersampled, cv=kf, scoring=\"accuracy\", n_jobs=-1)\n",
    "\n",
    "print(lr_cv_results_undersampled)\n",
    "print(\"Mean: \", lr_cv_results_undersampled.mean())"
   ]
  },
  {
   "cell_type": "code",
   "execution_count": 72,
   "id": "7f86fa1e",
   "metadata": {},
   "outputs": [
    {
     "name": "stdout",
     "output_type": "stream",
     "text": [
      "[0.890625 0.921875 0.953125 0.890625 0.9375   0.953125 0.9375   0.96875\n",
      " 0.84375  0.953125]\n",
      "Mean:  0.925\n"
     ]
    }
   ],
   "source": [
    "# upsampling\n",
    "\n",
    "scaler = StandardScaler()\n",
    "lr_classifier = LogisticRegression()\n",
    "\n",
    "pipeline = make_pipeline(scaler, lr_classifier)\n",
    "kf = StratifiedKFold(n_splits=10, shuffle=True, random_state=1)\n",
    "lr_cv_results_upsampled = cross_val_score(pipeline, X_upsampled, y_upsampled, cv=kf, scoring=\"accuracy\", n_jobs=-1)\n",
    "\n",
    "print(lr_cv_results_upsampled)\n",
    "print(\"Mean: \", lr_cv_results_upsampled.mean())"
   ]
  },
  {
   "cell_type": "markdown",
   "id": "60579fa9",
   "metadata": {},
   "source": [
    "### poredjenje "
   ]
  },
  {
   "cell_type": "code",
   "execution_count": 73,
   "id": "91583f5c",
   "metadata": {},
   "outputs": [
    {
     "data": {
      "image/png": "[encoded data removed]",
      "text/plain": [
       "<Figure size 360x216 with 1 Axes>"
      ]
     },
     "metadata": {},
     "output_type": "display_data"
    }
   ],
   "source": [
    "plt.figure(figsize=(5, 3))\n",
    "plt.ylim(0.8, 1.00)\n",
    "plt.bar(['mean_acc_im', 'mean_acc_under', 'mean_acc_up'], [lr_cv_results_imbalanced.mean(), lr_cv_results_undersampled.mean(), lr_cv_results_upsampled.mean()])\n",
    "plt.suptitle('Logistic Regression comparison between imbalanced, undersampling and upsampling')\n",
    "plt.show()"
   ]
  },
  {
   "cell_type": "markdown",
   "id": "50282f50",
   "metadata": {},
   "source": [
    "### Decision tree"
   ]
  },
  {
   "cell_type": "code",
   "execution_count": 74,
   "id": "0fabb5cb",
   "metadata": {},
   "outputs": [
    {
     "name": "stdout",
     "output_type": "stream",
     "text": [
      "[0.92307692 0.98076923 0.98076923 0.94230769 0.94230769 0.90384615\n",
      " 1.         0.98076923 0.88461538 0.98076923]\n",
      "Mean:  0.9519230769230769\n"
     ]
    }
   ],
   "source": [
    "#nebalansirano\n",
    "\n",
    "scaler = StandardScaler()\n",
    "dt_classifier = DecisionTreeClassifier(random_state=0)\n",
    "\n",
    "pipeline = make_pipeline(scaler, dt_classifier)\n",
    "kf = StratifiedKFold(n_splits=10, shuffle=True, random_state=1)\n",
    "dt_cv_results_imbalanced = cross_val_score(pipeline, X_imbalanced, y_imbalanced, cv=kf, scoring=\"accuracy\", n_jobs=-1)\n",
    "\n",
    "print(dt_cv_results_imbalanced)\n",
    "print(\"Mean: \", dt_cv_results_imbalanced.mean())"
   ]
  },
  {
   "cell_type": "code",
   "execution_count": 75,
   "id": "c6df23be",
   "metadata": {},
   "outputs": [
    {
     "name": "stdout",
     "output_type": "stream",
     "text": [
      "[0.975 0.975 0.95  0.925 0.925 0.9   0.95  0.975 0.975 0.975]\n",
      "Mean:  0.9525\n"
     ]
    }
   ],
   "source": [
    "# undersampling\n",
    "\n",
    "scaler = StandardScaler()\n",
    "dt_classifier = DecisionTreeClassifier(random_state=0)\n",
    "\n",
    "pipeline = make_pipeline(scaler, dt_classifier)\n",
    "kf = StratifiedKFold(n_splits=10, shuffle=True, random_state=1)\n",
    "dt_cv_results_undersampled = cross_val_score(pipeline, X_undersampled, y_undersampled, cv=kf, scoring=\"accuracy\", n_jobs=-1)\n",
    "\n",
    "print(dt_cv_results_undersampled)\n",
    "print(\"Mean: \", dt_cv_results_undersampled.mean())"
   ]
  },
  {
   "cell_type": "code",
   "execution_count": 76,
   "id": "7aba4080",
   "metadata": {},
   "outputs": [
    {
     "name": "stdout",
     "output_type": "stream",
     "text": [
      "[0.953125 1.       1.       0.953125 0.984375 0.96875  0.984375 0.984375\n",
      " 0.953125 1.      ]\n",
      "Mean:  0.978125\n"
     ]
    }
   ],
   "source": [
    "# upsampling\n",
    "\n",
    "scaler = StandardScaler()\n",
    "dt_classifier = DecisionTreeClassifier(random_state=0)\n",
    "\n",
    "pipeline = make_pipeline(scaler, dt_classifier)\n",
    "kf = StratifiedKFold(n_splits=10, shuffle=True, random_state=1)\n",
    "dt_cv_results_upsampled = cross_val_score(pipeline, X_upsampled, y_upsampled, cv=kf, scoring=\"accuracy\", n_jobs=-1)\n",
    "\n",
    "print(dt_cv_results_upsampled)\n",
    "print(\"Mean: \", dt_cv_results_upsampled.mean())"
   ]
  },
  {
   "cell_type": "markdown",
   "id": "d7aa033a",
   "metadata": {},
   "source": [
    "#### Poredjenje Decision tree"
   ]
  },
  {
   "cell_type": "code",
   "execution_count": 77,
   "id": "148da7d3",
   "metadata": {},
   "outputs": [
    {
     "data": {
      "image/png": "[encoded data removed]",
      "text/plain": [
       "<Figure size 360x216 with 1 Axes>"
      ]
     },
     "metadata": {},
     "output_type": "display_data"
    }
   ],
   "source": [
    "plt.figure(figsize=(5, 3))\n",
    "plt.ylim(0.8, 1.00)\n",
    "plt.bar(['mean_acc_im', 'mean_acc_under', 'mean_acc_up'], [dt_cv_results_imbalanced.mean(), dt_cv_results_undersampled.mean(), dt_cv_results_upsampled.mean()])\n",
    "plt.suptitle('Decision tree comparison between imbalanced, undersampling and upsampling')\n",
    "plt.show()"
   ]
  },
  {
   "cell_type": "markdown",
   "id": "76a7bb3d",
   "metadata": {},
   "source": [
    "### Random forest"
   ]
  },
  {
   "cell_type": "code",
   "execution_count": 78,
   "id": "c4ddd478",
   "metadata": {},
   "outputs": [
    {
     "name": "stdout",
     "output_type": "stream",
     "text": [
      "[0.96153846 0.98076923 0.98076923 0.96153846 0.96153846 0.96153846\n",
      " 1.         1.         0.98076923 1.        ]\n",
      "Mean:  0.9788461538461538\n"
     ]
    }
   ],
   "source": [
    "#nebalansirsano\n",
    "\n",
    "scaler = StandardScaler()\n",
    "rf_model = RandomForestClassifier()\n",
    "\n",
    "pipeline = make_pipeline(scaler, rf_model)\n",
    "kf = StratifiedKFold(n_splits=10, shuffle=True, random_state=1)\n",
    "rf_cv_results_imbalanced = cross_val_score(pipeline, X_imbalanced, y_imbalanced, cv=kf, scoring=\"accuracy\", n_jobs=-1)\n",
    "\n",
    "print(rf_cv_results_imbalanced)\n",
    "print(\"Mean: \", rf_cv_results_imbalanced.mean())"
   ]
  },
  {
   "cell_type": "code",
   "execution_count": 79,
   "id": "4f5cff7e",
   "metadata": {},
   "outputs": [
    {
     "name": "stdout",
     "output_type": "stream",
     "text": [
      "[0.975 0.975 0.95  0.925 0.975 0.9   1.    0.975 0.975 1.   ]\n",
      "Mean:  0.9650000000000001\n"
     ]
    }
   ],
   "source": [
    "#undersampling\n",
    "\n",
    "scaler = StandardScaler()\n",
    "rf_model = RandomForestClassifier()\n",
    "\n",
    "pipeline = make_pipeline(scaler, rf_model)\n",
    "kf = StratifiedKFold(n_splits=10, shuffle=True, random_state=1)\n",
    "rf_cv_results_undersampled = cross_val_score(pipeline, X_undersampled, y_undersampled, cv=kf, scoring=\"accuracy\", n_jobs=-1)\n",
    "\n",
    "print(rf_cv_results_undersampled)\n",
    "print(\"Mean: \", rf_cv_results_undersampled.mean())"
   ]
  },
  {
   "cell_type": "code",
   "execution_count": 80,
   "id": "e18f3a92",
   "metadata": {},
   "outputs": [
    {
     "name": "stdout",
     "output_type": "stream",
     "text": [
      "[0.96875  1.       1.       0.953125 0.984375 0.984375 0.984375 1.\n",
      " 0.9375   1.      ]\n",
      "Mean:  0.98125\n"
     ]
    }
   ],
   "source": [
    "#upsampling\n",
    "\n",
    "scaler = StandardScaler()\n",
    "rf_model = RandomForestClassifier()\n",
    "\n",
    "pipeline = make_pipeline(scaler, rf_model)\n",
    "kf = StratifiedKFold(n_splits=10, shuffle=True, random_state=1)\n",
    "rf_cv_results_upsampled = cross_val_score(pipeline, X_upsampled, y_upsampled, cv=kf, scoring=\"accuracy\", n_jobs=-1)\n",
    "\n",
    "print(rf_cv_results_upsampled)\n",
    "print(\"Mean: \", rf_cv_results_upsampled.mean())"
   ]
  },
  {
   "cell_type": "markdown",
   "id": "462a2cd7",
   "metadata": {},
   "source": [
    "#### Poredjenje Random Forest"
   ]
  },
  {
   "cell_type": "code",
   "execution_count": 81,
   "id": "a86c8ed4",
   "metadata": {},
   "outputs": [
    {
     "data": {
      "image/png": "[encoded data removed]",
      "text/plain": [
       "<Figure size 360x216 with 1 Axes>"
      ]
     },
     "metadata": {},
     "output_type": "display_data"
    }
   ],
   "source": [
    "plt.figure(figsize=(5, 3))\n",
    "plt.ylim(0.8, 1.00)\n",
    "plt.bar(['mean_acc_im', 'mean_acc_under', 'mean_acc_up'], [rf_cv_results_imbalanced.mean(), rf_cv_results_undersampled.mean(), rf_cv_results_upsampled.mean()])\n",
    "plt.suptitle('Random forest comparison between imbalanced, undersampling and upsampling')\n",
    "plt.show()"
   ]
  },
  {
   "cell_type": "markdown",
   "id": "e94e3a83",
   "metadata": {},
   "source": [
    "### Gradient Boost"
   ]
  },
  {
   "cell_type": "code",
   "execution_count": 82,
   "id": "f605117d",
   "metadata": {},
   "outputs": [
    {
     "name": "stdout",
     "output_type": "stream",
     "text": [
      "[0.96153846 0.98076923 0.98076923 0.92307692 0.94230769 0.96153846\n",
      " 0.98076923 1.         0.96153846 0.98076923]\n",
      "Mean:  0.9673076923076922\n"
     ]
    }
   ],
   "source": [
    "#imbalanced\n",
    "\n",
    "scaler = StandardScaler()\n",
    "gb_model = GradientBoostingClassifier(learning_rate=0.1)\n",
    "\n",
    "pipeline = make_pipeline(scaler, gb_model)\n",
    "kf = StratifiedKFold(n_splits=10, shuffle=True, random_state=1)\n",
    "gb_cv_results_imbalanced = cross_val_score(pipeline, X_imbalanced, y_imbalanced, cv=kf, scoring=\"accuracy\", n_jobs=-1)\n",
    "\n",
    "print(gb_cv_results_imbalanced)\n",
    "print(\"Mean: \", gb_cv_results_imbalanced.mean())"
   ]
  },
  {
   "cell_type": "code",
   "execution_count": 83,
   "id": "9c1e3fe7",
   "metadata": {},
   "outputs": [
    {
     "name": "stdout",
     "output_type": "stream",
     "text": [
      "[0.975 0.975 0.95  0.95  0.975 0.95  0.95  0.975 0.925 1.   ]\n",
      "Mean:  0.9625\n"
     ]
    }
   ],
   "source": [
    "#undersampling\n",
    "\n",
    "scaler = StandardScaler()\n",
    "gb_model = GradientBoostingClassifier(learning_rate=0.1)\n",
    "\n",
    "pipeline = make_pipeline(scaler, gb_model)\n",
    "kf = StratifiedKFold(n_splits=10, shuffle=True, random_state=1)\n",
    "gb_cv_results_undersampled = cross_val_score(pipeline, X_undersampled, y_undersampled, cv=kf, scoring=\"accuracy\", n_jobs=-1)\n",
    "\n",
    "print(gb_cv_results_undersampled)\n",
    "print(\"Mean: \", gb_cv_results_undersampled.mean())"
   ]
  },
  {
   "cell_type": "code",
   "execution_count": 84,
   "id": "d2d899b2",
   "metadata": {},
   "outputs": [
    {
     "name": "stdout",
     "output_type": "stream",
     "text": [
      "[0.96875  1.       0.984375 0.953125 0.984375 0.96875  0.984375 1.\n",
      " 0.9375   1.      ]\n",
      "Mean:  0.978125\n"
     ]
    }
   ],
   "source": [
    "#upsampling\n",
    "\n",
    "scaler = StandardScaler()\n",
    "gb_model = GradientBoostingClassifier(learning_rate=0.1)\n",
    "\n",
    "pipeline = make_pipeline(scaler, gb_model)\n",
    "kf = StratifiedKFold(n_splits=10, shuffle=True, random_state=1)\n",
    "gb_cv_results_upsampled = cross_val_score(pipeline, X_upsampled, y_upsampled, cv=kf, scoring=\"accuracy\", n_jobs=-1)\n",
    "\n",
    "print(gb_cv_results_upsampled)\n",
    "print(\"Mean: \", gb_cv_results_upsampled.mean())"
   ]
  },
  {
   "cell_type": "markdown",
   "id": "c0615a4e",
   "metadata": {},
   "source": [
    "#### Poredjenje Gradient Boost"
   ]
  },
  {
   "cell_type": "code",
   "execution_count": 85,
   "id": "4d98e86e",
   "metadata": {},
   "outputs": [
    {
     "data": {
      "image/png": "[encoded data removed]",
      "text/plain": [
       "<Figure size 360x216 with 1 Axes>"
      ]
     },
     "metadata": {},
     "output_type": "display_data"
    }
   ],
   "source": [
    "plt.figure(figsize=(5, 3))\n",
    "plt.ylim(0.8, 1.00)\n",
    "plt.bar(['mean_acc_im', 'mean_acc_under', 'mean_acc_up'], [gb_cv_results_imbalanced.mean(), gb_cv_results_undersampled.mean(), gb_cv_results_upsampled.mean()])\n",
    "plt.suptitle('Gradient Boost comparison between imbalanced, undersampling and upsampling')\n",
    "plt.show()"
   ]
  },
  {
   "cell_type": "markdown",
   "id": "e9ff80d1",
   "metadata": {},
   "source": [
    "### DummyClassifier"
   ]
  },
  {
   "cell_type": "code",
   "execution_count": 86,
   "id": "a160a32d",
   "metadata": {},
   "outputs": [
    {
     "name": "stdout",
     "output_type": "stream",
     "text": [
      "[0.57692308 0.57692308 0.57692308 0.65384615 0.5        0.53846154\n",
      " 0.5        0.53846154 0.65384615 0.57692308]\n",
      "Mean:  0.5692307692307692\n"
     ]
    }
   ],
   "source": [
    "#imbalanced\n",
    "\n",
    "scaler = StandardScaler()\n",
    "dummy = DummyClassifier(strategy='stratified', random_state=1)\n",
    "\n",
    "pipeline = make_pipeline(scaler, dummy)\n",
    "kf = StratifiedKFold(n_splits=10, shuffle=True, random_state=1)\n",
    "dummy_cv_results_imbalanced = cross_val_score(pipeline, X_imbalanced, y_imbalanced, cv=kf, scoring=\"accuracy\", n_jobs=-1)\n",
    "\n",
    "print(dummy_cv_results_imbalanced)\n",
    "print(\"Mean: \", dummy_cv_results_imbalanced.mean())"
   ]
  },
  {
   "cell_type": "code",
   "execution_count": 87,
   "id": "99303355",
   "metadata": {},
   "outputs": [
    {
     "name": "stdout",
     "output_type": "stream",
     "text": [
      "[0.65 0.65 0.65 0.65 0.65 0.65 0.65 0.65 0.65 0.65]\n",
      "Mean:  0.6500000000000001\n"
     ]
    }
   ],
   "source": [
    "#undersampling\n",
    "\n",
    "scaler = StandardScaler()\n",
    "dummy = DummyClassifier(strategy='stratified', random_state=1)\n",
    "\n",
    "pipeline = make_pipeline(scaler, dummy)\n",
    "kf = StratifiedKFold(n_splits=10, shuffle=True, random_state=1)\n",
    "dummy_cv_results_undersampled = cross_val_score(pipeline, X_undersampled, y_undersampled, cv=kf, scoring=\"accuracy\", n_jobs=-1)\n",
    "\n",
    "print(dummy_cv_results_undersampled)\n",
    "print(\"Mean: \", dummy_cv_results_undersampled.mean())"
   ]
  },
  {
   "cell_type": "code",
   "execution_count": 88,
   "id": "2f45ec08",
   "metadata": {},
   "outputs": [
    {
     "name": "stdout",
     "output_type": "stream",
     "text": [
      "[0.546875 0.546875 0.546875 0.546875 0.546875 0.546875 0.546875 0.546875\n",
      " 0.546875 0.546875]\n",
      "Mean:  0.546875\n"
     ]
    }
   ],
   "source": [
    "#upsampling\n",
    "\n",
    "scaler = StandardScaler()\n",
    "dummy = DummyClassifier(strategy='stratified', random_state=1)\n",
    "\n",
    "pipeline = make_pipeline(scaler, dummy)\n",
    "kf = StratifiedKFold(n_splits=10, shuffle=True, random_state=1)\n",
    "dummy_cv_results_upsampled = cross_val_score(pipeline, X_upsampled, y_upsampled, cv=kf, scoring=\"accuracy\", n_jobs=-1)\n",
    "\n",
    "print(dummy_cv_results_upsampled)\n",
    "print(\"Mean: \", dummy_cv_results_upsampled.mean())"
   ]
  },
  {
   "cell_type": "markdown",
   "id": "fb905abf",
   "metadata": {},
   "source": [
    "### Poredjenje algoritama"
   ]
  },
  {
   "cell_type": "code",
   "execution_count": 89,
   "id": "e2e2e7f4",
   "metadata": {
    "scrolled": false
   },
   "outputs": [
    {
     "data": {
      "image/png": "[encoded data removed]",
      "text/plain": [
       "<Figure size 1440x1080 with 8 Axes>"
      ]
     },
     "metadata": {},
     "output_type": "display_data"
    }
   ],
   "source": [
    "from statistics import mean\n",
    "\n",
    "plt.figure(figsize=(20, 15))\n",
    "plt.subplot(331)\n",
    "plt.gca().set_title('LinearSVC')\n",
    "plt.ylim(0.8, 1.00)\n",
    "plt.bar(['mean_acc_im', 'mean_acc_under', 'mean_acc_up'], [svc_cv_results_imbalanced.mean(), svc_cv_results_undersampled.mean(), svc_cv_results_upsampled.mean()])\n",
    "plt.axhline(y = mean([svc_cv_results_imbalanced.mean(), svc_cv_results_undersampled.mean(), svc_cv_results_upsampled.mean()]), color = 'r', linestyle = '-')\n",
    "plt.subplot(332)\n",
    "plt.gca().set_title('Naive bayes')\n",
    "plt.ylim(0.8, 1.00)\n",
    "plt.bar(['mean_acc_im', 'mean_acc_under', 'mean_acc_up'], [nb_cv_results_imbalanced.mean(), nb_cv_results_undersampled.mean(), nb_cv_results_upsampled.mean()])\n",
    "plt.axhline(y = mean([nb_cv_results_imbalanced.mean(), nb_cv_results_undersampled.mean(), nb_cv_results_upsampled.mean()]), color = 'r', linestyle = '-')\n",
    "plt.subplot(333)\n",
    "plt.gca().set_title('KNN')\n",
    "plt.ylim(0.8, 1.00)\n",
    "plt.bar(['mean_acc_im', 'mean_acc_under', 'mean_acc_up'], [knn_cv_results_imbalanced.mean(), knn_cv_results_undersampled.mean(), knn_cv_results_upsampled.mean()])\n",
    "plt.axhline(y = mean([knn_cv_results_imbalanced.mean(), knn_cv_results_undersampled.mean(), knn_cv_results_upsampled.mean()]), color = 'r', linestyle = '-')\n",
    "\n",
    "plt.subplot(334)\n",
    "plt.gca().set_title('Logistic regression')\n",
    "plt.ylim(0.8, 1.00)\n",
    "plt.bar(['mean_acc_im', 'mean_acc_under', 'mean_acc_up'], [lr_cv_results_imbalanced.mean(), lr_cv_results_undersampled.mean(), lr_cv_results_upsampled.mean()])\n",
    "plt.axhline(y = mean([lr_cv_results_imbalanced.mean(), lr_cv_results_undersampled.mean(), lr_cv_results_upsampled.mean()]), color = 'r', linestyle = '-')\n",
    "plt.subplot(335)\n",
    "plt.gca().set_title('Decision tree')\n",
    "plt.ylim(0.8, 1.00)\n",
    "plt.bar(['mean_acc_im', 'mean_acc_under', 'mean_acc_up'], [dt_cv_results_imbalanced.mean(), dt_cv_results_undersampled.mean(), dt_cv_results_upsampled.mean()])\n",
    "plt.axhline(y = mean([dt_cv_results_imbalanced.mean(), dt_cv_results_undersampled.mean(), dt_cv_results_upsampled.mean()]), color = 'r', linestyle = '-')\n",
    "plt.subplot(336)\n",
    "plt.gca().set_title('Gradient boost')\n",
    "plt.ylim(0.8, 1.00)\n",
    "plt.bar(['mean_acc_im', 'mean_acc_under', 'mean_acc_up'], [gb_cv_results_imbalanced.mean(), gb_cv_results_undersampled.mean(), gb_cv_results_upsampled.mean()])\n",
    "plt.axhline(y = mean([gb_cv_results_imbalanced.mean(), gb_cv_results_undersampled.mean(), gb_cv_results_upsampled.mean()]), color = 'r', linestyle = '-')\n",
    "\n",
    "plt.subplot(337)\n",
    "plt.gca().set_title('Random forest')\n",
    "plt.ylim(0.8, 1.00)\n",
    "plt.bar(['mean_acc_im', 'mean_acc_under', 'mean_acc_up'], [rf_cv_results_imbalanced.mean(), rf_cv_results_undersampled.mean(), rf_cv_results_upsampled.mean()])\n",
    "plt.axhline(y = mean([rf_cv_results_imbalanced.mean(), rf_cv_results_undersampled.mean(), rf_cv_results_upsampled.mean()]), color = 'r', linestyle = '-')\n",
    "plt.subplot(338)\n",
    "plt.gca().set_title('DummyClassifier')\n",
    "plt.ylim(0.4, 1.00)\n",
    "plt.bar(['mean_acc_im', 'mean_acc_under', 'mean_acc_up'], [dummy_cv_results_imbalanced.mean(), dummy_cv_results_undersampled.mean(), dummy_cv_results_upsampled.mean()])\n",
    "plt.axhline(y = mean([dummy_cv_results_imbalanced.mean(), dummy_cv_results_undersampled.mean(), dummy_cv_results_upsampled.mean()]), color = 'r', linestyle = '-')\n",
    "\n",
    "plt.show()"
   ]
  },
  {
   "cell_type": "markdown",
   "id": "2252e448",
   "metadata": {},
   "source": [
    "### U nastavku bice detaljnije obradjeni algoritmi: SVC i Gradient Boost"
   ]
  },
  {
   "cell_type": "markdown",
   "id": "a354c826",
   "metadata": {},
   "source": [
    "## SVC"
   ]
  },
  {
   "cell_type": "code",
   "execution_count": 122,
   "id": "a6560279",
   "metadata": {},
   "outputs": [
    {
     "name": "stdout",
     "output_type": "stream",
     "text": [
      "Accuracy :  0.5546875\n",
      "F1 Score:  0.6013986013986014\n",
      "Precision:  0.4942528735632184\n",
      "Recall:  0.7678571428571429\n",
      "Confuse matrix:\n",
      "[[28 44]\n",
      " [13 43]]\n",
      "True positive:  43\n",
      "False positive:  44\n",
      "True negative:  28\n",
      "False negative:  13\n",
      "Sensitivity:  0.7678571428571429\n",
      "Specificity:  0.3888888888888889\n",
      "\n",
      "SVC params:\n",
      "{'C': 1.0, 'break_ties': False, 'cache_size': 200, 'class_weight': None, 'coef0': 0.0, 'decision_function_shape': 'ovr', 'degree': 3, 'gamma': 'scale', 'kernel': 'rbf', 'max_iter': -1, 'probability': False, 'random_state': None, 'shrinking': True, 'tol': 0.001, 'verbose': False}\n"
     ]
    },
    {
     "data": {
      "image/png": "[encoded data removed]",
      "text/plain": [
       "<Figure size 576x396 with 1 Axes>"
      ]
     },
     "metadata": {},
     "output_type": "display_data"
    }
   ],
   "source": [
    "from sklearn.metrics import accuracy_score, confusion_matrix, f1_score, recall_score, precision_score, roc_curve, auc\n",
    "from sklearn.svm import SVC\n",
    "\n",
    "\n",
    "svc_model = SVC()\n",
    "\n",
    "params = svc_model.get_params()\n",
    "\n",
    "svc_model.fit(X_train_upsampled, y_train_upsampled)\n",
    "svc_prediction_upsampled = svc_model.predict(X_test_upsampled)\n",
    "\n",
    "# model evaluation\n",
    "evaluate_model(y_test_upsampled, svc_prediction_upsampled)\n",
    "\n",
    "print()\n",
    "print(\"SVC params:\")\n",
    "print(params)\n",
    "\n",
    "# Create confusion matrix\n",
    "matrix = confusion_matrix(y_test_upsampled, svc_prediction_upsampled)\n",
    "\n",
    "plot_conf_matrix(matrix)"
   ]
  },
  {
   "cell_type": "code",
   "execution_count": 124,
   "id": "45e3ca86",
   "metadata": {},
   "outputs": [
    {
     "name": "stdout",
     "output_type": "stream",
     "text": [
      "Accuracy :  0.8984375\n",
      "F1 Score:  0.8907563025210083\n",
      "Precision:  0.8412698412698413\n",
      "Recall:  0.9464285714285714\n",
      "Confuse matrix:\n",
      "[[62 10]\n",
      " [ 3 53]]\n",
      "True positive:  53\n",
      "False positive:  10\n",
      "True negative:  62\n",
      "False negative:  3\n",
      "Sensitivity:  0.9464285714285714\n",
      "Specificity:  0.8611111111111112\n",
      "\n",
      "SVC params:\n",
      "{'C': 1.0, 'class_weight': None, 'dual': True, 'fit_intercept': True, 'intercept_scaling': 1, 'loss': 'squared_hinge', 'max_iter': 1000, 'multi_class': 'ovr', 'penalty': 'l2', 'random_state': None, 'tol': 0.0001, 'verbose': 0}\n"
     ]
    },
    {
     "name": "stderr",
     "output_type": "stream",
     "text": [
      "c:\\users\\nikol\\appdata\\local\\programs\\python\\python38\\lib\\site-packages\\sklearn\\svm\\_base.py:1206: ConvergenceWarning: Liblinear failed to converge, increase the number of iterations.\n",
      "  warnings.warn(\n"
     ]
    },
    {
     "data": {
      "image/png": "[encoded data removed]",
      "text/plain": [
       "<Figure size 576x396 with 1 Axes>"
      ]
     },
     "metadata": {},
     "output_type": "display_data"
    }
   ],
   "source": [
    "svc_model = LinearSVC()\n",
    "\n",
    "params = svc_model.get_params()\n",
    "\n",
    "svc_model.fit(X_train_upsampled, y_train_upsampled)\n",
    "svc_prediction_upsampled = svc_model.predict(X_test_upsampled)\n",
    "\n",
    "# model evaluation\n",
    "evaluate_model(y_test_upsampled, svc_prediction_upsampled)\n",
    "\n",
    "print()\n",
    "print(\"SVC params:\")\n",
    "print(params)\n",
    "\n",
    "# Create confusion matrix\n",
    "matrix = confusion_matrix(y_test_upsampled, svc_prediction_upsampled)\n",
    "\n",
    "plot_conf_matrix(matrix)"
   ]
  },
  {
   "cell_type": "markdown",
   "id": "2289a2af",
   "metadata": {},
   "source": [
    "### Podesavanje hiperparametara koriscenjem nasumicne pretrage\n"
   ]
  },
  {
   "cell_type": "markdown",
   "id": "26f00099",
   "metadata": {},
   "source": [
    "### The most critical hyperparameters for SVM are kernel, C, and gamma.\n",
    "#### kernel function transforms the training dataset into higher dimensions to make it linearly separatable. The default kernel function for the python implementation of the support vector classifier is the Radial Basis Function, which is usually referred to as rbf. \n",
    "#### The kernel function can take other values such as linear, poly, rbf, sigmoid, precomputed, or callable.\n",
    "\n",
    "#### C is the l2 regularization parameter. The value of C is inversely proportional to the strength of the regularization.\n",
    "#### When C is small, the penalty for misclassification is small, and the strength of the regularization is large. So a decision boundary with a large margin will be selected.\n",
    "#### When C is large, the penalty for misclassification is large, and the strength of the regularization is small. A decision boundary with a small margin will be selected to reduce misclassifications.\n",
    "\n",
    "#### gamma is the kernel coefficient for rbf, poly, and sigmoid. It can be seen as the inverse of the support vector influence radius. The gamma parameter highly impacts the model performance. Gamma can take the value of scale, auto, or a float value. The default value for the python sklearn implementation is scale since version 0.22.\n",
    "#### When gamma is small, the support vector influence radius is high. If the gamma value is too small, the radius of the support vectors covers the whole training dataset, and the pattern of the data will not be captured.\n",
    "#### When gamma is large, the support vector influence radius is low. If the gamma value is too large, the support vector radius is too small to utilize C to prevent overfitting."
   ]
  },
  {
   "cell_type": "code",
   "execution_count": 125,
   "id": "88abcaa7",
   "metadata": {},
   "outputs": [
    {
     "data": {
      "text/html": [
       "<div>\n",
       "<style scoped>\n",
       "    .dataframe tbody tr th:only-of-type {\n",
       "        vertical-align: middle;\n",
       "    }\n",
       "\n",
       "    .dataframe tbody tr th {\n",
       "        vertical-align: top;\n",
       "    }\n",
       "\n",
       "    .dataframe thead th {\n",
       "        text-align: right;\n",
       "    }\n",
       "</style>\n",
       "<table border=\"1\" class=\"dataframe\">\n",
       "  <thead>\n",
       "    <tr style=\"text-align: right;\">\n",
       "      <th></th>\n",
       "      <th>0</th>\n",
       "    </tr>\n",
       "  </thead>\n",
       "  <tbody>\n",
       "    <tr>\n",
       "      <th>C</th>\n",
       "      <td>1.0</td>\n",
       "    </tr>\n",
       "    <tr>\n",
       "      <th>break_ties</th>\n",
       "      <td>False</td>\n",
       "    </tr>\n",
       "    <tr>\n",
       "      <th>cache_size</th>\n",
       "      <td>200</td>\n",
       "    </tr>\n",
       "    <tr>\n",
       "      <th>class_weight</th>\n",
       "      <td>None</td>\n",
       "    </tr>\n",
       "    <tr>\n",
       "      <th>coef0</th>\n",
       "      <td>0.0</td>\n",
       "    </tr>\n",
       "    <tr>\n",
       "      <th>decision_function_shape</th>\n",
       "      <td>ovr</td>\n",
       "    </tr>\n",
       "    <tr>\n",
       "      <th>degree</th>\n",
       "      <td>3</td>\n",
       "    </tr>\n",
       "    <tr>\n",
       "      <th>gamma</th>\n",
       "      <td>scale</td>\n",
       "    </tr>\n",
       "    <tr>\n",
       "      <th>kernel</th>\n",
       "      <td>rbf</td>\n",
       "    </tr>\n",
       "    <tr>\n",
       "      <th>max_iter</th>\n",
       "      <td>-1</td>\n",
       "    </tr>\n",
       "    <tr>\n",
       "      <th>probability</th>\n",
       "      <td>False</td>\n",
       "    </tr>\n",
       "    <tr>\n",
       "      <th>random_state</th>\n",
       "      <td>None</td>\n",
       "    </tr>\n",
       "    <tr>\n",
       "      <th>shrinking</th>\n",
       "      <td>True</td>\n",
       "    </tr>\n",
       "    <tr>\n",
       "      <th>tol</th>\n",
       "      <td>0.001</td>\n",
       "    </tr>\n",
       "    <tr>\n",
       "      <th>verbose</th>\n",
       "      <td>False</td>\n",
       "    </tr>\n",
       "  </tbody>\n",
       "</table>\n",
       "</div>"
      ],
      "text/plain": [
       "                             0\n",
       "C                          1.0\n",
       "break_ties               False\n",
       "cache_size                 200\n",
       "class_weight              None\n",
       "coef0                      0.0\n",
       "decision_function_shape    ovr\n",
       "degree                       3\n",
       "gamma                    scale\n",
       "kernel                     rbf\n",
       "max_iter                    -1\n",
       "probability              False\n",
       "random_state              None\n",
       "shrinking                 True\n",
       "tol                      0.001\n",
       "verbose                  False"
      ]
     },
     "execution_count": 125,
     "metadata": {},
     "output_type": "execute_result"
    }
   ],
   "source": [
    "# Check default values\n",
    "svc = SVC()\n",
    "params = svc.get_params()\n",
    "params_df = pd.DataFrame(params, index=[0])\n",
    "params_df.T"
   ]
  },
  {
   "cell_type": "code",
   "execution_count": 126,
   "id": "7f36c7de",
   "metadata": {},
   "outputs": [
    {
     "data": {
      "text/html": [
       "<div>\n",
       "<style scoped>\n",
       "    .dataframe tbody tr th:only-of-type {\n",
       "        vertical-align: middle;\n",
       "    }\n",
       "\n",
       "    .dataframe tbody tr th {\n",
       "        vertical-align: top;\n",
       "    }\n",
       "\n",
       "    .dataframe thead th {\n",
       "        text-align: right;\n",
       "    }\n",
       "</style>\n",
       "<table border=\"1\" class=\"dataframe\">\n",
       "  <thead>\n",
       "    <tr style=\"text-align: right;\">\n",
       "      <th></th>\n",
       "      <th>0</th>\n",
       "    </tr>\n",
       "  </thead>\n",
       "  <tbody>\n",
       "    <tr>\n",
       "      <th>C</th>\n",
       "      <td>1.0</td>\n",
       "    </tr>\n",
       "    <tr>\n",
       "      <th>class_weight</th>\n",
       "      <td>None</td>\n",
       "    </tr>\n",
       "    <tr>\n",
       "      <th>dual</th>\n",
       "      <td>True</td>\n",
       "    </tr>\n",
       "    <tr>\n",
       "      <th>fit_intercept</th>\n",
       "      <td>True</td>\n",
       "    </tr>\n",
       "    <tr>\n",
       "      <th>intercept_scaling</th>\n",
       "      <td>1</td>\n",
       "    </tr>\n",
       "    <tr>\n",
       "      <th>loss</th>\n",
       "      <td>squared_hinge</td>\n",
       "    </tr>\n",
       "    <tr>\n",
       "      <th>max_iter</th>\n",
       "      <td>1000</td>\n",
       "    </tr>\n",
       "    <tr>\n",
       "      <th>multi_class</th>\n",
       "      <td>ovr</td>\n",
       "    </tr>\n",
       "    <tr>\n",
       "      <th>penalty</th>\n",
       "      <td>l2</td>\n",
       "    </tr>\n",
       "    <tr>\n",
       "      <th>random_state</th>\n",
       "      <td>None</td>\n",
       "    </tr>\n",
       "    <tr>\n",
       "      <th>tol</th>\n",
       "      <td>0.0001</td>\n",
       "    </tr>\n",
       "    <tr>\n",
       "      <th>verbose</th>\n",
       "      <td>0</td>\n",
       "    </tr>\n",
       "  </tbody>\n",
       "</table>\n",
       "</div>"
      ],
      "text/plain": [
       "                               0\n",
       "C                            1.0\n",
       "class_weight                None\n",
       "dual                        True\n",
       "fit_intercept               True\n",
       "intercept_scaling              1\n",
       "loss               squared_hinge\n",
       "max_iter                    1000\n",
       "multi_class                  ovr\n",
       "penalty                       l2\n",
       "random_state                None\n",
       "tol                       0.0001\n",
       "verbose                        0"
      ]
     },
     "execution_count": 126,
     "metadata": {},
     "output_type": "execute_result"
    }
   ],
   "source": [
    "# Check default values\n",
    "svc = LinearSVC()\n",
    "params = svc.get_params()\n",
    "params_df = pd.DataFrame(params, index=[0])\n",
    "params_df.T"
   ]
  },
  {
   "cell_type": "code",
   "execution_count": 131,
   "id": "723160eb",
   "metadata": {},
   "outputs": [
    {
     "name": "stdout",
     "output_type": "stream",
     "text": [
      "The list of values for C are [1.e-10 1.e-09 1.e-08 1.e-07 1.e-06 1.e-05 1.e-04 1.e-03 1.e-02 1.e-01\n",
      " 1.e+00 1.e+01 1.e+02 1.e+03 1.e+04 1.e+05 1.e+06 1.e+07 1.e+08 1.e+09\n",
      " 1.e+10]\n",
      "The list of values for gamma are [1.e-10 1.e-09 1.e-08 1.e-07 1.e-06 1.e-05 1.e-04 1.e-03 1.e-02 1.e-01\n",
      " 1.e+00 1.e+01 1.e+02 1.e+03 1.e+04 1.e+05 1.e+06 1.e+07 1.e+08 1.e+09\n",
      " 1.e+10]\n"
     ]
    },
    {
     "name": "stderr",
     "output_type": "stream",
     "text": [
      "c:\\users\\nikol\\appdata\\local\\programs\\python\\python38\\lib\\site-packages\\sklearn\\model_selection\\_search.py:292: UserWarning: The total space of parameters 21 is smaller than n_iter=100. Running 21 iterations. For exhaustive searches, use GridSearchCV.\n",
      "  warnings.warn(\n",
      "c:\\users\\nikol\\appdata\\local\\programs\\python\\python38\\lib\\site-packages\\sklearn\\svm\\_base.py:1206: ConvergenceWarning: Liblinear failed to converge, increase the number of iterations.\n",
      "  warnings.warn(\n"
     ]
    },
    {
     "data": {
      "text/plain": [
       "RandomizedSearchCV(cv=StratifiedKFold(n_splits=3, random_state=0, shuffle=True),\n",
       "                   estimator=LinearSVC(), n_iter=100, n_jobs=-1,\n",
       "                   param_distributions={'C': array([1.e-10, 1.e-09, 1.e-08, 1.e-07, 1.e-06, 1.e-05, 1.e-04, 1.e-03,\n",
       "       1.e-02, 1.e-01, 1.e+00, 1.e+01, 1.e+02, 1.e+03, 1.e+04, 1.e+05,\n",
       "       1.e+06, 1.e+07, 1.e+08, 1.e+09, 1.e+10])},\n",
       "                   refit='accuracy', scoring=['accuracy'])"
      ]
     },
     "execution_count": 131,
     "metadata": {},
     "output_type": "execute_result"
    }
   ],
   "source": [
    "# List of C values\n",
    "C_range = np.logspace(-10, 10, 21)\n",
    "print(f'The list of values for C are {C_range}')\n",
    "# List of gamma values\n",
    "gamma_range = np.logspace(-10, 10, 21)\n",
    "print(f'The list of values for gamma are {gamma_range}')\n",
    "\n",
    "# Define the search space\n",
    "param_grid = { \n",
    "    # Regularization parameter.\n",
    "    \"C\": C_range\n",
    "    }\n",
    "# Set up score\n",
    "scoring = ['accuracy']\n",
    "# Set up the k-fold cross-validation\n",
    "kfold = StratifiedKFold(n_splits=3, shuffle=True, random_state=0)\n",
    "# Define random search\n",
    "random_search = RandomizedSearchCV(estimator=svc, \n",
    "                           param_distributions=param_grid, \n",
    "                           n_iter=100,\n",
    "                           scoring=scoring, \n",
    "                           refit='accuracy', \n",
    "                           n_jobs=-1, \n",
    "                           cv=kfold, \n",
    "                           verbose=0)\n",
    "# Fit grid search\n",
    "random_result = random_search.fit(X_train_upsampled, y_train_upsampled)\n",
    "# Print grid search summary\n",
    "random_result"
   ]
  },
  {
   "cell_type": "code",
   "execution_count": 163,
   "id": "53860f83",
   "metadata": {},
   "outputs": [
    {
     "name": "stdout",
     "output_type": "stream",
     "text": [
      "The list of values for C are [1.e-10 1.e-09 1.e-08 1.e-07 1.e-06 1.e-05 1.e-04 1.e-03 1.e-02 1.e-01\n",
      " 1.e+00 1.e+01 1.e+02 1.e+03 1.e+04 1.e+05 1.e+06 1.e+07 1.e+08 1.e+09\n",
      " 1.e+10]\n",
      "The list of values for gamma are [1.e-10 1.e-09 1.e-08 1.e-07 1.e-06 1.e-05 1.e-04 1.e-03 1.e-02 1.e-01\n",
      " 1.e+00 1.e+01 1.e+02 1.e+03 1.e+04 1.e+05 1.e+06 1.e+07 1.e+08 1.e+09\n",
      " 1.e+10]\n"
     ]
    },
    {
     "name": "stderr",
     "output_type": "stream",
     "text": [
      "c:\\users\\nikol\\appdata\\local\\programs\\python\\python38\\lib\\site-packages\\sklearn\\model_selection\\_search.py:292: UserWarning: The total space of parameters 21 is smaller than n_iter=100. Running 21 iterations. For exhaustive searches, use GridSearchCV.\n",
      "  warnings.warn(\n",
      "c:\\users\\nikol\\appdata\\local\\programs\\python\\python38\\lib\\site-packages\\sklearn\\svm\\_base.py:1206: ConvergenceWarning: Liblinear failed to converge, increase the number of iterations.\n",
      "  warnings.warn(\n"
     ]
    },
    {
     "data": {
      "text/plain": [
       "RandomizedSearchCV(cv=StratifiedKFold(n_splits=3, random_state=0, shuffle=True),\n",
       "                   estimator=LinearSVC(), n_iter=100, n_jobs=-1,\n",
       "                   param_distributions={'C': array([1.e-10, 1.e-09, 1.e-08, 1.e-07, 1.e-06, 1.e-05, 1.e-04, 1.e-03,\n",
       "       1.e-02, 1.e-01, 1.e+00, 1.e+01, 1.e+02, 1.e+03, 1.e+04, 1.e+05,\n",
       "       1.e+06, 1.e+07, 1.e+08, 1.e+09, 1.e+10])},\n",
       "                   refit='accuracy', scoring=['accuracy'])"
      ]
     },
     "execution_count": 163,
     "metadata": {},
     "output_type": "execute_result"
    }
   ],
   "source": [
    "# List of C values\n",
    "C_range = np.logspace(-10, 10, 21)\n",
    "print(f'The list of values for C are {C_range}')\n",
    "# List of gamma values\n",
    "gamma_range = np.logspace(-10, 10, 21)\n",
    "print(f'The list of values for gamma are {gamma_range}')\n",
    "\n",
    "# Define the search space\n",
    "param_grid = { \n",
    "    # Regularization parameter.\n",
    "    \"C\": C_range\n",
    "    }\n",
    "# Set up score\n",
    "scoring = ['accuracy']\n",
    "# Set up the k-fold cross-validation\n",
    "kfold = StratifiedKFold(n_splits=3, shuffle=True, random_state=0)\n",
    "# Define random search\n",
    "random_search = RandomizedSearchCV(estimator=svc, \n",
    "                           param_distributions=param_grid, \n",
    "                           n_iter=100,\n",
    "                           scoring=scoring, \n",
    "                           refit='accuracy', \n",
    "                           n_jobs=-1, \n",
    "                           cv=kfold, \n",
    "                           verbose=0)\n",
    "# Fit grid search\n",
    "random_result = random_search.fit(X_train_undersampled, y_train_undersampled)\n",
    "# Print grid search summary\n",
    "random_result"
   ]
  },
  {
   "cell_type": "code",
   "execution_count": 181,
   "id": "62808e00",
   "metadata": {},
   "outputs": [
    {
     "name": "stdout",
     "output_type": "stream",
     "text": [
      "The best accuracy score for the training dataset is 0.9281\n",
      "The best hyperparameters are {'C': 0.1}\n",
      "The accuracy score for the testing dataset is 0.9219\n"
     ]
    }
   ],
   "source": [
    "# Print the best accuracy score for the training dataset\n",
    "print(f'The best accuracy score for the training dataset is {random_result.best_score_:.4f}')\n",
    "# Print the hyperparameters for the best score\n",
    "print(f'The best hyperparameters are {random_result.best_params_}')\n",
    "# Print the best accuracy score for the testing dataset\n",
    "print(f'The accuracy score for the testing dataset is {random_search.score(X_test_upsampled, y_test_upsampled):.4f}')"
   ]
  },
  {
   "cell_type": "markdown",
   "id": "23493cd1",
   "metadata": {},
   "source": [
    "### Hyperparameter Tuning Using Grid Search"
   ]
  },
  {
   "cell_type": "code",
   "execution_count": 180,
   "id": "882eff91",
   "metadata": {},
   "outputs": [
    {
     "name": "stdout",
     "output_type": "stream",
     "text": [
      "The list of values for C are [ 0.1  1.  10. ]\n",
      "The best accuracy score for the training dataset is 0.9043\n",
      "The best hyperparameters are {'C': 0.1}\n",
      "The accuracy score for the testing dataset is 0.9297\n"
     ]
    },
    {
     "name": "stderr",
     "output_type": "stream",
     "text": [
      "c:\\users\\nikol\\appdata\\local\\programs\\python\\python38\\lib\\site-packages\\sklearn\\svm\\_base.py:1206: ConvergenceWarning: Liblinear failed to converge, increase the number of iterations.\n",
      "  warnings.warn(\n"
     ]
    }
   ],
   "source": [
    "# List of C values\n",
    "C_range = np.logspace(-1, 1, 3)\n",
    "print(f'The list of values for C are {C_range}')\n",
    "# Define the search space\n",
    "param_grid = { \n",
    "    # Regularization parameter.\n",
    "    \"C\": C_range,\n",
    "    }\n",
    "# Set up score\n",
    "scoring = ['accuracy']\n",
    "# Set up the k-fold cross-validation\n",
    "kfold = StratifiedKFold(n_splits=3, shuffle=True, random_state=0)\n",
    "\n",
    "# Define grid search\n",
    "grid_search = GridSearchCV(estimator=svc, \n",
    "                           param_grid=param_grid, \n",
    "                           scoring=scoring, \n",
    "                           refit='accuracy', \n",
    "                           n_jobs=-1, \n",
    "                           cv=kfold, \n",
    "                           verbose=0)\n",
    "# Fit grid search\n",
    "grid_result = grid_search.fit(X_train_upsampled, y_train_upsampled)\n",
    "# Print grid search summary\n",
    "grid_result\n",
    "\n",
    "\n",
    "# Print the best accuracy score for the training dataset\n",
    "print(f'The best accuracy score for the training dataset is {grid_result.best_score_:.4f}')\n",
    "# Print the hyperparameters for the best score\n",
    "print(f'The best hyperparameters are {grid_result.best_params_}')\n",
    "# Print the best accuracy score for the testing dataset UPSAMPLED\n",
    "print(f'The accuracy score for the testing dataset is {grid_search.score(X_test_upsampled, y_test_upsampled):.4f}')\n"
   ]
  },
  {
   "cell_type": "markdown",
   "id": "1d8cc7af",
   "metadata": {},
   "source": [
    "### Hyperparameter Tuning Using Bayesian Optimization"
   ]
  },
  {
   "cell_type": "code",
   "execution_count": 153,
   "id": "6c2f9f83",
   "metadata": {},
   "outputs": [
    {
     "name": "stdout",
     "output_type": "stream",
     "text": [
      "100%|█████| 100/100 [00:01<00:00, 54.91trial/s, best loss: -0.9411764705882353]\n"
     ]
    }
   ],
   "source": [
    "from hyperopt import tpe, STATUS_OK, Trials, hp, fmin, STATUS_OK, space_eval\n",
    "# Space\n",
    "space = {\n",
    "    'C' : hp.choice('C', C_range),\n",
    "}\n",
    "# Set up the k-fold cross-validation\n",
    "kfold = StratifiedKFold(n_splits=3, shuffle=True, random_state=0)\n",
    "# Objective function\n",
    "def objective(params):\n",
    "    \n",
    "    svc = LinearSVC(**params)\n",
    "    scores = cross_val_score(svc, X_train_upsampled, y_train_upsampled, cv=kfold, scoring='accuracy', n_jobs=-1)\n",
    "    # Extract the best score\n",
    "    best_score = max(scores)\n",
    "    # Loss must be minimized\n",
    "    loss = - best_score\n",
    "    # Dictionary with information for evaluation\n",
    "    return {'loss': loss, 'params': params, 'status': STATUS_OK}\n",
    "# Trials to track progress\n",
    "bayes_trials = Trials()\n",
    "# Optimize\n",
    "best = fmin(fn = objective, space = space, algo = tpe.suggest, max_evals = 100, trials = bayes_trials)\n"
   ]
  },
  {
   "cell_type": "code",
   "execution_count": 154,
   "id": "df3c7609",
   "metadata": {},
   "outputs": [
    {
     "name": "stdout",
     "output_type": "stream",
     "text": [
      "{'C': 0}\n",
      "{'C': 0.1}\n"
     ]
    }
   ],
   "source": [
    "# Print the index of the best parameters\n",
    "print(best)\n",
    "# Print the values of the best parameters\n",
    "print(space_eval(space, best))"
   ]
  },
  {
   "cell_type": "code",
   "execution_count": 179,
   "id": "30c996e0",
   "metadata": {},
   "outputs": [
    {
     "name": "stdout",
     "output_type": "stream",
     "text": [
      "The accuracy score for the testing dataset is 0.9297\n"
     ]
    },
    {
     "name": "stderr",
     "output_type": "stream",
     "text": [
      "c:\\users\\nikol\\appdata\\local\\programs\\python\\python38\\lib\\site-packages\\sklearn\\svm\\_base.py:1206: ConvergenceWarning: Liblinear failed to converge, increase the number of iterations.\n",
      "  warnings.warn(\n"
     ]
    }
   ],
   "source": [
    "# Train model using the best parameters\n",
    "svc_bo = LinearSVC(C=space_eval(space, best)['C']).fit(X_train_upsampled,y_train_upsampled)\n",
    "\n",
    "# Print the best accuracy score for the testing dataset upsampled\n",
    "print(f'The accuracy score for the testing dataset is {svc_bo.score(X_test_upsampled, y_test_upsampled):.4f}')\n"
   ]
  },
  {
   "cell_type": "markdown",
   "id": "645a2e51",
   "metadata": {},
   "source": [
    "## Gradient Boost"
   ]
  },
  {
   "cell_type": "code",
   "execution_count": 92,
   "id": "feec2b5b",
   "metadata": {},
   "outputs": [
    {
     "name": "stdout",
     "output_type": "stream",
     "text": [
      "Accuracy :  0.984375\n",
      "F1 Score:  0.9821428571428571\n",
      "Precision:  0.9821428571428571\n",
      "Recall:  0.9821428571428571\n",
      "Confuse matrix:\n",
      "[[71  1]\n",
      " [ 1 55]]\n",
      "True positive:  55\n",
      "False positive:  1\n",
      "True negative:  71\n",
      "False negative:  1\n",
      "Sensitivity:  0.9821428571428571\n",
      "Specificity:  0.9861111111111112\n",
      "\n",
      "Gradient Boost params:\n",
      "{'ccp_alpha': 0.0, 'criterion': 'friedman_mse', 'init': None, 'learning_rate': 0.1, 'loss': 'deviance', 'max_depth': 3, 'max_features': None, 'max_leaf_nodes': None, 'min_impurity_decrease': 0.0, 'min_samples_leaf': 1, 'min_samples_split': 2, 'min_weight_fraction_leaf': 0.0, 'n_estimators': 100, 'n_iter_no_change': None, 'random_state': None, 'subsample': 1.0, 'tol': 0.0001, 'validation_fraction': 0.1, 'verbose': 0, 'warm_start': False}\n"
     ]
    },
    {
     "data": {
      "image/png": "[encoded data removed]",
      "text/plain": [
       "<Figure size 576x396 with 1 Axes>"
      ]
     },
     "metadata": {},
     "output_type": "display_data"
    }
   ],
   "source": [
    "from sklearn.metrics import accuracy_score, confusion_matrix, f1_score, recall_score, precision_score, roc_curve, auc\n",
    "\n",
    "\n",
    "gb_model = GradientBoostingClassifier()\n",
    "\n",
    "params = gb_model.get_params()\n",
    "\n",
    "gb_model.fit(X_train_upsampled, y_train_upsampled)\n",
    "gb_prediction_upsampled = gb_model.predict(X_test_upsampled)\n",
    "\n",
    "# model evaluation\n",
    "evaluate_model(y_test_upsampled, gb_prediction_upsampled)\n",
    "\n",
    "print()\n",
    "print(\"Gradient Boost params:\")\n",
    "print(params)\n",
    "\n",
    "# Create confusion matrix\n",
    "matrix = confusion_matrix(y_test_upsampled, gb_prediction_upsampled)\n",
    "\n",
    "plot_conf_matrix(matrix)"
   ]
  },
  {
   "cell_type": "markdown",
   "id": "60c7a6bc",
   "metadata": {},
   "source": [
    "### Podesavanje hiperparametara koriscenjem nasumicne pretrage"
   ]
  },
  {
   "cell_type": "code",
   "execution_count": 94,
   "id": "95645d08",
   "metadata": {},
   "outputs": [
    {
     "name": "stdout",
     "output_type": "stream",
     "text": [
      "Best params:  {'subsample': 0.8, 'n_estimators': 50, 'min_samples_split': 6, 'min_samples_leaf': 9, 'max_features': 5, 'max_depth': 14, 'learning_rate': 0.15}\n",
      "Best score:  0.9727013135351228\n",
      "\n",
      "Accuracy :  1.0\n",
      "F1 Score:  1.0\n",
      "Precision:  1.0\n",
      "Recall:  1.0\n",
      "Confuse matrix:\n",
      "[[72  0]\n",
      " [ 0 56]]\n",
      "True positive:  56\n",
      "False positive:  0\n",
      "True negative:  72\n",
      "False negative:  0\n",
      "Sensitivity:  1.0\n",
      "Specificity:  1.0\n"
     ]
    },
    {
     "data": {
      "image/png": "[encoded data removed]",
      "text/plain": [
       "<Figure size 576x396 with 1 Axes>"
      ]
     },
     "metadata": {},
     "output_type": "display_data"
    },
    {
     "data": {
      "image/png": "[encoded data removed]",
      "text/plain": [
       "<Figure size 576x396 with 1 Axes>"
      ]
     },
     "metadata": {},
     "output_type": "display_data"
    }
   ],
   "source": [
    "# Create Gradient Boosting\n",
    "gb_classifier = GradientBoostingClassifier()\n",
    "\n",
    "# Create hyperparameters values\n",
    "learning_rate = [0.15, 0.1, 0.05, 0.01, 0.005, 0.001]\n",
    "n_estimators = [3, 7, 15, 20, 30, 50]\n",
    "subsample = [0.5, 0.75, 0.8, 0.95, 1.0]\n",
    "\n",
    "max_depth = uniform(loc=5, scale=20).rvs(10).astype(int)\n",
    "min_samples_split = uniform(loc=2, scale=60).rvs(15).astype(int)\n",
    "min_samples_leaf = [1, 3, 5, 7, 9]\n",
    "max_features = [3, 4, 5, 6, 7, 12]\n",
    "\n",
    "# Create hyperparameter options\n",
    "hyperparameters = dict(learning_rate=learning_rate, n_estimators=n_estimators,\n",
    "                       subsample=subsample, max_depth=max_depth, min_samples_split=min_samples_split,\n",
    "                      min_samples_leaf=min_samples_leaf, max_features=max_features)\n",
    "\n",
    "# Create randomized search\n",
    "randomizedsearch = RandomizedSearchCV(gb_classifier, hyperparameters, random_state=1, \n",
    "                                      n_iter=100, cv=5, verbose=0, n_jobs=-1)\n",
    "\n",
    "# Fit randomized search\n",
    "best_model = randomizedsearch.fit(X_train_upsampled, y_train_upsampled)\n",
    " \n",
    "print(\"Best params: \", randomizedsearch.best_params_)\n",
    "print(\"Best score: \", randomizedsearch.best_score_)\n",
    "print()\n",
    "\n",
    "rs_prediction_upsampled = best_model.predict(X_test_upsampled)\n",
    "\n",
    "# model evaluation\n",
    "evaluate_model(y_test_upsampled, rs_prediction_upsampled)\n",
    "\n",
    "# Create confusion matrix\n",
    "matrix = confusion_matrix(y_test_upsampled, rs_prediction_upsampled)\n",
    "\n",
    "plot_conf_matrix(matrix)\n",
    "\n",
    "auc_roc_plot(y_test_upsampled, rs_prediction_upsampled)"
   ]
  },
  {
   "cell_type": "markdown",
   "id": "428cfbda",
   "metadata": {},
   "source": [
    "### Efekat velicine dataseta"
   ]
  },
  {
   "cell_type": "code",
   "execution_count": 95,
   "id": "86769597",
   "metadata": {},
   "outputs": [
    {
     "data": {
      "image/png": "[encoded data removed]",
      "text/plain": [
       "<Figure size 576x396 with 1 Axes>"
      ]
     },
     "metadata": {},
     "output_type": "display_data"
    }
   ],
   "source": [
    "gb_classifier = GradientBoostingClassifier()\n",
    "gb_classifier.set_params(**best_model.best_estimator_.get_params())\n",
    "\n",
    "train_sizes, train_scores, test_scores = learning_curve(gb_classifier, X_train_upsampled, y_train_upsampled, cv=5,\n",
    "    scoring='accuracy', n_jobs=-1, train_sizes=np.linspace(0.01, 1.0, 50))\n",
    "\n",
    "# Create means and standard deviations of training set scores\n",
    "train_mean = np.mean(train_scores, axis=1)\n",
    "train_std = np.std(train_scores, axis=1)\n",
    "\n",
    "# Create means and standard deviations of test set scores\n",
    "test_mean = np.mean(test_scores, axis=1)\n",
    "test_std = np.std(test_scores, axis=1)\n",
    "\n",
    "# Draw lines\n",
    "plt.plot(train_sizes, train_mean, '--', color=\"#111111\", label=\"Training score\")\n",
    "plt.plot(train_sizes, test_mean, color=\"#111111\", label=\"Cross-validation score\")\n",
    "\n",
    "# Draw bands\n",
    "plt.fill_between(train_sizes, train_mean - train_std, train_mean + train_std, color=\"#DDDDDD\")\n",
    "plt.fill_between(train_sizes, test_mean - test_std, test_mean + test_std, color=\"#DDDDDD\")\n",
    "\n",
    "# Create plot\n",
    "plt.title(\"Learning Curve\")\n",
    "plt.xlabel(\"Training Set Size\"), plt.ylabel(\"Accuracy Score\"),\n",
    "plt.legend(loc=\"best\")\n",
    "plt.tight_layout()\n",
    "plt.show()"
   ]
  },
  {
   "cell_type": "markdown",
   "id": "e054242b",
   "metadata": {},
   "source": [
    "### Efekat vrednosti hiperparametara"
   ]
  },
  {
   "cell_type": "code",
   "execution_count": 96,
   "id": "0c7d2748",
   "metadata": {},
   "outputs": [
    {
     "data": {
      "image/png": "[encoded data removed]",
      "text/plain": [
       "<Figure size 576x396 with 1 Axes>"
      ]
     },
     "metadata": {},
     "output_type": "display_data"
    }
   ],
   "source": [
    "gb_classifier = GradientBoostingClassifier()\n",
    "gb_classifier.set_params(**best_model.best_estimator_.get_params())\n",
    "\n",
    "# Create range of values for parameter n_estimators\n",
    "param_range = np.arange(1, 70, 2)\n",
    "\n",
    "# Calculate accuracy on training and test set using range of parameter values\n",
    "train_scores, test_scores = validation_curve(\n",
    " # Classifier\n",
    " gb_classifier,\n",
    " # Feature matrix\n",
    " X_train_upsampled,\n",
    " # Target vector\n",
    " y_train_upsampled,\n",
    " # Hyperparameter to examine\n",
    " param_name=\"n_estimators\",\n",
    " # Range of hyperparameter's values\n",
    " param_range=param_range,\n",
    " # Number of folds\n",
    " cv=3,\n",
    " # Performance metric\n",
    " scoring=\"accuracy\",\n",
    " # Use all computer cores\n",
    " n_jobs=-1)\n",
    "\n",
    "# Calculate mean and standard deviation for training set scores\n",
    "train_mean = np.mean(train_scores, axis=1)\n",
    "train_std = np.std(train_scores, axis=1)\n",
    "\n",
    "# Calculate mean and standard deviation for test set scores\n",
    "test_mean = np.mean(test_scores, axis=1)\n",
    "test_std = np.std(test_scores, axis=1)\n",
    "\n",
    "# Plot mean accuracy scores for training and test sets\n",
    "plt.plot(param_range, train_mean, label=\"Training score\", color=\"black\")\n",
    "plt.plot(param_range, test_mean, label=\"Cross-validation score\", color=\"dimgrey\")\n",
    "\n",
    "# Plot accurancy bands for training and test sets\n",
    "plt.fill_between(param_range, train_mean - train_std, train_mean + train_std, color=\"gray\")\n",
    "plt.fill_between(param_range, test_mean - test_std, test_mean + test_std, color=\"gainsboro\")\n",
    "\n",
    "# Create plot\n",
    "plt.title(\"Validation Curve With Gradient boosting\")\n",
    "plt.xlabel(\"Number Of Trees\")\n",
    "plt.ylabel(\"Accuracy Score\")\n",
    "plt.tight_layout()\n",
    "plt.legend(loc=\"lower right\")\n",
    "plt.show()"
   ]
  },
  {
   "cell_type": "markdown",
   "id": "6cf1aa5c",
   "metadata": {},
   "source": [
    "### Znacaj karakteristika"
   ]
  },
  {
   "cell_type": "code",
   "execution_count": 98,
   "id": "270ea26d",
   "metadata": {},
   "outputs": [
    {
     "data": {
      "image/png": "[encoded data removed]",
      "text/plain": [
       "<Figure size 576x396 with 1 Axes>"
      ]
     },
     "metadata": {},
     "output_type": "display_data"
    }
   ],
   "source": [
    "# Calculate feature importances\n",
    "importances = best_model.best_estimator_.feature_importances_\n",
    "\n",
    "# Sort feature importances in descending order\n",
    "indices = np.argsort(importances)[::-1]\n",
    "\n",
    "# Rearrange feature names so they match the sorted feature importances\n",
    "names = [data_df.columns[i] for i in indices]\n",
    "\n",
    "# Create plot\n",
    "plt.figure()\n",
    "\n",
    "# Create plot title\n",
    "plt.title(\"Feature Importance\")\n",
    "\n",
    "# Add bars\n",
    "plt.bar(range(X_train_upsampled.shape[1]), importances[indices])\n",
    "\n",
    "# Add feature names as x-axis labels\n",
    "plt.xticks(range(X_train_upsampled.shape[1]), names, rotation=90)\n",
    "\n",
    "# Show plot\n",
    "plt.show()"
   ]
  },
  {
   "cell_type": "markdown",
   "id": "37b08786",
   "metadata": {},
   "source": [
    "### Dimensionality reduction RFE "
   ]
  },
  {
   "cell_type": "code",
   "execution_count": 99,
   "id": "0c7f967a",
   "metadata": {},
   "outputs": [
    {
     "name": "stdout",
     "output_type": "stream",
     "text": [
      "Age\n",
      "Gender\n",
      "Polyuria\n",
      "Polydipsia\n",
      "Irritability\n"
     ]
    }
   ],
   "source": [
    "gb_classifier = GradientBoostingClassifier()\n",
    "gb_classifier.set_params(**best_model.best_estimator_.get_params()) \n",
    "\n",
    "rfe_model = RFE(gb_classifier, n_features_to_select = 5)\n",
    "\n",
    "rfe_prediction = rfe_model.fit(X_train_upsampled, y_train_upsampled)\n",
    "feature_list = rfe_prediction.get_support(indices=True)\n",
    "key_columns = []\n",
    "for feature in feature_list:\n",
    "    print(df_upsampled.columns[feature])\n",
    "    key_columns.append(df_upsampled.columns[feature])\n",
    "key_columns.append(\"class\")"
   ]
  },
  {
   "cell_type": "code",
   "execution_count": 100,
   "id": "036765fd",
   "metadata": {},
   "outputs": [
    {
     "data": {
      "text/html": [
       "<div>\n",
       "<style scoped>\n",
       "    .dataframe tbody tr th:only-of-type {\n",
       "        vertical-align: middle;\n",
       "    }\n",
       "\n",
       "    .dataframe tbody tr th {\n",
       "        vertical-align: top;\n",
       "    }\n",
       "\n",
       "    .dataframe thead th {\n",
       "        text-align: right;\n",
       "    }\n",
       "</style>\n",
       "<table border=\"1\" class=\"dataframe\">\n",
       "  <thead>\n",
       "    <tr style=\"text-align: right;\">\n",
       "      <th></th>\n",
       "      <th>Age</th>\n",
       "      <th>Gender</th>\n",
       "      <th>Polyuria</th>\n",
       "      <th>Polydipsia</th>\n",
       "      <th>Irritability</th>\n",
       "      <th>class</th>\n",
       "    </tr>\n",
       "  </thead>\n",
       "  <tbody>\n",
       "    <tr>\n",
       "      <th>0</th>\n",
       "      <td>40</td>\n",
       "      <td>1</td>\n",
       "      <td>0</td>\n",
       "      <td>1</td>\n",
       "      <td>0</td>\n",
       "      <td>1</td>\n",
       "    </tr>\n",
       "    <tr>\n",
       "      <th>1</th>\n",
       "      <td>58</td>\n",
       "      <td>1</td>\n",
       "      <td>0</td>\n",
       "      <td>0</td>\n",
       "      <td>0</td>\n",
       "      <td>1</td>\n",
       "    </tr>\n",
       "    <tr>\n",
       "      <th>2</th>\n",
       "      <td>41</td>\n",
       "      <td>1</td>\n",
       "      <td>1</td>\n",
       "      <td>0</td>\n",
       "      <td>0</td>\n",
       "      <td>1</td>\n",
       "    </tr>\n",
       "    <tr>\n",
       "      <th>3</th>\n",
       "      <td>45</td>\n",
       "      <td>1</td>\n",
       "      <td>0</td>\n",
       "      <td>0</td>\n",
       "      <td>0</td>\n",
       "      <td>1</td>\n",
       "    </tr>\n",
       "    <tr>\n",
       "      <th>4</th>\n",
       "      <td>60</td>\n",
       "      <td>1</td>\n",
       "      <td>1</td>\n",
       "      <td>1</td>\n",
       "      <td>1</td>\n",
       "      <td>1</td>\n",
       "    </tr>\n",
       "  </tbody>\n",
       "</table>\n",
       "</div>"
      ],
      "text/plain": [
       "   Age  Gender  Polyuria  Polydipsia  Irritability  class\n",
       "0   40       1         0           1             0      1\n",
       "1   58       1         0           0             0      1\n",
       "2   41       1         1           0             0      1\n",
       "3   45       1         0           0             0      1\n",
       "4   60       1         1           1             1      1"
      ]
     },
     "execution_count": 100,
     "metadata": {},
     "output_type": "execute_result"
    }
   ],
   "source": [
    "remove_cols = []\n",
    "df_rfe = df_upsampled.copy(deep=True)\n",
    "for column in df_rfe.columns:\n",
    "    if column not in key_columns:\n",
    "        remove_cols.append(column)\n",
    "        \n",
    "rfe_removed = df_rfe.drop(remove_cols, axis=1)\n",
    "rfe_removed.head()"
   ]
  },
  {
   "cell_type": "code",
   "execution_count": 102,
   "id": "e9b4347c",
   "metadata": {},
   "outputs": [
    {
     "name": "stdout",
     "output_type": "stream",
     "text": [
      "Accuracy :  0.9453125\n",
      "F1 Score:  0.9357798165137615\n",
      "Precision:  0.9622641509433962\n",
      "Recall:  0.9107142857142857\n",
      "Confuse matrix:\n",
      "[[70  2]\n",
      " [ 5 51]]\n",
      "True positive:  51\n",
      "False positive:  2\n",
      "True negative:  70\n",
      "False negative:  5\n",
      "Sensitivity:  0.9107142857142857\n",
      "Specificity:  0.9722222222222222\n"
     ]
    },
    {
     "data": {
      "image/png": "[encoded data removed]",
      "text/plain": [
       "<Figure size 576x396 with 1 Axes>"
      ]
     },
     "metadata": {},
     "output_type": "display_data"
    }
   ],
   "source": [
    "X = rfe_removed.drop(\"class\", axis = 1).values\n",
    "y = rfe_removed[\"class\"].values\n",
    "X_train_rfe, X_test_rfe, y_train_rfe, y_test_rfe = train_test_split(X, y, test_size = 0.2, random_state = 1)\n",
    "\n",
    "rfe_best_model = GradientBoostingClassifier()\n",
    "rfe_best_model.set_params(**best_model.best_estimator_.get_params())\n",
    "rfe_best_model.fit(X_train_rfe, y_train_rfe)\n",
    "rfe_prediction = rfe_best_model.predict(X_test_rfe)\n",
    "\n",
    "evaluate_model(y_test_upsampled, rfe_prediction)\n",
    "\n",
    "auc_roc_plot(y_test_upsampled, rfe_prediction)"
   ]
  },
  {
   "cell_type": "markdown",
   "id": "5ad7771b",
   "metadata": {},
   "source": [
    "### Dimensionality reduktion PCA"
   ]
  },
  {
   "cell_type": "code",
   "execution_count": 104,
   "id": "dcc45151",
   "metadata": {},
   "outputs": [
    {
     "name": "stdout",
     "output_type": "stream",
     "text": [
      "Accuracy :  0.9609375\n",
      "F1 Score:  0.9557522123893805\n",
      "Precision:  0.9473684210526315\n",
      "Recall:  0.9642857142857143\n",
      "Confuse matrix:\n",
      "[[69  3]\n",
      " [ 2 54]]\n",
      "True positive:  54\n",
      "False positive:  3\n",
      "True negative:  69\n",
      "False negative:  2\n",
      "Sensitivity:  0.9642857142857143\n",
      "Specificity:  0.9583333333333334\n"
     ]
    },
    {
     "data": {
      "image/png": "[encoded data removed]",
      "text/plain": [
       "<Figure size 576x396 with 1 Axes>"
      ]
     },
     "metadata": {},
     "output_type": "display_data"
    }
   ],
   "source": [
    "pca = PCA(n_components = 6)\n",
    "X_train_upsampled_pca = pca.fit_transform(X_train_upsampled)\n",
    "X_test_upsampled_pca = pca.transform(X_test_upsampled)\n",
    "\n",
    "gb_classifier = GradientBoostingClassifier()\n",
    "gb_classifier.set_params(**best_model.best_estimator_.get_params()) \n",
    "\n",
    "gb_classifier.fit(X_train_upsampled_pca, y_train_upsampled)\n",
    "pca_prediction = gb_classifier.predict(X_test_upsampled_pca)\n",
    "\n",
    "evaluate_model(y_test_upsampled, pca_prediction)\n",
    "\n",
    "auc_roc_plot(y_test_upsampled, pca_prediction)"
   ]
  },
  {
   "cell_type": "markdown",
   "id": "bb97cfbd",
   "metadata": {},
   "source": [
    "## Logistic regression"
   ]
  },
  {
   "cell_type": "code",
   "execution_count": 107,
   "id": "ce0d6686",
   "metadata": {},
   "outputs": [
    {
     "name": "stdout",
     "output_type": "stream",
     "text": [
      "Accuracy :  0.9296875\n",
      "F1 Score:  0.923076923076923\n",
      "Precision:  0.8852459016393442\n",
      "Recall:  0.9642857142857143\n",
      "Confuse matrix:\n",
      "[[65  7]\n",
      " [ 2 54]]\n",
      "True positive:  54\n",
      "False positive:  7\n",
      "True negative:  65\n",
      "False negative:  2\n",
      "Sensitivity:  0.9642857142857143\n",
      "Specificity:  0.9027777777777778\n"
     ]
    },
    {
     "data": {
      "image/png": "[encoded data removed]",
      "text/plain": [
       "<Figure size 576x396 with 1 Axes>"
      ]
     },
     "metadata": {},
     "output_type": "display_data"
    }
   ],
   "source": [
    "scaler = StandardScaler()\n",
    "lg_classifier = LogisticRegression()\n",
    "\n",
    "X_train_upsampled_transformed = scaler.fit_transform(X_train_upsampled)\n",
    "X_test_upsampled_transformed = scaler.transform(X_test_upsampled)\n",
    "\n",
    "lg_classifier.fit(X_train_upsampled_transformed, y_train_upsampled)\n",
    "lg_prediction_upsampled = lg_classifier.predict(X_test_upsampled_transformed)\n",
    "\n",
    "# model evaluation\n",
    "evaluate_model(y_test_upsampled, lg_prediction_upsampled)\n",
    "\n",
    "# Create confusion matrix\n",
    "matrix = confusion_matrix(y_test_upsampled, lg_prediction_upsampled)\n",
    "plot_conf_matrix(matrix)"
   ]
  },
  {
   "cell_type": "markdown",
   "id": "3ff2a102",
   "metadata": {},
   "source": [
    "### Podesavanje hiperparametara koriscenjem Grid search"
   ]
  },
  {
   "cell_type": "code",
   "execution_count": 110,
   "id": "eebceca6",
   "metadata": {},
   "outputs": [
    {
     "name": "stdout",
     "output_type": "stream",
     "text": [
      "Best params:  {'C': 1.0, 'penalty': 'l2', 'solver': 'liblinear'}\n",
      "Best score:  0.9179897201599087\n",
      "\n",
      "Accuracy :  0.9375\n",
      "F1 Score:  0.9310344827586207\n",
      "Precision:  0.9\n",
      "Recall:  0.9642857142857143\n",
      "Confuse matrix:\n",
      "[[66  6]\n",
      " [ 2 54]]\n",
      "True positive:  54\n",
      "False positive:  6\n",
      "True negative:  66\n",
      "False negative:  2\n",
      "Sensitivity:  0.9642857142857143\n",
      "Specificity:  0.9166666666666666\n"
     ]
    },
    {
     "data": {
      "image/png": "[encoded data removed]",
      "text/plain": [
       "<Figure size 576x396 with 1 Axes>"
      ]
     },
     "metadata": {},
     "output_type": "display_data"
    },
    {
     "data": {
      "image/png": "[encoded data removed]",
      "text/plain": [
       "<Figure size 576x396 with 1 Axes>"
      ]
     },
     "metadata": {},
     "output_type": "display_data"
    }
   ],
   "source": [
    "scaler = StandardScaler()\n",
    "lr_classifier = LogisticRegression()\n",
    "\n",
    "X_train_upsampled_transformed = scaler.fit_transform(X_train_upsampled)\n",
    "X_test_upsampled_transformed = scaler.transform(X_test_upsampled)\n",
    "\n",
    "solver = ['liblinear']\n",
    "penalty = ['l1', 'l2']\n",
    "C = np.logspace(0, 4, 10)\n",
    "\n",
    "hyperparameters = dict(solver=solver, C=C, penalty=penalty)\n",
    "\n",
    "# Create grid search\n",
    "gridsearch = GridSearchCV(lr_classifier, hyperparameters, cv=5, verbose=0, n_jobs=-1)\n",
    "\n",
    "# Fit grid search\n",
    "gs_best_model = gridsearch.fit(X_train_upsampled_transformed, y_train_upsampled)\n",
    "\n",
    "print(\"Best params: \", gridsearch.best_params_)\n",
    "print(\"Best score: \", gridsearch.best_score_)\n",
    "print()\n",
    "\n",
    "lr_prediction_upsampled = gs_best_model.predict(X_test_upsampled_transformed)\n",
    "\n",
    "# model evaluation\n",
    "evaluate_model(y_test_upsampled, lr_prediction_upsampled)\n",
    "\n",
    "# Create confusion matrix\n",
    "matrix = confusion_matrix(y_test_upsampled, lr_prediction_upsampled)\n",
    "plot_conf_matrix(matrix)\n",
    "\n",
    "# Roc-auc curve\n",
    "auc_roc_plot(y_test_upsampled, lr_prediction_upsampled)"
   ]
  },
  {
   "cell_type": "markdown",
   "id": "a0a2062b",
   "metadata": {},
   "source": [
    "### Redukcija dimenzionalnosti RFE"
   ]
  },
  {
   "cell_type": "code",
   "execution_count": 111,
   "id": "74eeedfd",
   "metadata": {},
   "outputs": [
    {
     "name": "stdout",
     "output_type": "stream",
     "text": [
      "Age\n",
      "Gender\n",
      "Polyuria\n",
      "Polydipsia\n",
      "sudden weight loss\n",
      "Polyphagia\n",
      "Genital thrush\n",
      "visual blurring\n",
      "Itching\n",
      "Irritability\n",
      "delayed healing\n",
      "partial paresis\n",
      "muscle stiffness\n"
     ]
    }
   ],
   "source": [
    "lr_classifier = LogisticRegression()\n",
    "lr_classifier.set_params(**gs_best_model.best_estimator_.get_params())\n",
    "\n",
    "rfe_model = RFE(lr_classifier, n_features_to_select = 13)\n",
    "\n",
    "rfe_prediction = rfe_model.fit(X_train_upsampled_transformed, y_train_upsampled)\n",
    "feature_list = rfe_prediction.get_support(indices=True)\n",
    "key_columns = []\n",
    "for feature in feature_list:\n",
    "    print(df_upsampled.columns[feature])\n",
    "    key_columns.append(df_upsampled.columns[feature])\n",
    "key_columns.append(\"class\")"
   ]
  },
  {
   "cell_type": "code",
   "execution_count": 112,
   "id": "115a3e0a",
   "metadata": {},
   "outputs": [
    {
     "data": {
      "text/html": [
       "<div>\n",
       "<style scoped>\n",
       "    .dataframe tbody tr th:only-of-type {\n",
       "        vertical-align: middle;\n",
       "    }\n",
       "\n",
       "    .dataframe tbody tr th {\n",
       "        vertical-align: top;\n",
       "    }\n",
       "\n",
       "    .dataframe thead th {\n",
       "        text-align: right;\n",
       "    }\n",
       "</style>\n",
       "<table border=\"1\" class=\"dataframe\">\n",
       "  <thead>\n",
       "    <tr style=\"text-align: right;\">\n",
       "      <th></th>\n",
       "      <th>Age</th>\n",
       "      <th>Gender</th>\n",
       "      <th>Polyuria</th>\n",
       "      <th>Polydipsia</th>\n",
       "      <th>sudden weight loss</th>\n",
       "      <th>Polyphagia</th>\n",
       "      <th>Genital thrush</th>\n",
       "      <th>visual blurring</th>\n",
       "      <th>Itching</th>\n",
       "      <th>Irritability</th>\n",
       "      <th>delayed healing</th>\n",
       "      <th>partial paresis</th>\n",
       "      <th>muscle stiffness</th>\n",
       "      <th>class</th>\n",
       "    </tr>\n",
       "  </thead>\n",
       "  <tbody>\n",
       "    <tr>\n",
       "      <th>0</th>\n",
       "      <td>40</td>\n",
       "      <td>1</td>\n",
       "      <td>0</td>\n",
       "      <td>1</td>\n",
       "      <td>0</td>\n",
       "      <td>0</td>\n",
       "      <td>0</td>\n",
       "      <td>0</td>\n",
       "      <td>1</td>\n",
       "      <td>0</td>\n",
       "      <td>1</td>\n",
       "      <td>0</td>\n",
       "      <td>1</td>\n",
       "      <td>1</td>\n",
       "    </tr>\n",
       "    <tr>\n",
       "      <th>1</th>\n",
       "      <td>58</td>\n",
       "      <td>1</td>\n",
       "      <td>0</td>\n",
       "      <td>0</td>\n",
       "      <td>0</td>\n",
       "      <td>0</td>\n",
       "      <td>0</td>\n",
       "      <td>1</td>\n",
       "      <td>0</td>\n",
       "      <td>0</td>\n",
       "      <td>0</td>\n",
       "      <td>1</td>\n",
       "      <td>0</td>\n",
       "      <td>1</td>\n",
       "    </tr>\n",
       "    <tr>\n",
       "      <th>2</th>\n",
       "      <td>41</td>\n",
       "      <td>1</td>\n",
       "      <td>1</td>\n",
       "      <td>0</td>\n",
       "      <td>0</td>\n",
       "      <td>1</td>\n",
       "      <td>0</td>\n",
       "      <td>0</td>\n",
       "      <td>1</td>\n",
       "      <td>0</td>\n",
       "      <td>1</td>\n",
       "      <td>0</td>\n",
       "      <td>1</td>\n",
       "      <td>1</td>\n",
       "    </tr>\n",
       "    <tr>\n",
       "      <th>3</th>\n",
       "      <td>45</td>\n",
       "      <td>1</td>\n",
       "      <td>0</td>\n",
       "      <td>0</td>\n",
       "      <td>1</td>\n",
       "      <td>1</td>\n",
       "      <td>1</td>\n",
       "      <td>0</td>\n",
       "      <td>1</td>\n",
       "      <td>0</td>\n",
       "      <td>1</td>\n",
       "      <td>0</td>\n",
       "      <td>0</td>\n",
       "      <td>1</td>\n",
       "    </tr>\n",
       "    <tr>\n",
       "      <th>4</th>\n",
       "      <td>60</td>\n",
       "      <td>1</td>\n",
       "      <td>1</td>\n",
       "      <td>1</td>\n",
       "      <td>1</td>\n",
       "      <td>1</td>\n",
       "      <td>0</td>\n",
       "      <td>1</td>\n",
       "      <td>1</td>\n",
       "      <td>1</td>\n",
       "      <td>1</td>\n",
       "      <td>1</td>\n",
       "      <td>1</td>\n",
       "      <td>1</td>\n",
       "    </tr>\n",
       "  </tbody>\n",
       "</table>\n",
       "</div>"
      ],
      "text/plain": [
       "   Age  Gender  Polyuria  Polydipsia  sudden weight loss  Polyphagia  \\\n",
       "0   40       1         0           1                   0           0   \n",
       "1   58       1         0           0                   0           0   \n",
       "2   41       1         1           0                   0           1   \n",
       "3   45       1         0           0                   1           1   \n",
       "4   60       1         1           1                   1           1   \n",
       "\n",
       "   Genital thrush  visual blurring  Itching  Irritability  delayed healing  \\\n",
       "0               0                0        1             0                1   \n",
       "1               0                1        0             0                0   \n",
       "2               0                0        1             0                1   \n",
       "3               1                0        1             0                1   \n",
       "4               0                1        1             1                1   \n",
       "\n",
       "   partial paresis  muscle stiffness  class  \n",
       "0                0                 1      1  \n",
       "1                1                 0      1  \n",
       "2                0                 1      1  \n",
       "3                0                 0      1  \n",
       "4                1                 1      1  "
      ]
     },
     "execution_count": 112,
     "metadata": {},
     "output_type": "execute_result"
    }
   ],
   "source": [
    "remove_cols = []\n",
    "df_rfe = df_upsampled.copy(deep=True)\n",
    "for column in df_rfe.columns:\n",
    "    if column not in key_columns:\n",
    "        remove_cols.append(column)\n",
    "        \n",
    "rfe_removed = df_rfe.drop(remove_cols, axis=1)\n",
    "rfe_removed.head()"
   ]
  },
  {
   "cell_type": "code",
   "execution_count": 114,
   "id": "97c014f7",
   "metadata": {},
   "outputs": [
    {
     "name": "stdout",
     "output_type": "stream",
     "text": [
      "Accuracy :  0.9375\n",
      "F1 Score:  0.9272727272727271\n",
      "Precision:  0.9444444444444444\n",
      "Recall:  0.9107142857142857\n",
      "Confuse matrix:\n",
      "[[69  3]\n",
      " [ 5 51]]\n",
      "True positive:  51\n",
      "False positive:  3\n",
      "True negative:  69\n",
      "False negative:  5\n",
      "Sensitivity:  0.9107142857142857\n",
      "Specificity:  0.9583333333333334\n"
     ]
    },
    {
     "data": {
      "image/png": "[encoded data removed]",
      "text/plain": [
       "<Figure size 576x396 with 1 Axes>"
      ]
     },
     "metadata": {},
     "output_type": "display_data"
    }
   ],
   "source": [
    "X = rfe_removed.drop(\"class\", axis = 1).values\n",
    "y = rfe_removed[\"class\"].values\n",
    "X_train_rfe, X_test_rfe, y_train_rfe, y_test_rfe = train_test_split(X, y, test_size = 0.2, random_state = 1)\n",
    "\n",
    "lr_classifier = LogisticRegression()\n",
    "lr_classifier.set_params(**gs_best_model.best_estimator_.get_params())\n",
    "lr_classifier.fit(X_train_rfe, y_train_rfe)\n",
    "rfe_prediction = lr_classifier.predict(X_test_rfe)\n",
    "\n",
    "evaluate_model(y_test_upsampled, rfe_prediction)\n",
    "\n",
    "auc_roc_plot(y_test_upsampled, rfe_prediction)"
   ]
  },
  {
   "cell_type": "markdown",
   "id": "a2034279",
   "metadata": {},
   "source": [
    "### Redukcija dimenzionalnosti PCA"
   ]
  },
  {
   "cell_type": "code",
   "execution_count": 116,
   "id": "120c60c6",
   "metadata": {},
   "outputs": [
    {
     "name": "stdout",
     "output_type": "stream",
     "text": [
      "Accuracy :  0.9453125\n",
      "F1 Score:  0.9369369369369368\n",
      "Precision:  0.9454545454545454\n",
      "Recall:  0.9285714285714286\n",
      "Confuse matrix:\n",
      "[[69  3]\n",
      " [ 4 52]]\n",
      "True positive:  52\n",
      "False positive:  3\n",
      "True negative:  69\n",
      "False negative:  4\n",
      "Sensitivity:  0.9285714285714286\n",
      "Specificity:  0.9583333333333334\n"
     ]
    },
    {
     "data": {
      "image/png": "[encoded data removed]",
      "text/plain": [
       "<Figure size 576x396 with 1 Axes>"
      ]
     },
     "metadata": {},
     "output_type": "display_data"
    }
   ],
   "source": [
    "pca = PCA(n_components = 13)\n",
    "X_train_upsampled_pca = pca.fit_transform(X_train_upsampled_transformed)\n",
    "X_test_upsampled_pca = pca.transform(X_test_upsampled_transformed)\n",
    "\n",
    "lr_classifier = LogisticRegression()\n",
    "lr_classifier.set_params(**gs_best_model.best_estimator_.get_params()) \n",
    "\n",
    "lr_classifier.fit(X_train_upsampled_pca, y_train_upsampled)\n",
    "pca_prediction = lr_classifier.predict(X_test_upsampled_pca)\n",
    "\n",
    "evaluate_model(y_test_upsampled, pca_prediction)\n",
    "\n",
    "auc_roc_plot(y_test_upsampled, pca_prediction)"
   ]
  },
  {
   "cell_type": "code",
   "execution_count": null,
   "id": "3ee10080",
   "metadata": {},
   "outputs": [],
   "source": []
  }
 ],
 "metadata": {
  "kernelspec": {
   "display_name": "Python 3 (ipykernel)",
   "language": "python",
   "name": "python3"
  },
  "language_info": {
   "codemirror_mode": {
    "name": "ipython",
    "version": 3
   },
   "file_extension": ".py",
   "mimetype": "text/x-python",
   "name": "python",
   "nbconvert_exporter": "python",
   "pygments_lexer": "ipython3",
   "version": "3.8.5"
  }
 },
 "nbformat": 4,
 "nbformat_minor": 5
}
