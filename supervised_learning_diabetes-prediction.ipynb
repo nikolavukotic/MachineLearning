{
 "cells": [
  {
   "cell_type": "markdown",
   "id": "b43ca5e0",
   "metadata": {},
   "source": [
    "# Mašinsko učenje\n",
    "## Projekat 1 - Nadgledano učenje\n",
    "### Nikola Vukotić,  Željko Balanović\n",
    "### Dataset: https://archive.ics.uci.edu/ml/datasets/Early+stage+diabetes+risk+prediction+dataset."
   ]
  },
  {
   "cell_type": "code",
   "execution_count": null,
   "id": "ca33d482",
   "metadata": {},
   "outputs": [],
   "source": []
  }
 ],
 "metadata": {
  "kernelspec": {
   "display_name": "Python 3 (ipykernel)",
   "language": "python",
   "name": "python3"
  },
  "language_info": {
   "codemirror_mode": {
    "name": "ipython",
    "version": 3
   },
   "file_extension": ".py",
   "mimetype": "text/x-python",
   "name": "python",
   "nbconvert_exporter": "python",
   "pygments_lexer": "ipython3",
   "version": "3.8.5"
  }
 },
 "nbformat": 4,
 "nbformat_minor": 5
}
